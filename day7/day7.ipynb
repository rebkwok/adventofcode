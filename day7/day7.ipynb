{
 "cells": [
  {
   "cell_type": "code",
   "execution_count": 202,
   "metadata": {},
   "outputs": [],
   "source": [
    "def read_input(filename):\n",
    "    data = []\n",
    "    with open(filename) as input:\n",
    "        for line in input.readlines():\n",
    "            splitline1 = line.rsplit('Step ', 1)\n",
    "            first = splitline1[1][0]\n",
    "            splitline2 = line.rsplit('step ', 1)\n",
    "            second = splitline2[1][0]\n",
    "            data.append((first, second))\n",
    "    return data\n",
    "            \n"
   ]
  },
  {
   "cell_type": "code",
   "execution_count": 203,
   "metadata": {},
   "outputs": [],
   "source": [
    "def find_prerequisites(data):\n",
    "    prerequisites = {}\n",
    "    prerequisite_steps = list(zip(*data))[0]\n",
    "    for step_prerequisite in data:\n",
    "        prerequisite, step = step_prerequisite\n",
    "        prerequisites.setdefault(step, []).append(prerequisite)\n",
    "        \n",
    "    prerequisites_copy = {**prerequisites}\n",
    "    \n",
    "    for step in prerequisite_steps:\n",
    "        if step not in prerequisites_copy.keys():\n",
    "            prerequisites[step] = []\n",
    "    \n",
    "    return prerequisites"
   ]
  },
  {
   "cell_type": "code",
   "execution_count": 204,
   "metadata": {},
   "outputs": [],
   "source": [
    "def get_task_order(prerequisite_dict):\n",
    "    task_order = []\n",
    "    while True:\n",
    "        no_prereq = sorted([key for key, val in prerequisite_dict.items() if not val])\n",
    "        if not no_prereq:\n",
    "            break\n",
    "        task = no_prereq[0]\n",
    "        task_order.append(task)\n",
    "        del prerequisites[task]\n",
    "        for step, prereq  in prerequisite_dict.items():\n",
    "            if task in prereq:\n",
    "                prereq.remove(task)\n",
    "    return ''.join(task_order)"
   ]
  },
  {
   "cell_type": "code",
   "execution_count": 209,
   "metadata": {},
   "outputs": [],
   "source": [
    "data = read_input('day7input.txt')"
   ]
  },
  {
   "cell_type": "code",
   "execution_count": 210,
   "metadata": {},
   "outputs": [],
   "source": [
    "prerequisites = find_prerequisites(data)"
   ]
  },
  {
   "cell_type": "code",
   "execution_count": 211,
   "metadata": {},
   "outputs": [],
   "source": [
    "tasks = get_task_order(prerequisites)\n"
   ]
  },
  {
   "cell_type": "code",
   "execution_count": 212,
   "metadata": {},
   "outputs": [
    {
     "data": {
      "text/plain": [
       "'JDEKPFABTUHOQSXVYMLZCNIGRW'"
      ]
     },
     "execution_count": 212,
     "metadata": {},
     "output_type": "execute_result"
    }
   ],
   "source": [
    "tasks"
   ]
  },
  {
   "cell_type": "code",
   "execution_count": null,
   "metadata": {},
   "outputs": [],
   "source": []
  }
 ],
 "metadata": {
  "kernelspec": {
   "display_name": "Python 3",
   "language": "python",
   "name": "python3"
  },
  "language_info": {
   "codemirror_mode": {
    "name": "ipython",
    "version": 3
   },
   "file_extension": ".py",
   "mimetype": "text/x-python",
   "name": "python",
   "nbconvert_exporter": "python",
   "pygments_lexer": "ipython3",
   "version": "3.6.6"
  }
 },
 "nbformat": 4,
 "nbformat_minor": 2
}
