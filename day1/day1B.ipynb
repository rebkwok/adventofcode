{
 "cells": [
  {
   "cell_type": "code",
   "execution_count": 54,
   "metadata": {},
   "outputs": [],
   "source": [
    "test1 = [+1, -1]"
   ]
  },
  {
   "cell_type": "code",
   "execution_count": 55,
   "metadata": {},
   "outputs": [],
   "source": [
    "test2 = [+3, +3, +4, -2, -4]"
   ]
  },
  {
   "cell_type": "code",
   "execution_count": 56,
   "metadata": {},
   "outputs": [],
   "source": [
    "test3 = [-6, +3, +8, +5, -6]"
   ]
  },
  {
   "cell_type": "code",
   "execution_count": 57,
   "metadata": {},
   "outputs": [],
   "source": [
    "test4 = [+7, +7, -2, -7, -4]"
   ]
  },
  {
   "cell_type": "code",
   "execution_count": 58,
   "metadata": {},
   "outputs": [],
   "source": [
    "with open('day1input.txt') as input:\n",
    "    lines = input.read().splitlines()"
   ]
  },
  {
   "cell_type": "code",
   "execution_count": 59,
   "metadata": {},
   "outputs": [],
   "source": [
    "def add_to_counts(frequency, frequency_count):\n",
    "    if abs(frequency) >= len(frequency_count):\n",
    "        extra_needed = abs(frequency) - len(frequency_count) + 1\n",
    "        frequency_count += bytearray(extra_needed)\n",
    "    frequency_count[abs(frequency)] += 1\n",
    "    if frequency_count[abs(frequency)] == 2:\n",
    "        return True\n",
    "    return False"
   ]
  },
  {
   "cell_type": "code",
   "execution_count": 60,
   "metadata": {},
   "outputs": [],
   "source": [
    "def run_frequency(lines, frequency):\n",
    "    duplicate_found = False\n",
    "    for line in lines:\n",
    "        frequency += int(line)\n",
    "        if frequency >= 0:\n",
    "            duplicate_found = add_to_counts(frequency, POSITIVE_FREQUENCY_COUNTS)\n",
    "        else:\n",
    "            duplicate_found = add_to_counts(frequency, NEGATIVE_FREQUENCY_COUNTS)\n",
    "        if duplicate_found:\n",
    "            return frequency, duplicate_found\n",
    "    return frequency, duplicate_found"
   ]
  },
  {
   "cell_type": "code",
   "execution_count": 61,
   "metadata": {},
   "outputs": [
    {
     "name": "stdout",
     "output_type": "stream",
     "text": [
      "iterations: 145\n",
      "frequency: 137041\n"
     ]
    }
   ],
   "source": [
    "POSITIVE_FREQUENCY_COUNTS = bytearray([1]) + bytearray(1000)\n",
    "NEGATIVE_FREQUENCY_COUNTS = bytearray(1000)\n",
    "iteration  = 0\n",
    "frequency = 0\n",
    "while True:\n",
    "    iteration += 1\n",
    "    frequency, duplicate_found = run_frequency(lines, frequency)\n",
    "    if duplicate_found:\n",
    "        print('iterations: {}'.format(iteration))\n",
    "        break\n",
    "print('frequency: {}'.format(frequency))"
   ]
  },
  {
   "cell_type": "code",
   "execution_count": 62,
   "metadata": {},
   "outputs": [],
   "source": [
    "def check_for_duplicates(start_frequency, frequencies):\n",
    "    duplicate_found = False\n",
    "    new_frequency = start_frequency\n",
    "    for frequency in frequencies:\n",
    "        new_frequency += int(frequency)\n",
    "        if new_frequency in SEEN:\n",
    "            duplicate_found = True\n",
    "            return new_frequency, duplicate_found\n",
    "        SEEN.add(new_frequency)\n",
    "    return new_frequency, duplicate_found"
   ]
  },
  {
   "cell_type": "code",
   "execution_count": 63,
   "metadata": {},
   "outputs": [
    {
     "name": "stdout",
     "output_type": "stream",
     "text": [
      "iterations: 145\n",
      "frequency: 137041\n"
     ]
    }
   ],
   "source": [
    "SEEN = set([0])\n",
    "iteration  = 0\n",
    "frequency = 0\n",
    "while True:\n",
    "    iteration += 1\n",
    "    frequency, duplicate_found = check_for_duplicates(frequency, lines)\n",
    "    if duplicate_found is True:\n",
    "        print('iterations: {}'.format(iteration))\n",
    "        break\n",
    "    \n",
    "print('frequency: {}'.format(frequency))"
   ]
  },
  {
   "cell_type": "code",
   "execution_count": null,
   "metadata": {},
   "outputs": [],
   "source": [
    ""
   ]
  },
  {
   "cell_type": "code",
   "execution_count": null,
   "metadata": {},
   "outputs": [],
   "source": [
    ""
   ]
  }
 ],
 "metadata": {
  "kernelspec": {
   "display_name": "Python 3",
   "language": "python",
   "name": "python3"
  },
  "language_info": {
   "codemirror_mode": {
    "name": "ipython",
    "version": 3.0
   },
   "file_extension": ".py",
   "mimetype": "text/x-python",
   "name": "python",
   "nbconvert_exporter": "python",
   "pygments_lexer": "ipython3",
   "version": "3.6.6"
  }
 },
 "nbformat": 4,
 "nbformat_minor": 2
}