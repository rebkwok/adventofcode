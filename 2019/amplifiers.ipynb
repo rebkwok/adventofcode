{
 "cells": [
  {
   "cell_type": "code",
   "execution_count": 2,
   "metadata": {},
   "outputs": [],
   "source": [
    "from ipynb.fs.full.opcode import Opcoder"
   ]
  },
  {
   "cell_type": "code",
   "execution_count": 3,
   "metadata": {},
   "outputs": [],
   "source": [
    "def run_sequence(program, phase_sequence):\n",
    "    amps = [Opcoder(program) for phase in phase_sequence]\n",
    "    for phase, amp in zip(phase_sequence, amps):\n",
    "        amp.add_input(phase)\n",
    "    amps[0].add_input(0)\n",
    "    \n",
    "    for i, amp in enumerate(amps):\n",
    "        if i > 0: \n",
    "            amp.add_input(amps[i - 1].output[-1])\n",
    "    return amps[4].output[-1]"
   ]
  },
  {
   "cell_type": "code",
   "execution_count": 4,
   "metadata": {},
   "outputs": [],
   "source": [
    "def run_feedback_sequence(program, phase_sequence):\n",
    "    amps = [Opcoder(program) for phase in phase_sequence]\n",
    "    for phase, amp in zip(phase_sequence, amps):\n",
    "        amp.add_input(phase)\n",
    "    amps[0].add_input(0)\n",
    "\n",
    "    while amps[4].done is False:\n",
    "        for i, amp in enumerate(amps):\n",
    "            amps[(i+1) % 5].add_input(amp.output[-1])\n",
    "\n",
    "    return amps[4].output[-1]"
   ]
  },
  {
   "cell_type": "code",
   "execution_count": null,
   "metadata": {},
   "outputs": [],
   "source": []
  }
 ],
 "metadata": {
  "kernelspec": {
   "display_name": "Python 3",
   "language": "python",
   "name": "python3"
  },
  "language_info": {
   "codemirror_mode": {
    "name": "ipython",
    "version": 3
   },
   "file_extension": ".py",
   "mimetype": "text/x-python",
   "name": "python",
   "nbconvert_exporter": "python",
   "pygments_lexer": "ipython3",
   "version": "3.7.1"
  }
 },
 "nbformat": 4,
 "nbformat_minor": 2
}
