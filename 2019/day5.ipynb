{
 "cells": [
  {
   "cell_type": "code",
   "execution_count": 273,
   "metadata": {},
   "outputs": [],
   "source": [
    "from ipynb.fs.full.utils import read_test_input\n",
    "from itertools import permutations"
   ]
  },
  {
   "cell_type": "code",
   "execution_count": 324,
   "metadata": {},
   "outputs": [],
   "source": [
    "filename = \"day5_input.txt\""
   ]
  },
  {
   "cell_type": "code",
   "execution_count": 341,
   "metadata": {},
   "outputs": [],
   "source": [
    "read_input = read_test_input(filename)"
   ]
  },
  {
   "cell_type": "code",
   "execution_count": 342,
   "metadata": {},
   "outputs": [],
   "source": [
    "read_input = read_input[0].split(',')"
   ]
  },
  {
   "cell_type": "code",
   "execution_count": 343,
   "metadata": {},
   "outputs": [],
   "source": [
    "read_input = [int(val) for val in input]"
   ]
  },
  {
   "cell_type": "code",
   "execution_count": 344,
   "metadata": {},
   "outputs": [],
   "source": [
    "def get_value(total_input, param, mode):\n",
    "    if mode == 0:\n",
    "        return total_input[param]\n",
    "    elif mode == 1:\n",
    "        return param\n",
    "    else:\n",
    "        raise Exception(\"invalid mode\")"
   ]
  },
  {
   "cell_type": "code",
   "execution_count": 345,
   "metadata": {},
   "outputs": [],
   "source": [
    "def add(total_input, *args, input=None):\n",
    "    param_value1, param_value2, output = args # these ar 2-tuples\n",
    "    result = get_value(total_input, *param_value1) + get_value(total_input, *param_value2)\n",
    "    output_position = output[0]\n",
    "    total_input[output_position] = result"
   ]
  },
  {
   "cell_type": "code",
   "execution_count": 346,
   "metadata": {},
   "outputs": [],
   "source": [
    "def multiply(total_input, *args, input=None):\n",
    "    param_value1, param_value2, output = args # these ar 2-tuples\n",
    "    result = get_value(total_input, *param_value1) * get_value(total_input, *param_value2)\n",
    "    output_position = output[0]\n",
    "    total_input[output_position] = result"
   ]
  },
  {
   "cell_type": "code",
   "execution_count": 347,
   "metadata": {},
   "outputs": [],
   "source": [
    "def store(total_input, pos, input=None):\n",
    "    output_position = pos[0]\n",
    "    total_input[output_position] = input"
   ]
  },
  {
   "cell_type": "code",
   "execution_count": 348,
   "metadata": {},
   "outputs": [],
   "source": [
    "def output(total_input, pos, input=None):\n",
    "    return get_value(total_input, *pos)"
   ]
  },
  {
   "cell_type": "code",
   "execution_count": 349,
   "metadata": {},
   "outputs": [],
   "source": [
    "def exit(total_input, input=None):\n",
    "    return \"Exit\""
   ]
  },
  {
   "cell_type": "code",
   "execution_count": 350,
   "metadata": {},
   "outputs": [],
   "source": [
    "INSTRUCTIONS = {\n",
    "    1: {\"fn\": add, \"number_of_parameters\": 3},\n",
    "    2: {\"fn\": multiply, \"number_of_parameters\": 3},\n",
    "    3: {\"fn\": store, \"number_of_parameters\": 1},\n",
    "    4: {\"fn\": output, \"number_of_parameters\": 1},\n",
    "    99: {\"fn\": exit, \"number_of_parameters\": 0},\n",
    "}"
   ]
  },
  {
   "cell_type": "code",
   "execution_count": 351,
   "metadata": {},
   "outputs": [],
   "source": [
    "PARAMETER_MODES = {\n",
    "    0: \"position\", # parameter to be interpreted as a position\n",
    "    1: \"immediate\" # parameter to be interpreted as a value\n",
    "}"
   ]
  },
  {
   "cell_type": "code",
   "execution_count": 400,
   "metadata": {},
   "outputs": [],
   "source": [
    "def read_opcode(opcode: str):\n",
    "    decoded_opcode = {}\n",
    "    decoded_opcode['instruction'] = int(opcode[-2:])\n",
    "    parameter_mode_str = opcode[:-2]\n",
    "    parameter_modes = []\n",
    "    for i in range(1, 4):\n",
    "        try:\n",
    "            parameter_modes.append(int(parameter_mode_str[-i]))\n",
    "        except IndexError:\n",
    "            parameter_modes.append(0)\n",
    "    decoded_opcode[\"parameter_modes\"] = parameter_modes\n",
    "    return decoded_opcode"
   ]
  },
  {
   "cell_type": "code",
   "execution_count": 405,
   "metadata": {},
   "outputs": [],
   "source": [
    "def run_program(total_input, input_val, pointer=0):\n",
    "    if pointer < len(total_input):\n",
    "#         print(pointer)\n",
    "        # find opcode at pointer\n",
    "        opcode = str(total_input[pointer]).zfill(5)\n",
    "        decoded_opcode = read_opcode(opcode)\n",
    "#         print((opcode, decoded_opcode))\n",
    "        instructions = INSTRUCTIONS[decoded_opcode[\"instruction\"]]\n",
    "\n",
    "        first_param_pointer = pointer + 1\n",
    "        parameters = total_input[first_param_pointer: first_param_pointer + instructions[\"number_of_parameters\"]]\n",
    "        parameters_and_modes = list(zip(parameters, decoded_opcode['parameter_modes']))\n",
    "#         print(parameters_and_modes)\n",
    "                                   \n",
    "        result = instructions[\"fn\"](total_input, *parameters_and_modes, input=input_val)\n",
    "        if result == \"Exit\":\n",
    "            return total_input\n",
    "        elif result is not None:\n",
    "            print(result)\n",
    "        pointer += (instructions[\"number_of_parameters\"] + 1)\n",
    "        run_program(total_input, input_val, pointer)\n"
   ]
  },
  {
   "cell_type": "code",
   "execution_count": 406,
   "metadata": {},
   "outputs": [],
   "source": [
    "test_input = [3,0,4,0,99]"
   ]
  },
  {
   "cell_type": "code",
   "execution_count": 407,
   "metadata": {},
   "outputs": [],
   "source": [
    "new_input = list(read_input)"
   ]
  },
  {
   "cell_type": "code",
   "execution_count": 408,
   "metadata": {},
   "outputs": [
    {
     "name": "stdout",
     "output_type": "stream",
     "text": [
      "0\n",
      "0\n",
      "0\n",
      "0\n",
      "0\n",
      "0\n",
      "0\n",
      "0\n",
      "0\n",
      "15508323\n"
     ]
    }
   ],
   "source": [
    "run_program(new_input, 1)"
   ]
  },
  {
   "cell_type": "code",
   "execution_count": null,
   "metadata": {},
   "outputs": [],
   "source": []
  }
 ],
 "metadata": {
  "kernelspec": {
   "display_name": "Python 3",
   "language": "python",
   "name": "python3"
  },
  "language_info": {
   "codemirror_mode": {
    "name": "ipython",
    "version": 3
   },
   "file_extension": ".py",
   "mimetype": "text/x-python",
   "name": "python",
   "nbconvert_exporter": "python",
   "pygments_lexer": "ipython3",
   "version": "3.7.1"
  }
 },
 "nbformat": 4,
 "nbformat_minor": 2
}
