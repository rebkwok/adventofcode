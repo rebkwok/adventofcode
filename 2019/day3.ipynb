{
 "cells": [
  {
   "cell_type": "code",
   "execution_count": 55,
   "metadata": {},
   "outputs": [],
   "source": [
    "from ipynb.fs.full.utils import read_test_input\n",
    "from itertools import permutations"
   ]
  },
  {
   "cell_type": "code",
   "execution_count": 56,
   "metadata": {},
   "outputs": [],
   "source": [
    "filename = \"day3_input.txt\""
   ]
  },
  {
   "cell_type": "code",
   "execution_count": 57,
   "metadata": {},
   "outputs": [],
   "source": [
    "input = read_test_input(filename)"
   ]
  },
  {
   "cell_type": "code",
   "execution_count": 58,
   "metadata": {},
   "outputs": [],
   "source": [
    "def move(starting_xy, instruction):\n",
    "    x = starting_xy[0]\n",
    "    y = starting_xy[1]\n",
    "    direction = instruction[0]\n",
    "    distance = int(instruction[1:])\n",
    "    \n",
    "    coords = []\n",
    "    if direction == 'R':\n",
    "        for i in range(1, distance + 1):\n",
    "            coords.append((x + i, y))\n",
    "    elif direction == 'L':\n",
    "        for i in range(1, distance + 1):\n",
    "            coords.append((x - i, y))\n",
    "    elif direction == 'U':\n",
    "        for i in range(1, distance + 1):\n",
    "            coords.append((x, y + i))\n",
    "    elif direction == 'D':\n",
    "        for i in range(1, distance + 1):\n",
    "            coords.append((x, y - i))\n",
    "    \n",
    "    return coords\n",
    "    \n",
    "    "
   ]
  },
  {
   "cell_type": "code",
   "execution_count": 59,
   "metadata": {},
   "outputs": [],
   "source": [
    "def all_coords(input):\n",
    "    input = input.split(',')\n",
    "    all_coords = []\n",
    "    starting_coords = (0, 0)\n",
    "    for instruction in input:\n",
    "        moved_coords = move(starting_coords, instruction)\n",
    "        all_coords += moved_coords\n",
    "        starting_coords = moved_coords[-1]\n",
    "    return all_coords"
   ]
  },
  {
   "cell_type": "code",
   "execution_count": 60,
   "metadata": {},
   "outputs": [],
   "source": [
    "def find_min_distance(input):\n",
    "    wire1_path = all_coords(input[0])\n",
    "    wire2_path = all_coords(input[1])\n",
    "    intersections = set(wire1_path) & set(wire2_path)\n",
    "    absolute_intersections = [(abs(coord[0]), abs(coord[1])) for coord in intersections]\n",
    "    return min(sum(coords) for coords in absolute_intersections)"
   ]
  },
  {
   "cell_type": "code",
   "execution_count": 54,
   "metadata": {},
   "outputs": [
    {
     "data": {
      "text/plain": [
       "135"
      ]
     },
     "execution_count": 54,
     "metadata": {},
     "output_type": "execute_result"
    }
   ],
   "source": [
    "find_min_distance([\"R98,U47,R26,D63,R33,U87,L62,D20,R33,U53,R51\",\"U98,R91,D20,R16,D67,R40,U7,R15,U6,R7\"])"
   ]
  },
  {
   "cell_type": "code",
   "execution_count": 61,
   "metadata": {},
   "outputs": [
    {
     "data": {
      "text/plain": [
       "1285"
      ]
     },
     "execution_count": 61,
     "metadata": {},
     "output_type": "execute_result"
    }
   ],
   "source": [
    "find_min_distance(input)"
   ]
  },
  {
   "cell_type": "code",
   "execution_count": 65,
   "metadata": {},
   "outputs": [],
   "source": [
    "def find_min_steps(input):\n",
    "    wire1_path = all_coords(input[0])\n",
    "    wire2_path = all_coords(input[1])\n",
    "    intersections = set(wire1_path) & set(wire2_path)\n",
    "    \n",
    "    intersection_steps = {}\n",
    "    \n",
    "    for intersection in intersections:\n",
    "        wire1_steps_to_intersection = wire1_path.index(intersection) + 1\n",
    "        wire2_steps_to_intersection = wire2_path.index(intersection) + 1\n",
    "        intersection_steps[intersection] = wire1_steps_to_intersection + wire2_steps_to_intersection\n",
    "        \n",
    "    return min(intersection_steps.values())\n",
    "    \n",
    "    "
   ]
  },
  {
   "cell_type": "code",
   "execution_count": 67,
   "metadata": {},
   "outputs": [
    {
     "data": {
      "text/plain": [
       "410"
      ]
     },
     "execution_count": 67,
     "metadata": {},
     "output_type": "execute_result"
    }
   ],
   "source": [
    "find_min_steps(['R98,U47,R26,D63,R33,U87,L62,D20,R33,U53,R51', 'U98,R91,D20,R16,D67,R40,U7,R15,U6,R7'])"
   ]
  },
  {
   "cell_type": "code",
   "execution_count": 68,
   "metadata": {},
   "outputs": [
    {
     "data": {
      "text/plain": [
       "14228"
      ]
     },
     "execution_count": 68,
     "metadata": {},
     "output_type": "execute_result"
    }
   ],
   "source": [
    "find_min_steps(input)\n"
   ]
  },
  {
   "cell_type": "code",
   "execution_count": null,
   "metadata": {},
   "outputs": [],
   "source": []
  }
 ],
 "metadata": {
  "kernelspec": {
   "display_name": "Python 3",
   "language": "python",
   "name": "python3"
  },
  "language_info": {
   "codemirror_mode": {
    "name": "ipython",
    "version": 3
   },
   "file_extension": ".py",
   "mimetype": "text/x-python",
   "name": "python",
   "nbconvert_exporter": "python",
   "pygments_lexer": "ipython3",
   "version": "3.7.1"
  }
 },
 "nbformat": 4,
 "nbformat_minor": 2
}
