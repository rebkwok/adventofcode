{
 "cells": [
  {
   "cell_type": "code",
   "execution_count": 1,
   "metadata": {},
   "outputs": [],
   "source": [
    "import numpy"
   ]
  },
  {
   "cell_type": "code",
   "execution_count": 2,
   "metadata": {},
   "outputs": [],
   "source": [
    "with open('day4input.txt') as inputfile:\n",
    "    data = sorted(inputfile.read().splitlines())"
   ]
  },
  {
   "cell_type": "code",
   "execution_count": 3,
   "metadata": {
    "scrolled": false
   },
   "outputs": [],
   "source": [
    "logs_per_guard = {}\n",
    "guard = None\n",
    "sleep_start = None\n",
    "awake = True\n",
    "\n",
    "for entry in data:\n",
    "    split = entry.split(']')\n",
    "    date = split[0].strip('[')\n",
    "    log = split[1].strip()\n",
    "    logtime = date[-2:]\n",
    "    \n",
    "    if log.startswith('Guard'):\n",
    "        \n",
    "        if awake == False:\n",
    "            # new guard, record last guard's final sleep\n",
    "            total_asleep = 59-sleep_start\n",
    "            logs_per_guard[guard]['total'] += total_asleep\n",
    "            for i in range(sleep_start, 60):\n",
    "                logs_per_guard[guard]['mins_asleep'][i] += 1\n",
    "            \n",
    "        splitlog = log.split()\n",
    "        guard = int(splitlog[1].replace(\"#\", ''))\n",
    "        if guard not in logs_per_guard.keys():\n",
    "            logs_per_guard[guard] = {'total': 0, 'mins_asleep': numpy.zeros(60)}\n",
    "    else:\n",
    "        \n",
    "        if log == 'falls asleep':\n",
    "            sleep_start = int(logtime)\n",
    "            awake = False\n",
    "        elif log == 'wakes up':\n",
    "            total_asleep = int(logtime)-sleep_start\n",
    "            logs_per_guard[guard]['total'] += total_asleep\n",
    "            for i in range(sleep_start, int(logtime)):\n",
    "                logs_per_guard[guard]['mins_asleep'][i] += 1\n",
    "            awake = True\n",
    " \n"
   ]
  },
  {
   "cell_type": "code",
   "execution_count": 4,
   "metadata": {},
   "outputs": [
    {
     "data": {
      "text/plain": [
       "{587: {'total': 543,\n",
       "  'mins_asleep': array([ 0.,  0.,  1.,  1.,  2.,  2.,  3.,  4.,  4.,  4.,  4.,  4.,  4.,\n",
       "          5.,  6.,  8.,  8.,  8.,  8.,  8.,  9., 10., 11., 12., 12., 12.,\n",
       "         12., 14., 15., 17., 15., 16., 16., 15., 15., 16., 15., 14., 15.,\n",
       "         14., 14., 15., 15., 14., 12., 11., 11., 13., 12., 12., 10.,  9.,\n",
       "          8.,  7.,  6.,  5.,  4.,  4.,  2.,  0.])},\n",
       " 2113: {'total': 340,\n",
       "  'mins_asleep': array([ 2.,  2.,  3.,  3.,  3.,  5.,  5.,  5.,  5.,  6.,  8.,  8.,  7.,\n",
       "          8.,  8.,  8.,  8.,  8.,  8.,  9., 10.,  9.,  7.,  7.,  7.,  7.,\n",
       "          7.,  7.,  7.,  7.,  7.,  6.,  6.,  6.,  5.,  5.,  5.,  5.,  4.,\n",
       "          4.,  4.,  4.,  5.,  5.,  6.,  6.,  5.,  7.,  7.,  7.,  6.,  5.,\n",
       "          4.,  5.,  5.,  7.,  3.,  2.,  0.,  0.])},\n",
       " 2699: {'total': 344,\n",
       "  'mins_asleep': array([ 0.,  0.,  0.,  0.,  1.,  2.,  2.,  1.,  1.,  1.,  1.,  1.,  1.,\n",
       "          4.,  5.,  5.,  5.,  5.,  5.,  4.,  4.,  5.,  5.,  5.,  5.,  5.,\n",
       "          5.,  5.,  5.,  5.,  5.,  5.,  6.,  6.,  6.,  8.,  8.,  7.,  8.,\n",
       "          9.,  9., 10., 10., 10., 11., 11., 10., 14., 14., 13., 13., 12.,\n",
       "         10., 10.,  7.,  6.,  7.,  4.,  2.,  0.])},\n",
       " 593: {'total': 154,\n",
       "  'mins_asleep': array([0., 0., 0., 1., 3., 3., 4., 4., 4., 4., 4., 4., 3., 3., 4., 4., 4.,\n",
       "         5., 5., 5., 5., 5., 5., 5., 5., 3., 3., 3., 3., 3., 3., 3., 3., 2.,\n",
       "         2., 2., 2., 3., 2., 2., 2., 2., 2., 2., 2., 1., 1., 1., 1., 1., 1.,\n",
       "         1., 1., 2., 2., 2., 0., 1., 1., 0.])},\n",
       " 1543: {'total': 193,\n",
       "  'mins_asleep': array([0., 0., 0., 1., 2., 2., 3., 3., 3., 3., 3., 3., 3., 3., 6., 6., 5.,\n",
       "         5., 5., 4., 4., 3., 3., 3., 3., 3., 3., 3., 3., 3., 3., 4., 4., 2.,\n",
       "         3., 3., 4., 4., 4., 4., 4., 5., 4., 4., 5., 5., 4., 4., 4., 5., 4.,\n",
       "         4., 4., 3., 2., 1., 2., 2., 1., 0.])},\n",
       " 2039: {'total': 258,\n",
       "  'mins_asleep': array([0., 0., 0., 0., 1., 1., 1., 2., 2., 3., 3., 3., 4., 4., 6., 7., 8.,\n",
       "         8., 8., 8., 8., 8., 9., 8., 8., 8., 7., 7., 7., 8., 9., 8., 6., 6.,\n",
       "         6., 5., 4., 4., 4., 5., 5., 5., 3., 4., 4., 4., 4., 3., 5., 4., 3.,\n",
       "         3., 2., 2., 1., 1., 1., 0., 0., 0.])},\n",
       " 1601: {'total': 469,\n",
       "  'mins_asleep': array([ 1.,  2.,  3.,  4.,  5.,  5.,  6.,  6.,  6.,  6.,  6.,  7.,  7.,\n",
       "          7.,  7.,  8.,  8.,  8.,  7.,  7.,  7.,  8.,  9.,  8.,  7.,  7.,\n",
       "          8., 10., 10., 11., 10., 10., 11., 12., 11., 11., 12., 12., 12.,\n",
       "         11., 11., 12., 13., 13., 11., 10.,  8.,  7.,  7.,  7.,  8.,  8.,\n",
       "          7.,  6.,  6.,  6.,  7.,  5.,  4.,  0.])},\n",
       " 1553: {'total': 425,\n",
       "  'mins_asleep': array([ 3.,  3.,  3.,  5.,  5.,  5.,  5.,  5.,  5.,  5.,  6.,  6.,  6.,\n",
       "          6.,  5.,  5.,  5.,  6.,  7.,  8.,  7.,  8.,  8.,  8.,  8.,  8.,\n",
       "          8.,  8.,  8.,  9.,  7.,  8.,  8.,  8.,  9., 10., 10.,  9.,  9.,\n",
       "         10., 10.,  9.,  9., 11., 12., 13., 10., 10.,  9., 10.,  7.,  7.,\n",
       "          6.,  5.,  6.,  5.,  6.,  5.,  3.,  0.])},\n",
       " 1433: {'total': 398,\n",
       "  'mins_asleep': array([ 1.,  1.,  2.,  3.,  3.,  3.,  3.,  4.,  4.,  4.,  4.,  4.,  5.,\n",
       "          5.,  5.,  6.,  6.,  8.,  8.,  8.,  9.,  9.,  8.,  7.,  7.,  7.,\n",
       "          6.,  7.,  6.,  7.,  7.,  7.,  7.,  7.,  6.,  7.,  6.,  6.,  6.,\n",
       "          7.,  9., 10., 11., 11., 10., 10., 10., 10., 11., 11., 11., 12.,\n",
       "         10., 10.,  8.,  6.,  6.,  5.,  1.,  0.])},\n",
       " 3121: {'total': 346,\n",
       "  'mins_asleep': array([ 0.,  0.,  0.,  0.,  2.,  2.,  3.,  2.,  2.,  3.,  3.,  3.,  3.,\n",
       "          4.,  3.,  3.,  4.,  5.,  5.,  5.,  5.,  5.,  7.,  7.,  9., 10.,\n",
       "         10.,  9.,  9.,  8.,  8.,  9.,  9.,  9.,  8.,  9., 10., 11., 10.,\n",
       "          9.,  9.,  9.,  9.,  9.,  9.,  8.,  7.,  7.,  7.,  8.,  8.,  8.,\n",
       "          6.,  5.,  5.,  3.,  4.,  1.,  1.,  0.])},\n",
       " 1549: {'total': 567,\n",
       "  'mins_asleep': array([ 1.,  1.,  1.,  2.,  2.,  2.,  4.,  5.,  5.,  5.,  5.,  5.,  5.,\n",
       "          5.,  8.,  8.,  8.,  8.,  8.,  8.,  8.,  8.,  8.,  9.,  9., 12.,\n",
       "         13., 14., 14., 14., 14., 14., 14., 14., 15., 14., 15., 15., 15.,\n",
       "         15., 15., 16., 15., 15., 14., 14., 14., 12., 13., 13., 12., 12.,\n",
       "         10., 11., 12.,  8.,  7.,  3.,  1.,  0.])},\n",
       " 181: {'total': 230,\n",
       "  'mins_asleep': array([1., 1., 1., 1., 1., 1., 1., 2., 2., 1., 1., 1., 2., 2., 2., 4., 4.,\n",
       "         4., 4., 5., 5., 4., 4., 5., 5., 5., 6., 8., 8., 8., 7., 7., 8., 7.,\n",
       "         7., 7., 7., 7., 7., 7., 6., 6., 6., 5., 5., 5., 5., 2., 2., 2., 1.,\n",
       "         2., 2., 2., 2., 2., 2., 2., 1., 0.])},\n",
       " 229: {'total': 94,\n",
       "  'mins_asleep': array([0., 0., 0., 0., 1., 1., 1., 1., 1., 1., 1., 1., 1., 1., 1., 1., 1.,\n",
       "         1., 1., 1., 1., 1., 1., 1., 1., 1., 1., 0., 2., 2., 2., 1., 1., 1.,\n",
       "         1., 1., 1., 1., 1., 1., 2., 2., 2., 3., 4., 4., 4., 6., 4., 4., 4.,\n",
       "         4., 3., 2., 3., 1., 1., 2., 1., 0.])},\n",
       " 199: {'total': 144,\n",
       "  'mins_asleep': array([1., 1., 1., 1., 1., 1., 2., 1., 1., 1., 1., 1., 1., 2., 2., 2., 2.,\n",
       "         2., 2., 3., 3., 3., 3., 3., 3., 2., 2., 2., 2., 2., 2., 2., 4., 4.,\n",
       "         4., 3., 4., 3., 3., 3., 2., 2., 2., 1., 1., 1., 1., 1., 3., 5., 7.,\n",
       "         6., 5., 6., 4., 3., 3., 4., 1., 0.])},\n",
       " 1423: {'total': 0,\n",
       "  'mins_asleep': array([0., 0., 0., 0., 0., 0., 0., 0., 0., 0., 0., 0., 0., 0., 0., 0., 0.,\n",
       "         0., 0., 0., 0., 0., 0., 0., 0., 0., 0., 0., 0., 0., 0., 0., 0., 0.,\n",
       "         0., 0., 0., 0., 0., 0., 0., 0., 0., 0., 0., 0., 0., 0., 0., 0., 0.,\n",
       "         0., 0., 0., 0., 0., 0., 0., 0., 0.])},\n",
       " 1597: {'total': 485,\n",
       "  'mins_asleep': array([ 0.,  1.,  1.,  2.,  3.,  4.,  4.,  5.,  6.,  7.,  8.,  8.,  6.,\n",
       "          7.,  7.,  7.,  8.,  9.,  9.,  9., 10., 10., 10., 12., 10., 10.,\n",
       "         13., 14., 15., 17., 19., 18., 17., 16., 15., 14., 13., 11.,  9.,\n",
       "          9.,  9.,  9.,  9.,  9.,  9.,  8.,  9.,  7.,  5.,  6.,  5.,  5.,\n",
       "          5.,  4.,  3.,  3.,  4.,  2.,  1.,  0.])},\n",
       " 1489: {'total': 523,\n",
       "  'mins_asleep': array([ 0.,  0.,  0.,  0.,  0.,  0.,  1.,  2.,  3.,  3.,  5.,  7.,  8.,\n",
       "          9., 10.,  9., 10., 10., 10., 10., 10., 10., 11., 11., 12., 13.,\n",
       "         13., 14., 13., 13., 14., 15., 13., 13., 14., 14., 15., 14., 14.,\n",
       "         14., 13., 11., 10.,  9., 11., 11., 11., 10., 10., 10.,  9.,  8.,\n",
       "          8.,  8.,  8.,  8.,  6.,  4.,  1.,  0.])},\n",
       " 1039: {'total': 173,\n",
       "  'mins_asleep': array([0., 0., 0., 0., 0., 0., 0., 0., 0., 0., 1., 1., 1., 1., 1., 1., 1.,\n",
       "         1., 2., 2., 2., 2., 2., 3., 3., 4., 4., 5., 5., 6., 6., 6., 6., 6.,\n",
       "         6., 7., 6., 6., 6., 5., 5., 5., 5., 5., 4., 3., 3., 3., 3., 4., 4.,\n",
       "         4., 3., 3., 3., 3., 2., 2., 1., 0.])},\n",
       " 2927: {'total': 129,\n",
       "  'mins_asleep': array([1., 1., 1., 1., 1., 1., 1., 1., 1., 1., 1., 1., 1., 1., 1., 1., 1.,\n",
       "         1., 1., 1., 2., 2., 2., 2., 2., 2., 2., 2., 2., 2., 2., 2., 2., 2.,\n",
       "         2., 3., 3., 3., 4., 4., 6., 6., 6., 6., 6., 4., 4., 3., 2., 2., 3.,\n",
       "         3., 3., 1., 1., 1., 1., 2., 2., 0.])},\n",
       " 239: {'total': 148,\n",
       "  'mins_asleep': array([0., 1., 1., 1., 1., 2., 4., 4., 4., 3., 3., 3., 3., 3., 3., 3., 3.,\n",
       "         2., 2., 2., 2., 2., 2., 2., 2., 2., 1., 1., 1., 1., 1., 1., 2., 2.,\n",
       "         3., 3., 3., 3., 3., 3., 3., 3., 3., 3., 4., 4., 6., 6., 6., 5., 4.,\n",
       "         2., 2., 1., 1., 1., 2., 3., 1., 0.])},\n",
       " 271: {'total': 0,\n",
       "  'mins_asleep': array([0., 0., 0., 0., 0., 0., 0., 0., 0., 0., 0., 0., 0., 0., 0., 0., 0.,\n",
       "         0., 0., 0., 0., 0., 0., 0., 0., 0., 0., 0., 0., 0., 0., 0., 0., 0.,\n",
       "         0., 0., 0., 0., 0., 0., 0., 0., 0., 0., 0., 0., 0., 0., 0., 0., 0.,\n",
       "         0., 0., 0., 0., 0., 0., 0., 0., 0.])},\n",
       " 2377: {'total': 0,\n",
       "  'mins_asleep': array([0., 0., 0., 0., 0., 0., 0., 0., 0., 0., 0., 0., 0., 0., 0., 0., 0.,\n",
       "         0., 0., 0., 0., 0., 0., 0., 0., 0., 0., 0., 0., 0., 0., 0., 0., 0.,\n",
       "         0., 0., 0., 0., 0., 0., 0., 0., 0., 0., 0., 0., 0., 0., 0., 0., 0.,\n",
       "         0., 0., 0., 0., 0., 0., 0., 0., 0.])},\n",
       " 317: {'total': 149,\n",
       "  'mins_asleep': array([0., 0., 1., 1., 2., 2., 1., 1., 1., 1., 1., 1., 1., 1., 2., 2., 2.,\n",
       "         2., 3., 3., 4., 4., 4., 4., 4., 4., 5., 6., 6., 6., 6., 6., 6., 5.,\n",
       "         4., 4., 4., 3., 2., 3., 3., 2., 2., 2., 2., 3., 2., 2., 1., 1., 2.,\n",
       "         2., 1., 1., 1., 0., 2., 1., 1., 0.])}}"
      ]
     },
     "execution_count": 4,
     "metadata": {},
     "output_type": "execute_result"
    }
   ],
   "source": [
    "logs_per_guard"
   ]
  },
  {
   "cell_type": "code",
   "execution_count": 5,
   "metadata": {},
   "outputs": [],
   "source": [
    "total_asleep = {key: value['total'] for key, value in logs_per_guard.items()}"
   ]
  },
  {
   "cell_type": "code",
   "execution_count": 6,
   "metadata": {},
   "outputs": [
    {
     "data": {
      "text/plain": [
       "{587: 543,\n",
       " 2113: 340,\n",
       " 2699: 344,\n",
       " 593: 154,\n",
       " 1543: 193,\n",
       " 2039: 258,\n",
       " 1601: 469,\n",
       " 1553: 425,\n",
       " 1433: 398,\n",
       " 3121: 346,\n",
       " 1549: 567,\n",
       " 181: 230,\n",
       " 229: 94,\n",
       " 199: 144,\n",
       " 1423: 0,\n",
       " 1597: 485,\n",
       " 1489: 523,\n",
       " 1039: 173,\n",
       " 2927: 129,\n",
       " 239: 148,\n",
       " 271: 0,\n",
       " 2377: 0,\n",
       " 317: 149}"
      ]
     },
     "execution_count": 6,
     "metadata": {},
     "output_type": "execute_result"
    }
   ],
   "source": [
    "total_asleep"
   ]
  },
  {
   "cell_type": "code",
   "execution_count": 7,
   "metadata": {},
   "outputs": [],
   "source": [
    "guard_most_asleep = [guard for guard, val in total_asleep.items() if val == max(total_asleep.values())][0]"
   ]
  },
  {
   "cell_type": "code",
   "execution_count": 8,
   "metadata": {},
   "outputs": [],
   "source": [
    "mins_asleep = logs_per_guard[guard_most_asleep]['mins_asleep']"
   ]
  },
  {
   "cell_type": "code",
   "execution_count": 9,
   "metadata": {},
   "outputs": [
    {
     "data": {
      "text/plain": [
       "array([ 1.,  1.,  1.,  2.,  2.,  2.,  4.,  5.,  5.,  5.,  5.,  5.,  5.,\n",
       "        5.,  8.,  8.,  8.,  8.,  8.,  8.,  8.,  8.,  8.,  9.,  9., 12.,\n",
       "       13., 14., 14., 14., 14., 14., 14., 14., 15., 14., 15., 15., 15.,\n",
       "       15., 15., 16., 15., 15., 14., 14., 14., 12., 13., 13., 12., 12.,\n",
       "       10., 11., 12.,  8.,  7.,  3.,  1.,  0.])"
      ]
     },
     "execution_count": 9,
     "metadata": {},
     "output_type": "execute_result"
    }
   ],
   "source": [
    "mins_asleep"
   ]
  },
  {
   "cell_type": "code",
   "execution_count": 10,
   "metadata": {},
   "outputs": [],
   "source": [
    "minute_most_asleep = list(mins_asleep).index(max(mins_asleep))"
   ]
  },
  {
   "cell_type": "code",
   "execution_count": 11,
   "metadata": {},
   "outputs": [
    {
     "data": {
      "text/plain": [
       "41"
      ]
     },
     "execution_count": 11,
     "metadata": {},
     "output_type": "execute_result"
    }
   ],
   "source": [
    "minute_most_asleep"
   ]
  },
  {
   "cell_type": "code",
   "execution_count": 12,
   "metadata": {},
   "outputs": [
    {
     "data": {
      "text/plain": [
       "1549"
      ]
     },
     "execution_count": 12,
     "metadata": {},
     "output_type": "execute_result"
    }
   ],
   "source": [
    "guard_most_asleep"
   ]
  },
  {
   "cell_type": "code",
   "execution_count": 13,
   "metadata": {},
   "outputs": [
    {
     "data": {
      "text/plain": [
       "63509"
      ]
     },
     "execution_count": 13,
     "metadata": {},
     "output_type": "execute_result"
    }
   ],
   "source": [
    "guard_most_asleep * minute_most_asleep"
   ]
  },
  {
   "cell_type": "code",
   "execution_count": 14,
   "metadata": {},
   "outputs": [],
   "source": [
    "max_min_asleep = {key: max(value['mins_asleep']) for key, value in logs_per_guard.items()}"
   ]
  },
  {
   "cell_type": "code",
   "execution_count": 15,
   "metadata": {},
   "outputs": [
    {
     "data": {
      "text/plain": [
       "{587: 17.0,\n",
       " 2113: 10.0,\n",
       " 2699: 14.0,\n",
       " 593: 5.0,\n",
       " 1543: 6.0,\n",
       " 2039: 9.0,\n",
       " 1601: 13.0,\n",
       " 1553: 13.0,\n",
       " 1433: 12.0,\n",
       " 3121: 11.0,\n",
       " 1549: 16.0,\n",
       " 181: 8.0,\n",
       " 229: 6.0,\n",
       " 199: 7.0,\n",
       " 1423: 0.0,\n",
       " 1597: 19.0,\n",
       " 1489: 15.0,\n",
       " 1039: 7.0,\n",
       " 2927: 6.0,\n",
       " 239: 6.0,\n",
       " 271: 0.0,\n",
       " 2377: 0.0,\n",
       " 317: 6.0}"
      ]
     },
     "execution_count": 15,
     "metadata": {},
     "output_type": "execute_result"
    }
   ],
   "source": [
    "max_min_asleep\n"
   ]
  },
  {
   "cell_type": "code",
   "execution_count": 16,
   "metadata": {},
   "outputs": [
    {
     "data": {
      "text/plain": [
       "1597"
      ]
     },
     "execution_count": 16,
     "metadata": {},
     "output_type": "execute_result"
    }
   ],
   "source": [
    "guard = [guard for guard, val in max_min_asleep.items() if val == max(max_min_asleep.values())][0]\n",
    "guard"
   ]
  },
  {
   "cell_type": "code",
   "execution_count": 17,
   "metadata": {},
   "outputs": [],
   "source": [
    "minute_most_asleep = list(logs_per_guard[guard]['mins_asleep']).index(19.0)"
   ]
  },
  {
   "cell_type": "code",
   "execution_count": 18,
   "metadata": {},
   "outputs": [
    {
     "data": {
      "text/plain": [
       "47910"
      ]
     },
     "execution_count": 18,
     "metadata": {},
     "output_type": "execute_result"
    }
   ],
   "source": [
    "guard * minute_most_asleep"
   ]
  }
 ],
 "metadata": {
  "kernelspec": {
   "display_name": "Python 3",
   "language": "python",
   "name": "python3"
  },
  "language_info": {
   "codemirror_mode": {
    "name": "ipython",
    "version": 3
   },
   "file_extension": ".py",
   "mimetype": "text/x-python",
   "name": "python",
   "nbconvert_exporter": "python",
   "pygments_lexer": "ipython3",
   "version": "3.6.5"
  }
 },
 "nbformat": 4,
 "nbformat_minor": 2
}
