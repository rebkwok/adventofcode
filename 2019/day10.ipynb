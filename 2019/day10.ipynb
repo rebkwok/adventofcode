{
 "cells": [
  {
   "cell_type": "code",
   "execution_count": 6,
   "metadata": {},
   "outputs": [],
   "source": [
    "from collections import Counter\n",
    "from math import sqrt, atan2, pi\n",
    "from ipynb.fs.full.utils import read_test_input"
   ]
  },
  {
   "cell_type": "markdown",
   "metadata": {},
   "source": [
    "## part 1"
   ]
  },
  {
   "cell_type": "code",
   "execution_count": 7,
   "metadata": {},
   "outputs": [],
   "source": [
    "# convert input to dict\n",
    "def input_to_point_dict(input_data):\n",
    "    col_to_point = {'.': 0, '#': 1}\n",
    "    points = {}\n",
    "    for y, row in enumerate(input_data):\n",
    "        for x, column in enumerate(row):\n",
    "            points[(x, y)] = col_to_point[column]\n",
    "    return points"
   ]
  },
  {
   "cell_type": "code",
   "execution_count": 8,
   "metadata": {},
   "outputs": [],
   "source": [
    "# find points in direct line of sight for any point\n",
    "def points_in_line_of_sight(point, points):\n",
    "    polar_angles = set()\n",
    "    for comparison_point in points.keys():\n",
    "        if comparison_point != point and points[comparison_point] == 1:\n",
    "            comparison_point_from_point = (comparison_point[0] - point[0], comparison_point[1] - point[1])\n",
    "            # find_polar_coords (in radians)\n",
    "            radius = sqrt(comparison_point_from_point[0] ** 2 + comparison_point_from_point[1] ** 2)\n",
    "            angle = atan2(comparison_point_from_point[1], comparison_point_from_point[0])    \n",
    "            polar_angles.add(angle)\n",
    "    return polarangles)\n"
   ]
  },
  {
   "cell_type": "code",
   "execution_count": 9,
   "metadata": {},
   "outputs": [],
   "source": [
    "def find_best(all_points):\n",
    "    asteroid_points = {point: value for point, value in all_points.items() if value == 1}\n",
    "    max_asteroids = {asteroid_point: len(points_in_line_of_sight(asteroid_point, asteroid_points)) for asteroid_point in asteroid_points}\n",
    "    counter = Counter(max_asteroids)\n",
    "    return counter.most_common(1)[0]"
   ]
  },
  {
   "cell_type": "code",
   "execution_count": 10,
   "metadata": {},
   "outputs": [],
   "source": [
    "import ipytest\n",
    "import pytest\n",
    "ipytest.config(rewrite_asserts=True, magics=True)\n",
    "\n",
    "__file__ = \"test_opcode.ipynb\""
   ]
  },
  {
   "cell_type": "code",
   "execution_count": 11,
   "metadata": {},
   "outputs": [
    {
     "name": "stdout",
     "output_type": "stream",
     "text": [
      "========================== test session starts ==========================\n",
      "platform darwin -- Python 3.7.1, pytest-5.3.1, py-1.8.0, pluggy-0.13.1\n",
      "rootdir: /Users/becky/projects/adventofcode/2019\n",
      "collected 5 items\n",
      "\n",
      "test_opcode.py .....                                              [100%]\n",
      "\n",
      "=========================== 5 passed in 0.32s ===========================\n"
     ]
    }
   ],
   "source": [
    "%%run_pytest\n",
    "\n",
    "def test_asteroid1():\n",
    "    test_input = read_test_input('day10test1.txt')\n",
    "    points = input_to_point_dict(test_input)\n",
    "    assert find_best(points) == ((3, 4), 8), find_best(points)\n",
    "\n",
    "def test_asteroid2():\n",
    "    test_input = read_test_input('day10test2.txt')\n",
    "    points = input_to_point_dict(test_input)\n",
    "    assert find_best(points) == ((5, 8), 33), find_best(points)\n",
    "\n",
    "def test_asteroid3():\n",
    "    test_input = read_test_input('day10test3.txt')\n",
    "    points = input_to_point_dict(test_input)\n",
    "    assert find_best(points) == ((1, 2), 35), find_best(points)\n",
    "\n",
    "def test_asteroid4():\n",
    "    test_input = read_test_input('day10test4.txt')\n",
    "    points = input_to_point_dict(test_input)\n",
    "    assert find_best(points) == ((6, 3), 41), find_best(points)\n",
    "\n",
    "def test_asteroid5():\n",
    "    test_input = read_test_input('day10test5.txt')\n",
    "    points = input_to_point_dict(test_input)\n",
    "    assert find_best(points) == ((11, 13), 210), find_best(points)"
   ]
  },
  {
   "cell_type": "code",
   "execution_count": 12,
   "metadata": {},
   "outputs": [
    {
     "data": {
      "text/plain": [
       "((26, 29), 299)"
      ]
     },
     "execution_count": 12,
     "metadata": {},
     "output_type": "execute_result"
    }
   ],
   "source": [
    "test_input = read_test_input('day10_input.txt')\n",
    "points = input_to_point_dict(test_input)\n",
    "find_best(points)"
   ]
  },
  {
   "cell_type": "code",
   "execution_count": 17,
   "metadata": {},
   "outputs": [],
   "source": [
    "def points_in_line_of_sight_by_angle(point, points):\n",
    "    polar_angles = {}\n",
    "    for comparison_point in points.keys():\n",
    "        if comparison_point != point and points[comparison_point] == 1:\n",
    "            comparison_point_from_point = (comparison_point[0] - point[0], comparison_point[1] - point[1])\n",
    "            # find_polar_coords (in radians)\n",
    "            radius = sqrt(comparison_point_from_point[0] ** 2 + comparison_point_from_point[1] ** 2)\n",
    "            angle = atan2(comparison_point_from_point[1], comparison_point_from_point[0])    \n",
    "            polar_angles.setdefault(angle, []).append((comparison_point, radius))\n",
    "    return polar_angles"
   ]
  },
  {
   "cell_type": "code",
   "execution_count": 95,
   "metadata": {},
   "outputs": [
    {
     "data": {
      "text/plain": [
       "{-2.356194490192345,\n",
       " -2.312743594800814,\n",
       " -2.3086113869153615,\n",
       " -2.3036114285814033,\n",
       " -2.2655346029916,\n",
       " -2.2318394956455836,\n",
       " -2.2264919530364327,\n",
       " -2.0701430484750265,\n",
       " -2.0344439357957027,\n",
       " -1.965587446494658,\n",
       " -1.9379701606131159,\n",
       " -1.8692952583810758,\n",
       " -1.8622531212727638,\n",
       " -1.8157749899217608,\n",
       " -1.7975951748487824,\n",
       " -1.750649826587375,\n",
       " -1.7359450042095235,\n",
       " -1.7234456551901618,\n",
       " -1.6814535479687922,\n",
       " -1.6539375586833378,\n",
       " -1.6475682180646747,\n",
       " -1.5707963267948966,\n",
       " -1.4876550949064553,\n",
       " -1.4801364395941514,\n",
       " -1.4711276743037347,\n",
       " -1.3909428270024184,\n",
       " -1.373400766945016,\n",
       " -1.3439974787410107,\n",
       " -1.3045442776439713,\n",
       " -1.2793395323170296,\n",
       " -1.2490457723982544,\n",
       " -1.2220253232109897,\n",
       " -1.176005207095135,\n",
       " -1.1525719972156676,\n",
       " -1.0636978224025597}"
      ]
     },
     "execution_count": 95,
     "metadata": {},
     "output_type": "execute_result"
    }
   ],
   "source": [
    "test_input = read_test_input('day10test5.txt')\n",
    "alloints = input_to_point_dict(test_input)\n",
    "asteroid_points = {point: value for point, value in all_points.items() if value == 1}\n",
    "points_in_line_of_sight((11, 13), asteroid_points)"
   ]
  },
  {
   "cell_type": "code",
   "execution_count": 20,
   "metadata": {},
   "outputs": [
    {
     "data": {
      "text/plain": [
       "210"
      ]
     },
     "execution_count": 20,
     "metadata": {},
     "output_type": "execute_result"
    }
   ],
   "source": [
    "len(points_by_angle)"
   ]
  },
  {
   "cell_type": "code",
   "execution_count": 90,
   "metadata": {},
   "outputs": [],
   "source": [
    "test = [\n",
    "    \".#....#####...#..\",\n",
    "    \"##...##.#####..##\",\n",
    "    \"##...#...#.#####.\",\n",
    "    \"..#.....#...###..\",\n",
    "    \"..#.#.....#....##\",\n",
    "]"
   ]
  },
  {
   "cell_type": "code",
   "execution_count": 93,
   "metadata": {},
   "outputs": [],
   "source": [
    "def vaporise(data, station_coords):\n",
    "    all_points = input_to_point_dict(data)\n",
    "    asteroid_points = {point: value for point, value in all_points.items() if value == 1}\n",
    "    points_by_angle = points_in_line_of_sight_by_angle(station_coords, asteroid_points)\n",
    "\n",
    "    ordered_from_0 = sorted([k for k in points_by_angle.keys() if k >= -1.5707963267948966])\n",
    "    ordered_remainder = sorted([k for k in points_by_angle.keys() if k < -1.5707963267948966])\n",
    "    ordered_angles = ordered_from_0 + ordered_remainder\n",
    "\n",
    "    destroyed = []\n",
    "\n",
    "    while len(destroyed) < len(asteroid_points) - 1:\n",
    "        for angle in ordered_angles:\n",
    "            coords = points_by_angle[angle]\n",
    "            if coords:\n",
    "                ordered_coords = sorted(coords, key=lambda x: x[1])\n",
    "                ast = ordered_coords.pop(0)\n",
    "                destroyed.append(ast[0])\n",
    "                points_by_angle[angle] = ordered_coords\n",
    "    return destroyed"
   ]
  },
  {
   "cell_type": "code",
   "execution_count": 96,
   "metadata": {},
   "outputs": [],
   "source": [
    "vaporised = vaporise(test_input, (11, 13))"
   ]
  },
  {
   "cell_type": "code",
   "execution_count": 97,
   "metadata": {},
   "outputs": [
    {
     "data": {
      "text/plain": [
       "(8, 2)"
      ]
     },
     "execution_count": 97,
     "metadata": {},
     "output_type": "execute_result"
    }
   ],
   "source": [
    "vaporised[199]"
   ]
  },
  {
   "cell_type": "code",
   "execution_count": 99,
   "metadata": {},
   "outputs": [
    {
     "data": {
      "text/plain": [
       "((26, 29), 299)"
      ]
     },
     "execution_count": 99,
     "metadata": {},
     "output_type": "execute_result"
    }
   ],
   "source": [
    "day10_input = read_test_input('day10_input.txt')\n",
    "points = input_to_point_dict(test_input)\n",
    "find_best(points)"
   ]
  },
  {
   "cell_type": "code",
   "execution_count": 100,
   "metadata": {},
   "outputs": [],
   "source": [
    "vaporised = vaporise(day10_input, (26, 29))"
   ]
  },
  {
   "cell_type": "code",
   "execution_count": 101,
   "metadata": {},
   "outputs": [
    {
     "data": {
      "text/plain": [
       "(14, 19)"
      ]
     },
     "execution_count": 101,
     "metadata": {},
     "output_type": "execute_result"
    }
   ],
   "source": [
    "vaporised[199]"
   ]
  },
  {
   "cell_type": "code",
   "execution_count": 104,
   "metadata": {},
   "outputs": [
    {
     "data": {
      "text/plain": [
       "1419"
      ]
     },
     "execution_count": 104,
     "metadata": {},
     "output_type": "execute_result"
    }
   ],
   "source": [
    "14 * 100 + 19"
   ]
  },
  {
   "cell_type": "code",
   "execution_count": 103,
   "metadata": {},
   "outputs": [
    {
     "data": {
      "text/plain": [
       "347"
      ]
     },
     "execution_count": 103,
     "metadata": {},
     "output_type": "execute_result"
    }
   ],
   "source": [
    "len(vaporised)"
   ]
  },
  {
   "cell_type": "code",
   "execution_count": null,
   "metadata": {},
   "outputs": [],
   "source": []
  }
 ],
 "metadata": {
  "kernelspec": {
   "display_name": "Python 3",
   "language": "python",
   "name": "python3"
  },
  "language_info": {
   "codemirror_mode": {
    "name": "ipython",
    "version": 3
   },
   "file_extension": ".py",
   "mimetype": "text/x-python",
   "name": "python",
   "nbconvert_exporter": "python",
   "pygments_lexer": "ipython3",
   "version": "3.7.1"
  }
 },
 "nbformat": 4,
 "nbformat_minor": 2
}
