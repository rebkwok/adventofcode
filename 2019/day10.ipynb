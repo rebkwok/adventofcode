{
 "cells": [
  {
   "cell_type": "code",
   "execution_count": 1,
   "metadata": {},
   "outputs": [],
   "source": [
    "from collections import Counter\n",
    "from math import sqrt, atan2, pi\n",
    "from ipynb.fs.full.utils import read_test_input"
   ]
  },
  {
   "cell_type": "markdown",
   "metadata": {},
   "source": [
    "## part 1"
   ]
  },
  {
   "cell_type": "code",
   "execution_count": 2,
   "metadata": {},
   "outputs": [],
   "source": [
    "# convert input to dict\n",
    "def input_to_point_dict(input_data):\n",
    "    col_to_point = {'.': 0, '#': 1}\n",
    "    points = {}\n",
    "    for y, row in enumerate(input_data):\n",
    "        for x, column in enumerate(row):\n",
    "            points[(x, y)] = col_to_point[column]\n",
    "    return points"
   ]
  },
  {
   "cell_type": "code",
   "execution_count": 3,
   "metadata": {},
   "outputs": [],
   "source": [
    "# find points in direct line of sight for any point\n",
    "def points_in_line_of_sight(point, points):\n",
    "    polar_angles = set()\n",
    "    for comparison_point in points.keys():\n",
    "        if comparison_point != point and points[comparison_point] == 1:\n",
    "            comparison_point_from_point = (comparison_point[0] - point[0], comparison_point[1] - point[1])\n",
    "            # find_polar_coords (in radians)\n",
    "            radius = sqrt(comparison_point_from_point[0] ** 2 + comparison_point_from_point[1] ** 2)\n",
    "            angle = atan2(comparison_point_from_point[1], comparison_point_from_point[0])    \n",
    "            polar_angles.add(angle)\n",
    "    return len(polar_angles)\n"
   ]
  },
  {
   "cell_type": "code",
   "execution_count": 8,
   "metadata": {},
   "outputs": [],
   "source": [
    "def find_best(all_points):\n",
    "    asteroid_points = {point: value for point, value in all_points.items() if value == 1}\n",
    "    max_asteroids = {asteroid_point: points_in_line_of_sight(asteroid_point, asteroid_points) for asteroid_point in asteroid_points}\n",
    "    counter = Counter(max_asteroids)\n",
    "    return counter.most_common(1)[0]"
   ]
  },
  {
   "cell_type": "code",
   "execution_count": 9,
   "metadata": {},
   "outputs": [],
   "source": [
    "import ipytest\n",
    "import pytest\n",
    "ipytest.config(rewrite_asserts=True, magics=True)\n",
    "\n",
    "__file__ = \"test_opcode.ipynb\""
   ]
  },
  {
   "cell_type": "code",
   "execution_count": 10,
   "metadata": {},
   "outputs": [
    {
     "name": "stdout",
     "output_type": "stream",
     "text": [
      "========================== test session starts ==========================\n",
      "platform darwin -- Python 3.7.1, pytest-5.3.1, py-1.8.0, pluggy-0.13.1\n",
      "rootdir: /Users/becky/projects/adventofcode/2019\n",
      "collected 5 items\n",
      "\n",
      "test_opcode.py .....                                              [100%]\n",
      "\n",
      "=========================== 5 passed in 0.59s ===========================\n"
     ]
    }
   ],
   "source": [
    "%%run_pytest\n",
    "\n",
    "def test_asteroid1():\n",
    "    test_input = read_test_input('day10test1.txt')\n",
    "    points = input_to_point_dict(test_input)\n",
    "    assert find_best(points) == ((3, 4), 8), find_best(points)\n",
    "\n",
    "def test_asteroid2():\n",
    "    test_input = read_test_input('day10test2.txt')\n",
    "    points = input_to_point_dict(test_input)\n",
    "    assert find_best(points) == ((5, 8), 33), find_best(points)\n",
    "\n",
    "def test_asteroid3():\n",
    "    test_input = read_test_input('day10test3.txt')\n",
    "    points = input_to_point_dict(test_input)\n",
    "    assert find_best(points) == ((1, 2), 35), find_best(points)\n",
    "\n",
    "def test_asteroid4():\n",
    "    test_input = read_test_input('day10test4.txt')\n",
    "    points = input_to_point_dict(test_input)\n",
    "    assert find_best(points) == ((6, 3), 41), find_best(points)\n",
    "\n",
    "def test_asteroid5():\n",
    "    test_input = read_test_input('day10test5.txt')\n",
    "    points = input_to_point_dict(test_input)\n",
    "    assert find_best(points) == ((11, 13), 210), find_best(points)"
   ]
  },
  {
   "cell_type": "code",
   "execution_count": 13,
   "metadata": {},
   "outputs": [
    {
     "data": {
      "text/plain": [
       "((26, 29), 299)"
      ]
     },
     "execution_count": 13,
     "metadata": {},
     "output_type": "execute_result"
    }
   ],
   "source": [
    "test_input = read_test_input('day10_input.txt')\n",
    "points = input_to_point_dict(test_input)\n",
    "find_best(points)"
   ]
  },
  {
   "cell_type": "code",
   "execution_count": null,
   "metadata": {},
   "outputs": [],
   "source": []
  }
 ],
 "metadata": {
  "kernelspec": {
   "display_name": "Python 3",
   "language": "python",
   "name": "python3"
  },
  "language_info": {
   "codemirror_mode": {
    "name": "ipython",
    "version": 3
   },
   "file_extension": ".py",
   "mimetype": "text/x-python",
   "name": "python",
   "nbconvert_exporter": "python",
   "pygments_lexer": "ipython3",
   "version": "3.7.1"
  }
 },
 "nbformat": 4,
 "nbformat_minor": 2
}
