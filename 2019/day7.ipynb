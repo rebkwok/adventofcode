{
 "cells": [
  {
   "cell_type": "code",
   "execution_count": 299,
   "metadata": {},
   "outputs": [],
   "source": [
    "from ipynb.fs.full.utils import read_test_input\n",
    "from itertools import combinations, permutations"
   ]
  },
  {
   "cell_type": "code",
   "execution_count": 300,
   "metadata": {},
   "outputs": [],
   "source": [
    "filename = \"day7_input.txt\""
   ]
  },
  {
   "cell_type": "code",
   "execution_count": 309,
   "metadata": {},
   "outputs": [],
   "source": [
    "read_input = read_test_input(filename)"
   ]
  },
  {
   "cell_type": "code",
   "execution_count": 310,
   "metadata": {},
   "outputs": [],
   "source": [
    "read_input = read_input[0].split(',')"
   ]
  },
  {
   "cell_type": "code",
   "execution_count": 311,
   "metadata": {},
   "outputs": [],
   "source": [
    "read_input = [int(val) for val in read_input]"
   ]
  },
  {
   "cell_type": "code",
   "execution_count": 312,
   "metadata": {},
   "outputs": [],
   "source": [
    "def get_value(total_input, param, mode):\n",
    "    if mode == 0:\n",
    "        return total_input[param]\n",
    "    elif mode == 1:\n",
    "        return param\n",
    "    else:\n",
    "        raise Exception(\"invalid mode\")"
   ]
  },
  {
   "cell_type": "code",
   "execution_count": 313,
   "metadata": {},
   "outputs": [],
   "source": [
    "def add(total_input, pointer, *args, input=None):\n",
    "#     print(\"add\")\n",
    "    param_value1, param_value2, output = args # these ar 2-tuples\n",
    "    result = get_value(total_input, *param_value1) + get_value(total_input, *param_value2)\n",
    "    output_position = output[0]\n",
    "    total_input[output_position] = result\n",
    "    return None, pointer + len(args) + 1, input is not None"
   ]
  },
  {
   "cell_type": "code",
   "execution_count": 314,
   "metadata": {},
   "outputs": [],
   "source": [
    "def multiply(total_input, pointer, *args,input=None):\n",
    "#     print(\"mul\")\n",
    "    param_value1, param_value2, output = args # these ar 2-tuples\n",
    "    result = get_value(total_input, *param_value1) * get_value(total_input, *param_value2)\n",
    "    output_position = output[0]\n",
    "    total_input[output_position] = result\n",
    "    return None, pointer + len(args) + 1, input is not None"
   ]
  },
  {
   "cell_type": "code",
   "execution_count": 315,
   "metadata": {},
   "outputs": [],
   "source": [
    "def store(total_input, pointer, pos, input=None):\n",
    "#     print(\"store\")\n",
    "    output_position = pos[0]\n",
    "    total_input[output_position] = input\n",
    "    return None, pointer + 1 + 1, input is not None"
   ]
  },
  {
   "cell_type": "code",
   "execution_count": 316,
   "metadata": {},
   "outputs": [],
   "source": [
    "def output(total_input, pointer, pos, input=None):\n",
    "#     print(\"out\")\n",
    "    return get_value(total_input, *pos), pointer + 1 + 1, input is not None"
   ]
  },
  {
   "cell_type": "code",
   "execution_count": 317,
   "metadata": {},
   "outputs": [],
   "source": [
    "def jump_if_true(total_input, pointer, *args, input=None):\n",
    "#     print(\"jit\")\n",
    "    arg1, arg2 = args\n",
    "    if get_value(total_input, *arg1) != 0:\n",
    "        pointer = get_value(total_input, *arg2)\n",
    "    else:\n",
    "        pointer += len(args) + 1\n",
    "    return \"jit\", pointer, input is not None"
   ]
  },
  {
   "cell_type": "code",
   "execution_count": 318,
   "metadata": {},
   "outputs": [],
   "source": [
    "def jump_if_false(total_input, pointer, *args, input=None):\n",
    "#     print(\"jif\")\n",
    "    arg1, arg2 = args\n",
    "    if get_value(total_input, *arg1) == 0:\n",
    "        pointer = get_value(total_input, *arg2)\n",
    "    else:\n",
    "        pointer += len(args) + 1\n",
    "    return \"jif\", pointer, input is not None"
   ]
  },
  {
   "cell_type": "code",
   "execution_count": 319,
   "metadata": {},
   "outputs": [],
   "source": [
    "def less_than(total_input, pointer, *args, input=None):\n",
    "#     print(\"lt\")\n",
    "    arg1, arg2, pos = args\n",
    "    if get_value(total_input, *arg1) < get_value(total_input, *arg2):\n",
    "        total_input[pos[0]] = 1\n",
    "    else:\n",
    "        total_input[pos[0]] = 0\n",
    "    return \"lt\", pointer + len(args) + 1, input is not None"
   ]
  },
  {
   "cell_type": "code",
   "execution_count": 320,
   "metadata": {},
   "outputs": [],
   "source": [
    "def equals(total_input, pointer, *args, input=None):\n",
    "#     print(\"eq\")\n",
    "    arg1, arg2, pos = args\n",
    "    if get_value(total_input, *arg1) == get_value(total_input, *arg2):\n",
    "        total_input[pos[0]] = 1\n",
    "    else:\n",
    "        total_input[pos[0]] = 0\n",
    "    return \"eq\", pointer + len(args) + 1, input is not None"
   ]
  },
  {
   "cell_type": "code",
   "execution_count": 321,
   "metadata": {},
   "outputs": [],
   "source": [
    "def exit(total_input, pointer, input=None):\n",
    "#     print(\"ex\")\n",
    "    return \"Exit\", pointer + 1, input is not None"
   ]
  },
  {
   "cell_type": "code",
   "execution_count": 322,
   "metadata": {},
   "outputs": [],
   "source": [
    "INSTRUCTIONS = {\n",
    "    1: {\"fn\": add, \"number_of_parameters\": 3},\n",
    "    2: {\"fn\": multiply, \"number_of_parameters\": 3},\n",
    "    3: {\"fn\": store, \"number_of_parameters\": 1},\n",
    "    4: {\"fn\": output, \"number_of_parameters\": 1},\n",
    "    5: {\"fn\": jump_if_true, \"number_of_parameters\": 2},\n",
    "    6: {\"fn\": jump_if_false, \"number_of_parameters\": 2},\n",
    "    7: {\"fn\": less_than, \"number_of_parameters\": 3},\n",
    "    8: {\"fn\": equals, \"number_of_parameters\": 3},\n",
    "    99: {\"fn\": exit, \"number_of_parameters\": 0},\n",
    "}"
   ]
  },
  {
   "cell_type": "code",
   "execution_count": 323,
   "metadata": {},
   "outputs": [],
   "source": [
    "def read_opcode(opcode: str):\n",
    "    decoded_opcode = {}\n",
    "    decoded_opcode['instruction'] = int(opcode[-2:])\n",
    "    parameter_mode_str = opcode[:-2]\n",
    "    parameter_modes = []\n",
    "    for i in range(1, 4):\n",
    "        try:\n",
    "            parameter_modes.append(int(parameter_mode_str[-i]))\n",
    "        except IndexError:\n",
    "            parameter_modes.append(0)\n",
    "    decoded_opcode[\"parameter_modes\"] = parameter_modes\n",
    "    return decoded_opcode"
   ]
  },
  {
   "cell_type": "code",
   "execution_count": 324,
   "metadata": {},
   "outputs": [],
   "source": [
    "def run_program(total_input, input_val1, input_val2, pointer=0, input_val_used=False, result=None):\n",
    "    \n",
    "    if result is not None and isinstance(result, int):\n",
    "        return result\n",
    "    elif result == \"Exit\":\n",
    "        return result\n",
    "    if input_val_used:\n",
    "        input_val = input_val2\n",
    "    else:\n",
    "        input_val = input_val1\n",
    "    if pointer < len(total_input):\n",
    "#         print(f\"Pointer {pointer}\")\n",
    "        # find opcode at pointer\n",
    "        opcode = str(total_input[pointer]).zfill(5)\n",
    "        decoded_opcode = read_opcode(opcode)\n",
    "#         print(decoded_opcode)\n",
    "#         print(input_val)\n",
    "#         print((opcode, decoded_opcode))\n",
    "        instructions = INSTRUCTIONS[decoded_opcode[\"instruction\"]]\n",
    "\n",
    "        first_param_pointer = pointer + 1\n",
    "        parameters = total_input[first_param_pointer: first_param_pointer + instructions[\"number_of_parameters\"]]\n",
    "        parameters_and_modes = list(zip(parameters, decoded_opcode['parameter_modes']))\n",
    "#         print(parameters_and_modes)\n",
    "                                   \n",
    "        result, pointer_position, input_val_used = instructions[\"fn\"](total_input, pointer, *parameters_and_modes, input=input_val)\n",
    "#         print(result)\n",
    "#         print(total_input)\n",
    "        return run_program(total_input, input_val1, input_val2, pointer_position, input_val_used, result)\n",
    "\n",
    "    "
   ]
  },
  {
   "cell_type": "code",
   "execution_count": 325,
   "metadata": {},
   "outputs": [],
   "source": [
    "class Amp:\n",
    "    \n",
    "    def __init__(self, program):\n",
    "        self.program = list(program)\n",
    "        self.done = False\n",
    "        self.pointer = 0\n",
    "        self.input = []\n",
    "        self.output = []\n",
    "    \n",
    "    def add_input(self, value):\n",
    "        self.input.append(value)\n",
    "        self.run_program()\n",
    "        \n",
    "    def run_program(self):\n",
    "        while True:\n",
    "            # find opcode at pointer\n",
    "            opcode = str(self.program[self.pointer]).zfill(5)\n",
    "            decoded_opcode = read_opcode(opcode)\n",
    "            instructions = INSTRUCTIONS[decoded_opcode[\"instruction\"]]\n",
    "            if opcode == \"00099\":\n",
    "                self.done = True\n",
    "                return\n",
    "            if opcode == \"00003\" and len(self.input) == 0:\n",
    "                return\n",
    "            first_param_pointer = self.pointer + 1\n",
    "            parameters = self.program[first_param_pointer: first_param_pointer + instructions[\"number_of_parameters\"]]\n",
    "            parameters_and_modes = list(zip(parameters, decoded_opcode['parameter_modes']))\n",
    "            \n",
    "            result, new_pointer, in_val_used= instructions[\"fn\"](self.program, self.pointer, *parameters_and_modes, input=self.input[0] if self.input else None)\n",
    "            self.pointer = new_pointer\n",
    "            if in_val_used:\n",
    "                self.input.pop(0)\n",
    "            if result is not None and isinstance(result, int):\n",
    "                self.output.append(result)\n",
    "                        "
   ]
  },
  {
   "cell_type": "code",
   "execution_count": 328,
   "metadata": {},
   "outputs": [],
   "source": [
    "def run_sequence(program, phase_sequence):\n",
    "    amps = [Amp(program) for phase in phase_sequence]\n",
    "    for phase, amp in zip(phase_sequence, amps):\n",
    "        amp.add_input(phase)\n",
    "    amps[0].add_input(0)\n",
    "\n",
    "    while amps[4].done is False:\n",
    "        for i, amp in enumerate(amps):\n",
    "            amps[(i+1) % 5].add_input(amp.output[-1])\n",
    "\n",
    "    return amps[4].output[-1]"
   ]
  },
  {
   "cell_type": "code",
   "execution_count": 329,
   "metadata": {},
   "outputs": [
    {
     "data": {
      "text/plain": [
       "21844737"
      ]
     },
     "execution_count": 329,
     "metadata": {},
     "output_type": "execute_result"
    }
   ],
   "source": [
    "max(run_sequence(read_input, sequence) for sequence in permutations([5,6,7,8,9], 5))"
   ]
  },
  {
   "cell_type": "code",
   "execution_count": null,
   "metadata": {},
   "outputs": [],
   "source": []
  }
 ],
 "metadata": {
  "kernelspec": {
   "display_name": "Python 3",
   "language": "python",
   "name": "python3"
  },
  "language_info": {
   "codemirror_mode": {
    "name": "ipython",
    "version": 3
   },
   "file_extension": ".py",
   "mimetype": "text/x-python",
   "name": "python",
   "nbconvert_exporter": "python",
   "pygments_lexer": "ipython3",
   "version": "3.8.0"
  }
 },
 "nbformat": 4,
 "nbformat_minor": 2
}
