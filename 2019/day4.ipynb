{
 "cells": [
  {
   "cell_type": "code",
   "execution_count": 2,
   "metadata": {},
   "outputs": [],
   "source": [
    "input = range(359282,820401 + 1)"
   ]
  },
  {
   "cell_type": "code",
   "execution_count": 20,
   "metadata": {},
   "outputs": [],
   "source": [
    "def valid_password(value):\n",
    "    value_str = str(value)\n",
    "    if int(value_str[0]) > int(value_str[-1]):\n",
    "        return False\n",
    "    pairs = []\n",
    "    for i in range(len(value_str) - 1):\n",
    "        pairs.append((int(value_str[i]), int(value_str[i+1])))\n",
    "    \n",
    "    if any(pair[0] > pair[1] for pair in pairs):\n",
    "        return False\n",
    "    \n",
    "    return any(pair[0] == pair[1] for pair in pairs)"
   ]
  },
  {
   "cell_type": "code",
   "execution_count": 26,
   "metadata": {},
   "outputs": [
    {
     "data": {
      "text/plain": [
       "False"
      ]
     },
     "execution_count": 26,
     "metadata": {},
     "output_type": "execute_result"
    }
   ],
   "source": [
    "valid_password(124776)"
   ]
  },
  {
   "cell_type": "code",
   "execution_count": 28,
   "metadata": {},
   "outputs": [
    {
     "name": "stdout",
     "output_type": "stream",
     "text": [
      "820401\n",
      "511\n"
     ]
    }
   ],
   "source": [
    "valid = 0\n",
    "for i, value in enumerate(input):\n",
    "    if valid_password(value):\n",
    "        valid += 1\n",
    "print(valid)"
   ]
  },
  {
   "cell_type": "code",
   "execution_count": 39,
   "metadata": {},
   "outputs": [],
   "source": [
    "def valid_password_part2(value):\n",
    "    value_str = str(value)\n",
    "    if int(value_str[0]) > int(value_str[-1]):\n",
    "        return False\n",
    "    pairs = []\n",
    "    for i in range(len(value_str) - 1):\n",
    "        pairs.append((int(value_str[i]), int(value_str[i+1])))\n",
    "    \n",
    "    if any(pair[0] > pair[1] for pair in pairs):\n",
    "        return False\n",
    "    \n",
    "    for i, pair in enumerate(pairs):\n",
    "        valid_matching = False\n",
    "        if pair[0] == pair[1]:\n",
    "            valid_matching = True\n",
    "            # matching pair; check the pairs either side\n",
    "            # pairs either side each contain one of this pair, so they are invalid if the entire pair is the same\n",
    "            if i > 0 and pairs[i-1] == pair:\n",
    "                valid_matching = False\n",
    "            if valid_matching:\n",
    "                # check rightside pair\n",
    "                if i < len(pairs) - 1 and pairs[i+1] == pair:\n",
    "                    valid_matching = False\n",
    "            if valid_matching:\n",
    "                return True\n",
    "    return False"
   ]
  },
  {
   "cell_type": "code",
   "execution_count": 41,
   "metadata": {},
   "outputs": [
    {
     "data": {
      "text/plain": [
       "True"
      ]
     },
     "execution_count": 41,
     "metadata": {},
     "output_type": "execute_result"
    }
   ],
   "source": [
    "valid_password_part2(111122)"
   ]
  },
  {
   "cell_type": "code",
   "execution_count": 42,
   "metadata": {},
   "outputs": [
    {
     "name": "stdout",
     "output_type": "stream",
     "text": [
      "316\n"
     ]
    }
   ],
   "source": [
    "valid = 0\n",
    "for i, value in enumerate(input):\n",
    "    if valid_password_part2(value):\n",
    "        valid += 1\n",
    "print(valid)"
   ]
  },
  {
   "cell_type": "code",
   "execution_count": null,
   "metadata": {},
   "outputs": [],
   "source": []
  }
 ],
 "metadata": {
  "kernelspec": {
   "display_name": "Python 3",
   "language": "python",
   "name": "python3"
  },
  "language_info": {
   "codemirror_mode": {
    "name": "ipython",
    "version": 3
   },
   "file_extension": ".py",
   "mimetype": "text/x-python",
   "name": "python",
   "nbconvert_exporter": "python",
   "pygments_lexer": "ipython3",
   "version": "3.7.1"
  }
 },
 "nbformat": 4,
 "nbformat_minor": 2
}
