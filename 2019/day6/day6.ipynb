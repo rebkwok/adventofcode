{
 "cells": [
  {
   "cell_type": "code",
   "execution_count": 30,
   "metadata": {},
   "outputs": [],
   "source": [
    "from itertools import combinations\n",
    "from collections import Counter"
   ]
  },
  {
   "cell_type": "code",
   "execution_count": 31,
   "metadata": {},
   "outputs": [],
   "source": [
    "def get_data_from_file(filename):\n",
    "    with open(filename) as inputfile:\n",
    "        data = []\n",
    "        for line in inputfile.readlines():\n",
    "            line = line.strip('\\n').split(',')\n",
    "            data.append((int(line[0]), int(line[1])))\n",
    "    return data\n",
    "    "
   ]
  },
  {
   "cell_type": "code",
   "execution_count": 32,
   "metadata": {},
   "outputs": [],
   "source": [
    "def get_extents(data):\n",
    "    min_x = min([coord[0] for coord in data])\n",
    "    max_x = max([coord[0] for coord in data])\n",
    "    min_y = min([coord[1] for coord in data])\n",
    "    max_y = max([coord[1] for coord in data])\n",
    "    return min_x, max_x, min_y, max_y"
   ]
  },
  {
   "cell_type": "code",
   "execution_count": 33,
   "metadata": {},
   "outputs": [],
   "source": [
    "def find_nearest_single_values(data):\n",
    "    nearest = {}\n",
    "    min_x, max_x, min_y, max_y = get_extents(data)\n",
    "    for x in range(min_x, max_x + 1):\n",
    "        for y in range(min_y, max_y +1):\n",
    "            if (x, y) in data:\n",
    "                nearest[(x, y)] = tuple([(x, y),])\n",
    "            else:\n",
    "                dists = {}\n",
    "                for coord in data:\n",
    "                    dist = abs(coord[0] - x) + abs(coord[1] - y)\n",
    "                    dists[coord] = dist\n",
    "                closest = min(dists.values())\n",
    "                nearest[(x, y)] = tuple([coord for coord, dist in dists.items() if dist == closest])\n",
    "    single_nearest = {**nearest}\n",
    "    for item, val in nearest.items():\n",
    "        if len(val) > 1:\n",
    "            single_nearest.pop(item)\n",
    "    return single_nearest"
   ]
  },
  {
   "cell_type": "code",
   "execution_count": 40,
   "metadata": {},
   "outputs": [],
   "source": [
    "def remove_infinite(nearest):\n",
    "    min_x, max_x, min_y, max_y = get_extents(data)\n",
    "    points_excluding_infinite = []\n",
    "    for point in set(nearest.values()):\n",
    "        nearest_to = [key for key, value in nearest.items() if value == point]\n",
    "        nearest_x, nearest_y = zip(*nearest_to)\n",
    "        if not any([min(nearest_x) == min_x, max(nearest_x) == max_x, min(nearest_y) == min_y, max(nearest_y) == max_y]):\n",
    "            points_excluding_infinite.append(point)\n",
    "    return points_excluding_infinite\n"
   ]
  },
  {
   "cell_type": "code",
   "execution_count": 41,
   "metadata": {},
   "outputs": [],
   "source": [
    "def find_max_area(nearest):\n",
    "    points_excluding_infinite = remove_infinite(nearest)\n",
    "    nearest_dict = {key: value for key, value in nearest.items() for point in points_excluding_infinite if value == point }\n",
    "    c = Counter(nearest_dict.values())\n",
    "    return max(c.values())\n"
   ]
  },
  {
   "cell_type": "code",
   "execution_count": 42,
   "metadata": {},
   "outputs": [],
   "source": [
    "def find_region_within(data, threshold):\n",
    "    min_x, max_x, min_y, max_y = get_extents(data)\n",
    "    region = 0\n",
    "    for x in range(min_x, max_x + 1):\n",
    "        for y in range(min_y, max_y +1):\n",
    "            total_dist = 0\n",
    "            for coord in data:\n",
    "                # calculate total distance from x, y\n",
    "                # if < threshold, increment counter\n",
    "                total_dist += abs(coord[0] - x) + abs(coord[1] - y)\n",
    "\n",
    "            if total_dist < threshold:\n",
    "                region += 1\n",
    "    return region"
   ]
  },
  {
   "cell_type": "code",
   "execution_count": 43,
   "metadata": {},
   "outputs": [],
   "source": [
    "data = get_data_from_file('day6test.txt')\n"
   ]
  },
  {
   "cell_type": "code",
   "execution_count": 44,
   "metadata": {},
   "outputs": [],
   "source": [
    "nearest = find_nearest_single_values(data)"
   ]
  },
  {
   "cell_type": "code",
   "execution_count": 45,
   "metadata": {},
   "outputs": [
    {
     "data": {
      "text/plain": [
       "17"
      ]
     },
     "execution_count": 45,
     "metadata": {},
     "output_type": "execute_result"
    }
   ],
   "source": [
    "find_max_area(nearest)"
   ]
  },
  {
   "cell_type": "code",
   "execution_count": 46,
   "metadata": {},
   "outputs": [
    {
     "data": {
      "text/plain": [
       "16"
      ]
     },
     "execution_count": 46,
     "metadata": {},
     "output_type": "execute_result"
    }
   ],
   "source": [
    "find_region_within(data, 32)"
   ]
  },
  {
   "cell_type": "code",
   "execution_count": null,
   "metadata": {},
   "outputs": [],
   "source": []
  }
 ],
 "metadata": {
  "kernelspec": {
   "display_name": "Python 3",
   "language": "python",
   "name": "python3"
  },
  "language_info": {
   "codemirror_mode": {
    "name": "ipython",
    "version": 3
   },
   "file_extension": ".py",
   "mimetype": "text/x-python",
   "name": "python",
   "nbconvert_exporter": "python",
   "pygments_lexer": "ipython3",
   "version": "3.6.5"
  }
 },
 "nbformat": 4,
 "nbformat_minor": 2
}
