{
 "cells": [
  {
   "cell_type": "code",
   "execution_count": 1,
   "metadata": {},
   "outputs": [],
   "source": [
    "from ipynb.fs.full.utils import read_test_input\n",
    "from collections import Counter"
   ]
  },
  {
   "cell_type": "code",
   "execution_count": 2,
   "metadata": {},
   "outputs": [],
   "source": [
    "filename = \"day8_input.txt\""
   ]
  },
  {
   "cell_type": "code",
   "execution_count": 3,
   "metadata": {},
   "outputs": [],
   "source": [
    "read_input = read_test_input(filename)"
   ]
  },
  {
   "cell_type": "code",
   "execution_count": 4,
   "metadata": {},
   "outputs": [],
   "source": [
    "read_input = read_input[0].split(',')"
   ]
  },
  {
   "cell_type": "code",
   "execution_count": 5,
   "metadata": {},
   "outputs": [],
   "source": [
    "read_input = read_input[0]  # single string of digits"
   ]
  },
  {
   "cell_type": "code",
   "execution_count": 6,
   "metadata": {},
   "outputs": [],
   "source": [
    "def get_layers(image, x, y):\n",
    "    layer_size = x * y\n",
    "    total_size = len(image)\n",
    "    return [image[i: i + layer_size] for i in range(0, total_size, layer_size)]"
   ]
  },
  {
   "cell_type": "code",
   "execution_count": 7,
   "metadata": {},
   "outputs": [],
   "source": [
    "def layer_counts_for_min_0(layers):\n",
    "    counters = [Counter(layer) for layer in layers]\n",
    "    min_zero = next(counter for counter in counters if counter['0'] == min(counter['0'] for counter in counters))\n",
    "    return min_zero\n",
    "    "
   ]
  },
  {
   "cell_type": "code",
   "execution_count": 8,
   "metadata": {},
   "outputs": [
    {
     "data": {
      "text/plain": [
       "2520"
      ]
     },
     "execution_count": 8,
     "metadata": {},
     "output_type": "execute_result"
    }
   ],
   "source": [
    "# part 1\n",
    "layers = get_layers(read_input, 25, 6)\n",
    "counter = layer_counts_for_min_0(layers)\n",
    "counter['2'] * counter['1']"
   ]
  },
  {
   "cell_type": "code",
   "execution_count": 9,
   "metadata": {},
   "outputs": [],
   "source": [
    "test = \"0222112222120000\""
   ]
  },
  {
   "cell_type": "code",
   "execution_count": 32,
   "metadata": {},
   "outputs": [],
   "source": [
    "def decode_image(image, x, y):\n",
    "    layers = get_layers(image, x, y)\n",
    "    layers_as_list = [list(layer) for layer in layers]\n",
    "    columns = list(zip(*layers_as_list))\n",
    "    decoded = [next(pixel for pixel in pixels if pixel != '2') for pixels in columns]\n",
    "    decoded_in_layers = [decoded[i: i + x] for i in range(0, len(decoded), x)]\n",
    "    return decoded_in_layers"
   ]
  },
  {
   "cell_type": "code",
   "execution_count": 33,
   "metadata": {},
   "outputs": [],
   "source": [
    "def render(decoded):\n",
    "    for layer in decoded:\n",
    "        print(''.join(layer).replace('0', ' ').replace('1', 'x'))"
   ]
  },
  {
   "cell_type": "code",
   "execution_count": 34,
   "metadata": {},
   "outputs": [
    {
     "name": "stdout",
     "output_type": "stream",
     "text": [
      " x\n",
      "x \n"
     ]
    }
   ],
   "source": [
    "render(decode_image(test, 2, 2))"
   ]
  },
  {
   "cell_type": "code",
   "execution_count": 35,
   "metadata": {},
   "outputs": [
    {
     "name": "stdout",
     "output_type": "stream",
     "text": [
      "x    xxxx  xx    xx x   x\n",
      "x    x    x  x    x x   x\n",
      "x    xxx  x       x  x x \n",
      "x    x    x xx    x   x  \n",
      "x    x    x  x x  x   x  \n",
      "xxxx xxxx  xxx  xx    x  \n"
     ]
    }
   ],
   "source": [
    "render(decode_image(read_input, 25, 6))"
   ]
  },
  {
   "cell_type": "code",
   "execution_count": null,
   "metadata": {},
   "outputs": [],
   "source": []
  }
 ],
 "metadata": {
  "kernelspec": {
   "display_name": "Python 3",
   "language": "python",
   "name": "python3"
  },
  "language_info": {
   "codemirror_mode": {
    "name": "ipython",
    "version": 3
   },
   "file_extension": ".py",
   "mimetype": "text/x-python",
   "name": "python",
   "nbconvert_exporter": "python",
   "pygments_lexer": "ipython3",
   "version": "3.7.1"
  }
 },
 "nbformat": 4,
 "nbformat_minor": 2
}
