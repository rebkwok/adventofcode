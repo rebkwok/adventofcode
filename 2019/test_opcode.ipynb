{
 "cells": [
  {
   "cell_type": "code",
   "execution_count": 10,
   "metadata": {},
   "outputs": [],
   "source": [
    "import ipytest\n",
    "from ipynb.fs.full.opcode import Opcoder\n",
    "ipytest.config(rewrite_asserts=True, magics=True)\n",
    "\n",
    "__file__ = \"test_opcode.ipynb\""
   ]
  },
  {
   "cell_type": "code",
   "execution_count": 12,
   "metadata": {},
   "outputs": [
    {
     "name": "stdout",
     "output_type": "stream",
     "text": [
      "========================== test session starts ==========================\n",
      "platform darwin -- Python 3.7.1, pytest-5.3.1, py-1.8.0, pluggy-0.13.1\n",
      "rootdir: /Users/becky/projects/adventofcode/2019\n",
      "collected 1 item\n",
      "\n",
      "test_opcode.py .                                                  [100%]\n",
      "\n",
      "=========================== 1 passed in 0.06s ===========================\n"
     ]
    }
   ],
   "source": [
    "%%run_pytest\n",
    "def test_opcoder():\n",
    "    pass"
   ]
  },
  {
   "cell_type": "code",
   "execution_count": null,
   "metadata": {},
   "outputs": [],
   "source": []
  }
 ],
 "metadata": {
  "kernelspec": {
   "display_name": "Python 3",
   "language": "python",
   "name": "python3"
  },
  "language_info": {
   "codemirror_mode": {
    "name": "ipython",
    "version": 3
   },
   "file_extension": ".py",
   "mimetype": "text/x-python",
   "name": "python",
   "nbconvert_exporter": "python",
   "pygments_lexer": "ipython3",
   "version": "3.7.1"
  }
 },
 "nbformat": 4,
 "nbformat_minor": 2
}
