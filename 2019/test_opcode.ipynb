{
 "cells": [
  {
   "cell_type": "code",
   "execution_count": 1,
   "metadata": {},
   "outputs": [],
   "source": [
    "from ipynb.fs.full.opcode import Opcoder\n",
    "from ipynb.fs.full.amplifiers import run_sequence, run_feedback_sequence\n",
    "from itertools import permutations\n",
    "import ipytest\n",
    "import pytest\n",
    "ipytest.config(rewrite_asserts=True, magics=True)\n",
    "\n",
    "__file__ = \"test_opcode.ipynb\""
   ]
  },
  {
   "cell_type": "markdown",
   "metadata": {},
   "source": [
    "## Day 2 tests"
   ]
  },
  {
   "cell_type": "code",
   "execution_count": 2,
   "metadata": {},
   "outputs": [
    {
     "name": "stdout",
     "output_type": "stream",
     "text": [
      "========================== test session starts ==========================\n",
      "platform darwin -- Python 3.7.1, pytest-5.3.1, py-1.8.0, pluggy-0.13.1\n",
      "rootdir: /Users/becky/projects/adventofcode/2019\n",
      "collected 4 items\n",
      "\n",
      "test_opcode.py ....                                               [100%]\n",
      "\n",
      "=========================== 4 passed in 0.07s ===========================\n"
     ]
    }
   ],
   "source": [
    "%%run_pytest\n",
    "\n",
    "@pytest.mark.parametrize(\n",
    "    \"in_program,expected\",\n",
    "    [\n",
    "        ([1,0,0,0,99], [2,0,0,0,99]),\n",
    "        ([2,3,0,3,99], [2,3,0,6,99]),\n",
    "        ([2,4,4,5,99,0], [2,4,4,5,99,9801]),\n",
    "        ([1,1,1,4,99,5,6,0,99], [30,1,1,4,2,5,6,0,99])\n",
    "    ]\n",
    ")\n",
    "def test_operations(in_program, expected):\n",
    "    opcoder = Opcoder(in_program)\n",
    "    opcoder.run_program()\n",
    "    assert opcoder.program == expected"
   ]
  },
  {
   "cell_type": "markdown",
   "metadata": {},
   "source": [
    "## Day 5"
   ]
  },
  {
   "cell_type": "code",
   "execution_count": 3,
   "metadata": {},
   "outputs": [
    {
     "name": "stdout",
     "output_type": "stream",
     "text": [
      "========================== test session starts ==========================\n",
      "platform darwin -- Python 3.7.1, pytest-5.3.1, py-1.8.0, pluggy-0.13.1\n",
      "rootdir: /Users/becky/projects/adventofcode/2019\n",
      "collected 6 items\n",
      "\n",
      "test_opcode.py ......                                             [100%]\n",
      "\n",
      "=========================== 6 passed in 0.17s ===========================\n"
     ]
    }
   ],
   "source": [
    "%%run_pytest\n",
    "\n",
    "@pytest.mark.parametrize(\n",
    "    \"program,expected\",\n",
    "    [\n",
    "        ([1002,4,3,4,33], [1002,4,3,4,99]),\n",
    "        ([1101,100,-1,4,0], [1101,100,-1,4,99])\n",
    "    ]\n",
    ")\n",
    "def test_position_and_immediate_parameter_modes(program, expected):\n",
    "    opcoder = Opcoder(program)\n",
    "    opcoder.run_program()\n",
    "    assert opcoder.program == expected"
   ]
  },
  {
   "cell_type": "code",
   "execution_count": 4,
   "metadata": {},
   "outputs": [
    {
     "name": "stdout",
     "output_type": "stream",
     "text": [
      "========================== test session starts ==========================\n",
      "platform darwin -- Python 3.7.1, pytest-5.3.1, py-1.8.0, pluggy-0.13.1\n",
      "rootdir: /Users/becky/projects/adventofcode/2019\n",
      "collected 41 items\n",
      "\n",
      "test_opcode.py .........................................          [100%]\n",
      "\n",
      "========================== 41 passed in 0.71s ===========================\n"
     ]
    }
   ],
   "source": [
    "%%run_pytest\n",
    "\n",
    "@pytest.mark.parametrize(\n",
    "    \"input_value,result\",\n",
    "    [\n",
    "        (8, 1), (-8, 0), (0, 0), (7, 0), (9, 0)\n",
    "    ]\n",
    ")\n",
    "def test_equal_to_8_position_mode(input_value, result):\n",
    "    program = [3,9,8,9,10,9,4,9,99,-1,8]\n",
    "    opcoder = Opcoder(program)\n",
    "    opcoder.add_input(input_value)\n",
    "    assert opcoder.output[-1] == result\n",
    "\n",
    "    \n",
    "@pytest.mark.parametrize(\n",
    "    \"input_value,result\",\n",
    "    [\n",
    "        (8, 0), (-8, 1), (0, 1), (7, 1), (9, 0)\n",
    "    ]\n",
    ")\n",
    "def test_less_than_8_position_mode(input_value, result):\n",
    "    program = [3,9,7,9,10,9,4,9,99,-1,8]\n",
    "    opcoder = Opcoder(program)\n",
    "    opcoder.add_input(input_value)\n",
    "    assert opcoder.output[-1] == result\n",
    "    \n",
    "\n",
    "@pytest.mark.parametrize(\n",
    "    \"input_value,result\",\n",
    "    [\n",
    "        (8, 1), (-8, 0), (0, 0), (7, 0), (9, 0)\n",
    "    ]\n",
    ")\n",
    "def test_equal_to_8_immediate_mode(input_value, result):\n",
    "    program = [3,3,1108,-1,8,3,4,3,99]\n",
    "    opcoder = Opcoder(program)\n",
    "    opcoder.add_input(input_value)\n",
    "    assert opcoder.output[-1] == result\n",
    "\n",
    "    \n",
    "@pytest.mark.parametrize(\n",
    "    \"input_value,result\",\n",
    "    [\n",
    "        (8, 0), (-8, 1), (0, 1), (7, 1), (9, 0)\n",
    "    ]\n",
    ")\n",
    "def test_less_than_8_immediate_mode(input_value, result):\n",
    "    program = [3,3,1107,-1,8,3,4,3,99]\n",
    "    opcoder = Opcoder(program)\n",
    "    opcoder.add_input(input_value)\n",
    "    assert opcoder.output[-1] == result\n",
    "\n",
    "\n",
    "@pytest.mark.parametrize(\n",
    "    \"input_value,result\",\n",
    "    [\n",
    "        (8, 1), (-8, 1), (0, 0), (7, 1), (9, 1)\n",
    "    ]\n",
    ")\n",
    "def test_zero_using_jump_position_mode(input_value, result):\n",
    "    program = [3,12,6,12,15,1,13,14,13,4,13,99,-1,0,1,9]\n",
    "    opcoder = Opcoder(program)\n",
    "    opcoder.add_input(input_value)\n",
    "    assert opcoder.output[-1] == result\n",
    "\n",
    "    \n",
    "@pytest.mark.parametrize(\n",
    "    \"input_value,result\",\n",
    "    [\n",
    "        (8, 1), (-8, 1), (0, 0), (7, 1), (9, 1)\n",
    "    ]\n",
    ")\n",
    "def test_zero_using_jump_immediate_mode(input_value, result):\n",
    "    program = [3,3,1105,-1,9,1101,0,0,12,4,12,99,1]\n",
    "    opcoder = Opcoder(program)\n",
    "    opcoder.add_input(input_value)\n",
    "    assert opcoder.output[-1] == result\n",
    "\n",
    "    \n",
    "@pytest.mark.parametrize(\n",
    "    \"input_value,result\",\n",
    "    [\n",
    "        (8, 1000), (-8, 999), (0, 999), (7, 999), (9, 1001)\n",
    "    ]\n",
    ")\n",
    "def test_8(input_value, result):\n",
    "    program = [\n",
    "        3,21,1008,21,8,20,1005,20,22,107,8,21,20,1006,20,31,\n",
    "        1106,0,36,98,0,0,1002,21,125,20,4,20,1105,1,46,104,\n",
    "        999,1105,1,46,1101,1000,1,20,4,20,1105,1,46,98,99\n",
    "    ]\n",
    "    opcoder = Opcoder(program)\n",
    "    opcoder.add_input(input_value)\n",
    "    assert opcoder.output[-1] == result\n"
   ]
  },
  {
   "cell_type": "markdown",
   "metadata": {},
   "source": [
    "## Day 7"
   ]
  },
  {
   "cell_type": "code",
   "execution_count": 5,
   "metadata": {},
   "outputs": [
    {
     "name": "stdout",
     "output_type": "stream",
     "text": [
      "========================== test session starts ==========================\n",
      "platform darwin -- Python 3.7.1, pytest-5.3.1, py-1.8.0, pluggy-0.13.1\n",
      "rootdir: /Users/becky/projects/adventofcode/2019\n",
      "collected 46 items\n",
      "\n",
      "test_opcode.py ..............................................     [100%]\n",
      "\n",
      "========================== 46 passed in 2.13s ===========================\n"
     ]
    }
   ],
   "source": [
    "%%run_pytest\n",
    "\n",
    "@pytest.mark.parametrize(\n",
    "    \"program,expected\",\n",
    "    [\n",
    "        ([3,15,3,16,1002,16,10,16,1,16,15,15,4,15,99,0,0], 43210), \n",
    "        ([3,23,3,24,1002,24,10,24,1002,23,-1,23,101,5,23,23,1,24,23,23,4,23,99,0,0], 54321),\n",
    "        ([3,31,3,32,1002,32,10,32,1001,31,-2,31,1007,31,0,33,1002,33,7,33,1,33,31,31,1,32,31,31,4,31,99,0,0,0], 65210)\n",
    "    ]\n",
    ")\n",
    "def test_max_output(program, expected):\n",
    "    assert max(run_sequence(program, sequence) for sequence in permutations([0,1,2,3,4], 5)) == expected\n",
    "\n",
    "\n",
    "@pytest.mark.parametrize(\n",
    "    \"program,expected\",\n",
    "    [\n",
    "        ([3,26,1001,26,-4,26,3,27,1002,27,2,27,1,27,26,27,4,27,1001,28,-1,28,1005,28,6,99,0,0,5], 139629729), \n",
    "        (\n",
    "            [\n",
    "                3,52,1001,52,-5,52,3,53,1,52,56,54,1007,54,5,55,1005,55,26,1001,54,-5,54,1105,1,12,1,53,54,\n",
    "                53,1008,54,0,55,1001,55,1,55,2,53,55,53,4,53,1001,56,-1,56,1005,56,6,99,0,0,0,0,10\n",
    "            ], \n",
    "            18216\n",
    "        ),\n",
    "    ]\n",
    ")\n",
    "def test_max_output_with_feedback(program, expected):\n",
    "    assert max(run_feedback_sequence(program, sequence) for sequence in permutations([5,6,7,8,9], 5)) == expected\n",
    "\n",
    "\n"
   ]
  },
  {
   "cell_type": "markdown",
   "metadata": {},
   "source": [
    "Day 9"
   ]
  },
  {
   "cell_type": "code",
   "execution_count": 6,
   "metadata": {},
   "outputs": [
    {
     "name": "stdout",
     "output_type": "stream",
     "text": [
      "========================== test session starts ==========================\n",
      "platform darwin -- Python 3.7.1, pytest-5.3.1, py-1.8.0, pluggy-0.13.1\n",
      "rootdir: /Users/becky/projects/adventofcode/2019\n",
      "collected 49 items\n",
      "\n",
      "test_opcode.py .................................................  [100%]\n",
      "\n",
      "========================== 49 passed in 2.06s ===========================\n"
     ]
    }
   ],
   "source": [
    "%%run_pytest\n",
    "\n",
    "@pytest.mark.parametrize(\n",
    "    \"program,expected\",\n",
    "    [\n",
    "        ([109,1,204,-1,1001,100,1,100,1008,100,16,101,1006,101,0,99], [109,1,204,-1,1001,100,1,100,1008,100,16,101,1006,101,0,99]),\n",
    "        ([104,1125899906842624,99], [1125899906842624])\n",
    "    ]\n",
    ")\n",
    "def test_relative_mode_and_extended_memory(program, expected):\n",
    "    opcoder = Opcoder(program)\n",
    "    opcoder.run_program()\n",
    "    assert opcoder.output == expected\n",
    "    \n",
    "\n",
    "def test_single_large_output():\n",
    "    program = [1102,34915192,34915192,7,4,7,99,0]\n",
    "    opcoder = Opcoder(program)\n",
    "    opcoder.run_program()\n",
    "    assert len(opcoder.output) == 1\n",
    "    assert len(str(opcoder.output[0])) == 16"
   ]
  },
  {
   "cell_type": "code",
   "execution_count": null,
   "metadata": {},
   "outputs": [],
   "source": []
  }
 ],
 "metadata": {
  "kernelspec": {
   "display_name": "Python 3",
   "language": "python",
   "name": "python3"
  },
  "language_info": {
   "codemirror_mode": {
    "name": "ipython",
    "version": 3
   },
   "file_extension": ".py",
   "mimetype": "text/x-python",
   "name": "python",
   "nbconvert_exporter": "python",
   "pygments_lexer": "ipython3",
   "version": "3.7.1"
  }
 },
 "nbformat": 4,
 "nbformat_minor": 2
}
