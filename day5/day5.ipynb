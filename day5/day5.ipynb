{
 "cells": [
  {
   "cell_type": "code",
   "execution_count": 29,
   "metadata": {},
   "outputs": [],
   "source": [
    "with open('day5input.txt') as inputfile:\n",
    "    data = inputfile.read().strip('\\n')"
   ]
  },
  {
   "cell_type": "code",
   "execution_count": 30,
   "metadata": {},
   "outputs": [],
   "source": [
    "with open('day5test.txt') as inputfile:\n",
    "    testdata = inputfile.read().strip('\\n')"
   ]
  },
  {
   "cell_type": "code",
   "execution_count": 31,
   "metadata": {},
   "outputs": [
    {
     "data": {
      "text/plain": [
       "'dabAcCaCBAcCcaDA'"
      ]
     },
     "execution_count": 31,
     "metadata": {},
     "output_type": "execute_result"
    }
   ],
   "source": [
    "testdata"
   ]
  },
  {
   "cell_type": "code",
   "execution_count": 32,
   "metadata": {},
   "outputs": [],
   "source": [
    "def react(data):\n",
    "    newdata = ''\n",
    "    previous = None\n",
    "    \n",
    "    data_gen = (ch for ch in data)\n",
    "    \n",
    "    for i, ch in enumerate(data_gen):\n",
    "        if previous is None:\n",
    "            previous = ch\n",
    "            newdata += ch\n",
    "        else:\n",
    "            # check chars are same, and case is diff\n",
    "            if previous.lower() == ch.lower() and previous.islower() != ch.islower():\n",
    "                # remove previous from newdata\n",
    "                # skip this char and add rest of data string to newdata\n",
    "                newdata = newdata[:-1] + data[i + 1:]\n",
    "                return newdata\n",
    "            newdata += ch\n",
    "        previous = ch\n",
    "    return newdata"
   ]
  },
  {
   "cell_type": "code",
   "execution_count": 33,
   "metadata": {},
   "outputs": [],
   "source": [
    "def units_after_reaction(data):\n",
    "    while len(data) > len(react(data)):\n",
    "        data = react(data)\n",
    "    return len(data)"
   ]
  },
  {
   "cell_type": "code",
   "execution_count": 34,
   "metadata": {},
   "outputs": [],
   "source": [
    "def remove_unit(data, unit):\n",
    "    data = data.replace(unit, '').replace(unit.upper(), '')\n",
    "    return data"
   ]
  },
  {
   "cell_type": "code",
   "execution_count": 35,
   "metadata": {},
   "outputs": [],
   "source": [
    "targets = 'abcdefghijklmnopqrstuvwxyz'"
   ]
  },
  {
   "cell_type": "code",
   "execution_count": 40,
   "metadata": {},
   "outputs": [
    {
     "name": "stdout",
     "output_type": "stream",
     "text": [
      "a: 9770\n",
      "b: 9736\n",
      "c: 5668\n",
      "d: 9782\n",
      "e: 9770\n",
      "f: 9770\n",
      "g: 9764\n",
      "h: 9804\n",
      "i: 9770\n",
      "j: 9778\n",
      "k: 9754\n",
      "l: 9764\n",
      "m: 9778\n",
      "n: 9760\n",
      "o: 9740\n",
      "p: 9778\n",
      "q: 9718\n",
      "r: 9780\n",
      "s: 9756\n",
      "t: 9812\n",
      "u: 9772\n",
      "v: 9736\n",
      "w: 9838\n",
      "x: 9718\n",
      "y: 9814\n",
      "z: 9788\n"
     ]
    }
   ],
   "source": [
    "units_left_per_target = {}\n",
    "for target in targets:\n",
    "    new_data = remove_unit(data, target)\n",
    "    units_left = units_after_reaction(new_data)\n",
    "    print(f'{target}: {units_left}')\n",
    "    units_left_per_target[target] = units_left"
   ]
  },
  {
   "cell_type": "code",
   "execution_count": 38,
   "metadata": {},
   "outputs": [
    {
     "data": {
      "text/plain": [
       "{'a': 6,\n",
       " 'b': 8,\n",
       " 'c': 4,\n",
       " 'd': 6,\n",
       " 'e': 10,\n",
       " 'f': 10,\n",
       " 'g': 10,\n",
       " 'h': 10,\n",
       " 'i': 10,\n",
       " 'j': 10,\n",
       " 'k': 10,\n",
       " 'l': 10,\n",
       " 'm': 10,\n",
       " 'n': 10,\n",
       " 'o': 10,\n",
       " 'p': 10,\n",
       " 'q': 10,\n",
       " 'r': 10,\n",
       " 's': 10,\n",
       " 't': 10,\n",
       " 'u': 10,\n",
       " 'v': 10,\n",
       " 'w': 10,\n",
       " 'x': 10,\n",
       " 'y': 10,\n",
       " 'z': 10}"
      ]
     },
     "execution_count": 38,
     "metadata": {},
     "output_type": "execute_result"
    }
   ],
   "source": [
    "units_left_per_target"
   ]
  },
  {
   "cell_type": "code",
   "execution_count": 16,
   "metadata": {},
   "outputs": [
    {
     "data": {
      "text/plain": [
       "'a'"
      ]
     },
     "execution_count": 16,
     "metadata": {},
     "output_type": "execute_result"
    }
   ],
   "source": [
    "min(units_left_per_target)"
   ]
  },
  {
   "cell_type": "code",
   "execution_count": null,
   "metadata": {},
   "outputs": [],
   "source": []
  }
 ],
 "metadata": {
  "kernelspec": {
   "display_name": "Python 3",
   "language": "python",
   "name": "python3"
  },
  "language_info": {
   "codemirror_mode": {
    "name": "ipython",
    "version": 3
   },
   "file_extension": ".py",
   "mimetype": "text/x-python",
   "name": "python",
   "nbconvert_exporter": "python",
   "pygments_lexer": "ipython3",
   "version": "3.6.5"
  }
 },
 "nbformat": 4,
 "nbformat_minor": 2
}
