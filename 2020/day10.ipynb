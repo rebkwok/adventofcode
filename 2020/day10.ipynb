{
 "cells": [
  {
   "cell_type": "code",
   "execution_count": 391,
   "metadata": {},
   "outputs": [],
   "source": [
    "from collections import Counter, deque\n",
    "from itertools import permutations, combinations, chain"
   ]
  },
  {
   "cell_type": "code",
   "execution_count": 527,
   "metadata": {},
   "outputs": [],
   "source": [
    "input_file = \"input/day10.txt\"\n",
    "with open(input_file) as input:\n",
    "    read_data = input.read().strip().split(\"\\n\")\n",
    "    adapter_joltages = sorted([int(x) for x in read_data])"
   ]
  },
  {
   "cell_type": "code",
   "execution_count": 528,
   "metadata": {},
   "outputs": [
    {
     "data": {
      "text/plain": [
       "[1,\n",
       " 2,\n",
       " 3,\n",
       " 6,\n",
       " 7,\n",
       " 8,\n",
       " 9,\n",
       " 10,\n",
       " 13,\n",
       " 14,\n",
       " 15,\n",
       " 16,\n",
       " 19,\n",
       " 22,\n",
       " 23,\n",
       " 24,\n",
       " 25,\n",
       " 28,\n",
       " 29,\n",
       " 32,\n",
       " 33,\n",
       " 36,\n",
       " 39,\n",
       " 42,\n",
       " 43,\n",
       " 44,\n",
       " 45,\n",
       " 48,\n",
       " 49,\n",
       " 50,\n",
       " 53,\n",
       " 56,\n",
       " 57,\n",
       " 58,\n",
       " 59,\n",
       " 62,\n",
       " 65,\n",
       " 68,\n",
       " 69,\n",
       " 70,\n",
       " 71,\n",
       " 72,\n",
       " 75,\n",
       " 78,\n",
       " 81,\n",
       " 82,\n",
       " 83,\n",
       " 84,\n",
       " 87,\n",
       " 90,\n",
       " 93,\n",
       " 94,\n",
       " 95,\n",
       " 98,\n",
       " 101,\n",
       " 102,\n",
       " 103,\n",
       " 104,\n",
       " 107,\n",
       " 108,\n",
       " 109,\n",
       " 112,\n",
       " 113,\n",
       " 114,\n",
       " 115,\n",
       " 116,\n",
       " 119,\n",
       " 120,\n",
       " 121,\n",
       " 122,\n",
       " 123,\n",
       " 126,\n",
       " 129,\n",
       " 130,\n",
       " 131,\n",
       " 132,\n",
       " 135,\n",
       " 138,\n",
       " 139,\n",
       " 140,\n",
       " 141,\n",
       " 144,\n",
       " 145,\n",
       " 148,\n",
       " 149,\n",
       " 150,\n",
       " 151,\n",
       " 152,\n",
       " 155,\n",
       " 156,\n",
       " 157,\n",
       " 160,\n",
       " 163,\n",
       " 166,\n",
       " 167,\n",
       " 168,\n",
       " 169,\n",
       " 170,\n",
       " 173,\n",
       " 174,\n",
       " 175,\n",
       " 176]"
      ]
     },
     "execution_count": 528,
     "metadata": {},
     "output_type": "execute_result"
    }
   ],
   "source": [
    "adapter_joltages"
   ]
  },
  {
   "cell_type": "code",
   "execution_count": 529,
   "metadata": {},
   "outputs": [],
   "source": [
    "built_in_adapter = max(adapter_joltages) + 3"
   ]
  },
  {
   "cell_type": "code",
   "execution_count": 530,
   "metadata": {},
   "outputs": [],
   "source": [
    "adapter_joltages_plus_built_in = adapter_joltages + [built_in_adapter]"
   ]
  },
  {
   "cell_type": "code",
   "execution_count": 531,
   "metadata": {},
   "outputs": [],
   "source": [
    "def find_next_adapter(adapter_joltages, target_joltage):\n",
    "    min_j = target_joltage + 1\n",
    "    max_j = target_joltage + 3\n",
    "    allowed_jolatges = range(min_j, max_j + 1)\n",
    "    next_adaptor = next((adaptor for adaptor in adapter_joltages if adaptor in allowed_jolatges), None)\n",
    "    if next_adaptor:\n",
    "        return next_adaptor - target_joltage\n",
    "    "
   ]
  },
  {
   "cell_type": "code",
   "execution_count": 532,
   "metadata": {},
   "outputs": [],
   "source": [
    "differences = filter(None, [find_next_adapter(adapter_joltages_plus_built_in, joltage) for joltage in [0, *adapter_joltages, built_in_adapter]])\n",
    "    "
   ]
  },
  {
   "cell_type": "code",
   "execution_count": 533,
   "metadata": {},
   "outputs": [],
   "source": [
    "counter = Counter(differences)"
   ]
  },
  {
   "cell_type": "code",
   "execution_count": 534,
   "metadata": {},
   "outputs": [
    {
     "data": {
      "text/plain": [
       "Counter({1: 65, 3: 38})"
      ]
     },
     "execution_count": 534,
     "metadata": {},
     "output_type": "execute_result"
    }
   ],
   "source": [
    "counter"
   ]
  },
  {
   "cell_type": "code",
   "execution_count": 535,
   "metadata": {},
   "outputs": [
    {
     "data": {
      "text/plain": [
       "2470"
      ]
     },
     "execution_count": 535,
     "metadata": {},
     "output_type": "execute_result"
    }
   ],
   "source": [
    "counter[1] * counter[3]"
   ]
  },
  {
   "cell_type": "code",
   "execution_count": 536,
   "metadata": {},
   "outputs": [],
   "source": [
    "tree = {}\n",
    "all_joltages = [0, *adapter_joltages, built_in_adapter]\n",
    "for i, joltage in enumerate(all_joltages):\n",
    "    children = []\n",
    "    for j in all_joltages[i+1:]:\n",
    "        if j - joltage <= 3:\n",
    "            children.append(j)\n",
    "        else:\n",
    "            break\n",
    "    tree[joltage] = children\n"
   ]
  },
  {
   "cell_type": "code",
   "execution_count": 537,
   "metadata": {},
   "outputs": [
    {
     "data": {
      "text/plain": [
       "{0: [1, 2, 3],\n",
       " 1: [2, 3],\n",
       " 2: [3],\n",
       " 3: [6],\n",
       " 6: [7, 8, 9],\n",
       " 7: [8, 9, 10],\n",
       " 8: [9, 10],\n",
       " 9: [10],\n",
       " 10: [13],\n",
       " 13: [14, 15, 16],\n",
       " 14: [15, 16],\n",
       " 15: [16],\n",
       " 16: [19],\n",
       " 19: [22],\n",
       " 22: [23, 24, 25],\n",
       " 23: [24, 25],\n",
       " 24: [25],\n",
       " 25: [28],\n",
       " 28: [29],\n",
       " 29: [32],\n",
       " 32: [33],\n",
       " 33: [36],\n",
       " 36: [39],\n",
       " 39: [42],\n",
       " 42: [43, 44, 45],\n",
       " 43: [44, 45],\n",
       " 44: [45],\n",
       " 45: [48],\n",
       " 48: [49, 50],\n",
       " 49: [50],\n",
       " 50: [53],\n",
       " 53: [56],\n",
       " 56: [57, 58, 59],\n",
       " 57: [58, 59],\n",
       " 58: [59],\n",
       " 59: [62],\n",
       " 62: [65],\n",
       " 65: [68],\n",
       " 68: [69, 70, 71],\n",
       " 69: [70, 71, 72],\n",
       " 70: [71, 72],\n",
       " 71: [72],\n",
       " 72: [75],\n",
       " 75: [78],\n",
       " 78: [81],\n",
       " 81: [82, 83, 84],\n",
       " 82: [83, 84],\n",
       " 83: [84],\n",
       " 84: [87],\n",
       " 87: [90],\n",
       " 90: [93],\n",
       " 93: [94, 95],\n",
       " 94: [95],\n",
       " 95: [98],\n",
       " 98: [101],\n",
       " 101: [102, 103, 104],\n",
       " 102: [103, 104],\n",
       " 103: [104],\n",
       " 104: [107],\n",
       " 107: [108, 109],\n",
       " 108: [109],\n",
       " 109: [112],\n",
       " 112: [113, 114, 115],\n",
       " 113: [114, 115, 116],\n",
       " 114: [115, 116],\n",
       " 115: [116],\n",
       " 116: [119],\n",
       " 119: [120, 121, 122],\n",
       " 120: [121, 122, 123],\n",
       " 121: [122, 123],\n",
       " 122: [123],\n",
       " 123: [126],\n",
       " 126: [129],\n",
       " 129: [130, 131, 132],\n",
       " 130: [131, 132],\n",
       " 131: [132],\n",
       " 132: [135],\n",
       " 135: [138],\n",
       " 138: [139, 140, 141],\n",
       " 139: [140, 141],\n",
       " 140: [141],\n",
       " 141: [144],\n",
       " 144: [145],\n",
       " 145: [148],\n",
       " 148: [149, 150, 151],\n",
       " 149: [150, 151, 152],\n",
       " 150: [151, 152],\n",
       " 151: [152],\n",
       " 152: [155],\n",
       " 155: [156, 157],\n",
       " 156: [157],\n",
       " 157: [160],\n",
       " 160: [163],\n",
       " 163: [166],\n",
       " 166: [167, 168, 169],\n",
       " 167: [168, 169, 170],\n",
       " 168: [169, 170],\n",
       " 169: [170],\n",
       " 170: [173],\n",
       " 173: [174, 175, 176],\n",
       " 174: [175, 176],\n",
       " 175: [176],\n",
       " 176: [179],\n",
       " 179: []}"
      ]
     },
     "execution_count": 537,
     "metadata": {},
     "output_type": "execute_result"
    }
   ],
   "source": [
    "tree"
   ]
  },
  {
   "cell_type": "code",
   "execution_count": 538,
   "metadata": {},
   "outputs": [],
   "source": [
    "count = 0\n",
    "def print_node(node):\n",
    "    global count\n",
    "    if tree[node] == []:\n",
    "        count += 1\n",
    "        if count % 1000000 == 0:\n",
    "            print(count)\n",
    "    for branch in tree[node]:\n",
    "        print_node(branch)"
   ]
  },
  {
   "cell_type": "code",
   "execution_count": 539,
   "metadata": {},
   "outputs": [],
   "source": [
    "def children(node):\n",
    "    return tree[node]"
   ]
  },
  {
   "cell_type": "code",
   "execution_count": 540,
   "metadata": {},
   "outputs": [],
   "source": [
    "all_joltages_reverse = sorted([0, *adapter_joltages, built_in_adapter], reverse=True)"
   ]
  },
  {
   "cell_type": "code",
   "execution_count": 541,
   "metadata": {},
   "outputs": [],
   "source": [
    "possible_branches = {}\n",
    "for node in all_joltages_reverse:\n",
    "    if not children(node):\n",
    "        possible_branches[node] = 1\n",
    "    else:\n",
    "        child_branches = sum([possible_branches[child] for child in children(node)])\n",
    "        possible_branches[node] = child_branches"
   ]
  },
  {
   "cell_type": "code",
   "execution_count": 543,
   "metadata": {},
   "outputs": [
    {
     "data": {
      "text/plain": [
       "{179: 1,\n",
       " 176: 1,\n",
       " 175: 1,\n",
       " 174: 2,\n",
       " 173: 4,\n",
       " 170: 4,\n",
       " 169: 4,\n",
       " 168: 8,\n",
       " 167: 16,\n",
       " 166: 28,\n",
       " 163: 28,\n",
       " 160: 28,\n",
       " 157: 28,\n",
       " 156: 28,\n",
       " 155: 56,\n",
       " 152: 56,\n",
       " 151: 56,\n",
       " 150: 112,\n",
       " 149: 224,\n",
       " 148: 392,\n",
       " 145: 392,\n",
       " 144: 392,\n",
       " 141: 392,\n",
       " 140: 392,\n",
       " 139: 784,\n",
       " 138: 1568,\n",
       " 135: 1568,\n",
       " 132: 1568,\n",
       " 131: 1568,\n",
       " 130: 3136,\n",
       " 129: 6272,\n",
       " 126: 6272,\n",
       " 123: 6272,\n",
       " 122: 6272,\n",
       " 121: 12544,\n",
       " 120: 25088,\n",
       " 119: 43904,\n",
       " 116: 43904,\n",
       " 115: 43904,\n",
       " 114: 87808,\n",
       " 113: 175616,\n",
       " 112: 307328,\n",
       " 109: 307328,\n",
       " 108: 307328,\n",
       " 107: 614656,\n",
       " 104: 614656,\n",
       " 103: 614656,\n",
       " 102: 1229312,\n",
       " 101: 2458624,\n",
       " 98: 2458624,\n",
       " 95: 2458624,\n",
       " 94: 2458624,\n",
       " 93: 4917248,\n",
       " 90: 4917248,\n",
       " 87: 4917248,\n",
       " 84: 4917248,\n",
       " 83: 4917248,\n",
       " 82: 9834496,\n",
       " 81: 19668992,\n",
       " 78: 19668992,\n",
       " 75: 19668992,\n",
       " 72: 19668992,\n",
       " 71: 19668992,\n",
       " 70: 39337984,\n",
       " 69: 78675968,\n",
       " 68: 137682944,\n",
       " 65: 137682944,\n",
       " 62: 137682944,\n",
       " 59: 137682944,\n",
       " 58: 137682944,\n",
       " 57: 275365888,\n",
       " 56: 550731776,\n",
       " 53: 550731776,\n",
       " 50: 550731776,\n",
       " 49: 550731776,\n",
       " 48: 1101463552,\n",
       " 45: 1101463552,\n",
       " 44: 1101463552,\n",
       " 43: 2202927104,\n",
       " 42: 4405854208,\n",
       " 39: 4405854208,\n",
       " 36: 4405854208,\n",
       " 33: 4405854208,\n",
       " 32: 4405854208,\n",
       " 29: 4405854208,\n",
       " 28: 4405854208,\n",
       " 25: 4405854208,\n",
       " 24: 4405854208,\n",
       " 23: 8811708416,\n",
       " 22: 17623416832,\n",
       " 19: 17623416832,\n",
       " 16: 17623416832,\n",
       " 15: 17623416832,\n",
       " 14: 35246833664,\n",
       " 13: 70493667328,\n",
       " 10: 70493667328,\n",
       " 9: 70493667328,\n",
       " 8: 140987334656,\n",
       " 7: 281974669312,\n",
       " 6: 493455671296,\n",
       " 3: 493455671296,\n",
       " 2: 493455671296,\n",
       " 1: 986911342592,\n",
       " 0: 1973822685184}"
      ]
     },
     "execution_count": 543,
     "metadata": {},
     "output_type": "execute_result"
    }
   ],
   "source": [
    "possible_branches"
   ]
  },
  {
   "cell_type": "code",
   "execution_count": null,
   "metadata": {},
   "outputs": [],
   "source": []
  }
 ],
 "metadata": {
  "kernelspec": {
   "display_name": "Python 3",
   "language": "python",
   "name": "python3"
  },
  "language_info": {
   "codemirror_mode": {
    "name": "ipython",
    "version": 3
   },
   "file_extension": ".py",
   "mimetype": "text/x-python",
   "name": "python",
   "nbconvert_exporter": "python",
   "pygments_lexer": "ipython3",
   "version": "3.8.0"
  }
 },
 "nbformat": 4,
 "nbformat_minor": 2
}
