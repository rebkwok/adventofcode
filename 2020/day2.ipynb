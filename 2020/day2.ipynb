{
 "cells": [
  {
   "cell_type": "code",
   "execution_count": 22,
   "metadata": {},
   "outputs": [],
   "source": [
    "from collections import Counter"
   ]
  },
  {
   "cell_type": "code",
   "execution_count": 33,
   "metadata": {},
   "outputs": [],
   "source": [
    "input_file = \"input/day2.txt\"\n",
    "with open(input_file) as input:\n",
    "    read_data = input.read().strip().split(\"\\n\")\n",
    "    data = []\n",
    "    for x in read_data:\n",
    "        min_max, target, password = x.split()\n",
    "        min_count, max_count = min_max.split(\"-\")\n",
    "        data.append((int(min_count), int(max_count), target[:-1], password))\n",
    "        "
   ]
  },
  {
   "cell_type": "code",
   "execution_count": 34,
   "metadata": {},
   "outputs": [
    {
     "data": {
      "text/plain": [
       "[(6, 10, 'p', 'ctpppjmdpppppp'),\n",
       " (17, 19, 'l', 'llllllllllllllllllll'),\n",
       " (14, 19, 'z', 'zrzzzzzztzzzzwzzzzk'),\n",
       " (1, 8, 'k', 'qkkkkkkxkkkkkkkkk'),\n",
       " (5, 6, 'x', 'xxxxvxx'),\n",
       " (8, 14, 'n', 'nnnnnnnnnnnnkfnnnnnn'),\n",
       " (18, 19, 't', 'ttttttttfttttttttwtt'),\n",
       " (3, 13, 'w', 'wwwqwwwwrqwtzwvw'),\n",
       " (1, 3, 'b', 'bbrbb'),\n",
       " (8, 14, 'q', 'mqwmqvfqqqsqqqqqwb')]"
      ]
     },
     "execution_count": 34,
     "metadata": {},
     "output_type": "execute_result"
    }
   ],
   "source": [
    "data[:10]"
   ]
  },
  {
   "cell_type": "code",
   "execution_count": 35,
   "metadata": {},
   "outputs": [],
   "source": [
    "# Part 1\n",
    "valid = invalid = 0\n",
    "for (min_count, max_count, target, password) in data:\n",
    "    counter = Counter(password)\n",
    "    if counter[target] >= min_count and counter[target] <= max_count:\n",
    "        valid += 1\n",
    "    else:\n",
    "        invalid += 1"
   ]
  },
  {
   "cell_type": "code",
   "execution_count": 36,
   "metadata": {},
   "outputs": [
    {
     "data": {
      "text/plain": [
       "493"
      ]
     },
     "execution_count": 36,
     "metadata": {},
     "output_type": "execute_result"
    }
   ],
   "source": [
    "valid"
   ]
  },
  {
   "cell_type": "code",
   "execution_count": 38,
   "metadata": {},
   "outputs": [],
   "source": [
    "# Part 2\n",
    "valid = invalid = 0\n",
    "for (position1, position2, target, password) in data:\n",
    "    position1_match = password[position1 - 1] == target \n",
    "    position2_match = password[position2 - 1] == target\n",
    "    matches = sum([1 for match in [position1_match, position2_match] if match])\n",
    "    if matches == 1:\n",
    "        valid += 1\n",
    "    else:\n",
    "        invalid += 1"
   ]
  },
  {
   "cell_type": "code",
   "execution_count": 39,
   "metadata": {},
   "outputs": [
    {
     "data": {
      "text/plain": [
       "593"
      ]
     },
     "execution_count": 39,
     "metadata": {},
     "output_type": "execute_result"
    }
   ],
   "source": [
    "valid"
   ]
  },
  {
   "cell_type": "code",
   "execution_count": null,
   "metadata": {},
   "outputs": [],
   "source": []
  }
 ],
 "metadata": {
  "kernelspec": {
   "display_name": "Python 3",
   "language": "python",
   "name": "python3"
  },
  "language_info": {
   "codemirror_mode": {
    "name": "ipython",
    "version": 3
   },
   "file_extension": ".py",
   "mimetype": "text/x-python",
   "name": "python",
   "nbconvert_exporter": "python",
   "pygments_lexer": "ipython3",
   "version": "3.7.1"
  }
 },
 "nbformat": 4,
 "nbformat_minor": 2
}
