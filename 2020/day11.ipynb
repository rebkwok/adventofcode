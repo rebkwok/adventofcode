{
 "cells": [
  {
   "cell_type": "code",
   "execution_count": 52,
   "metadata": {},
   "outputs": [],
   "source": [
    "from itertools import product\n",
    "import numpy as np"
   ]
  },
  {
   "cell_type": "code",
   "execution_count": 60,
   "metadata": {},
   "outputs": [],
   "source": [
    "input_file = \"input/day11.txt\"\n",
    "with open(input_file) as input:\n",
    "    start = input.read().strip().split(\"\\n\")"
   ]
  },
  {
   "cell_type": "code",
   "execution_count": 61,
   "metadata": {},
   "outputs": [
    {
     "data": {
      "text/plain": [
       "array([['L', 'L', 'L', ..., 'L', 'L', 'L'],\n",
       "       ['L', 'L', 'L', ..., 'L', 'L', 'L'],\n",
       "       ['L', 'L', 'L', ..., 'L', 'L', 'L'],\n",
       "       ...,\n",
       "       ['L', 'L', 'L', ..., 'L', 'L', 'L'],\n",
       "       ['L', 'L', 'L', ..., 'L', 'L', 'L'],\n",
       "       ['L', '.', 'L', ..., 'L', 'L', 'L']], dtype='<U1')"
      ]
     },
     "execution_count": 61,
     "metadata": {},
     "output_type": "execute_result"
    }
   ],
   "source": [
    "position_mapping = {\n",
    "    \"L\": 0,\n",
    "    \".\": 0,\n",
    "    \"#\": 1\n",
    "}\n",
    "\n",
    "for row in start:\n",
    "    coded_row = [x for x in row]\n",
    "\n",
    "seat_plan = np.array([[x for x in row] for row in start])\n",
    "seat_plan\n"
   ]
  },
  {
   "cell_type": "code",
   "execution_count": 62,
   "metadata": {},
   "outputs": [],
   "source": [
    "def adjacent_seat_pos(target_pos, min_pos, max_pos):\n",
    "    row, col = target_pos\n",
    "    adjacent_rows = list(range(row - 1, row + 1 + 1))\n",
    "    adjacent_rows = [row for row in adjacent_rows if min_pos[0] <= row <= max_pos[0]]\n",
    "    adjacent_cols = list(range(col - 1, col + 1 + 1))\n",
    "    adjacent_cols = [col for col in adjacent_cols if min_pos[1] <= col <= max_pos[1]]\n",
    "    for seat in product(adjacent_rows, adjacent_cols):\n",
    "        if seat != target_pos:\n",
    "            yield seat"
   ]
  },
  {
   "cell_type": "code",
   "execution_count": 63,
   "metadata": {},
   "outputs": [],
   "source": [
    "def get_value(seat_plan, pos):\n",
    "    return seat_plan[pos[0]][pos[1]]"
   ]
  },
  {
   "cell_type": "code",
   "execution_count": 64,
   "metadata": {},
   "outputs": [],
   "source": [
    "def apply_seat_rules(seat_plan):\n",
    "    new_seat_plan = seat_plan.copy()\n",
    "    all_seats = product(range(0, len(seat_plan)), range(0, len(seat_plan[0])))\n",
    "    min_pos = (0, 0)\n",
    "    max_pos = (len(seat_plan) - 1, len(seat_plan[0]) - 1)\n",
    "    \n",
    "    for seat in all_seats:\n",
    "        current_value = get_value(seat_plan, seat)\n",
    "        current_row, current_col = seat\n",
    "        if current_value != \".\":\n",
    "            total_adjacent = [position_mapping[get_value(seat_plan, adjacent_seat)] for adjacent_seat in adjacent_seat_pos(seat, min_pos, max_pos)]\n",
    "            occupied = sum(total_adjacent)\n",
    "            if occupied == 0:\n",
    "                new_seat_plan[current_row][current_col] = \"#\"\n",
    "            elif occupied >= 4:\n",
    "                new_seat_plan[current_row][current_col] = \"L\"\n",
    "    return new_seat_plan"
   ]
  },
  {
   "cell_type": "code",
   "execution_count": 65,
   "metadata": {},
   "outputs": [],
   "source": [
    "def apply_rules(seat_plan):\n",
    "    new_plan = apply_seat_rules(seat_plan)\n",
    "    if (new_plan == seat_plan).all():\n",
    "        return len(new_plan[np.where(new_plan == \"#\")])\n",
    "    return apply_rules(new_plan)\n",
    "    "
   ]
  },
  {
   "cell_type": "code",
   "execution_count": 66,
   "metadata": {},
   "outputs": [
    {
     "data": {
      "text/plain": [
       "2329"
      ]
     },
     "execution_count": 66,
     "metadata": {},
     "output_type": "execute_result"
    }
   ],
   "source": [
    "apply_rules(seat_plan)"
   ]
  },
  {
   "cell_type": "code",
   "execution_count": null,
   "metadata": {},
   "outputs": [],
   "source": []
  }
 ],
 "metadata": {
  "kernelspec": {
   "display_name": "Python 3",
   "language": "python",
   "name": "python3"
  },
  "language_info": {
   "codemirror_mode": {
    "name": "ipython",
    "version": 3
   },
   "file_extension": ".py",
   "mimetype": "text/x-python",
   "name": "python",
   "nbconvert_exporter": "python",
   "pygments_lexer": "ipython3",
   "version": "3.8.0"
  }
 },
 "nbformat": 4,
 "nbformat_minor": 2
}
