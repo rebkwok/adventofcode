{
 "cells": [
  {
   "cell_type": "code",
   "execution_count": 2,
   "id": "b1a0911f",
   "metadata": {},
   "outputs": [],
   "source": [
    "from pathlib import Path\n",
    "from utils import read_input\n",
    "from collections import Counter\n",
    "import numpy as np\n",
    "from bresenham import bresenham\n",
    "from statistics import mean, median, mode\n",
    "from math import factorial"
   ]
  },
  {
   "cell_type": "code",
   "execution_count": 3,
   "id": "567648cc",
   "metadata": {},
   "outputs": [],
   "source": [
    "test = Path(\"input/day7/test.txt\")\n",
    "data = Path(\"input/day7/data.txt\")"
   ]
  },
  {
   "cell_type": "code",
   "execution_count": 4,
   "id": "a67a385e",
   "metadata": {},
   "outputs": [],
   "source": [
    "test_input = read_input(test)"
   ]
  },
  {
   "cell_type": "code",
   "execution_count": 5,
   "id": "98aefec5",
   "metadata": {},
   "outputs": [
    {
     "data": {
      "text/plain": [
       "['16,1,2,0,4,2,7,1,2,14']"
      ]
     },
     "execution_count": 5,
     "metadata": {},
     "output_type": "execute_result"
    }
   ],
   "source": [
    "test_input"
   ]
  },
  {
   "cell_type": "code",
   "execution_count": 6,
   "id": "eda463fd",
   "metadata": {},
   "outputs": [],
   "source": [
    "def get_positions(input_data):\n",
    "    data = read_input(input_data)\n",
    "    assert len(data) == 1\n",
    "    data = data[0].split(',')\n",
    "    return [int(num) for num in data]"
   ]
  },
  {
   "cell_type": "code",
   "execution_count": 15,
   "id": "58369422",
   "metadata": {},
   "outputs": [],
   "source": [
    "positions = get_positions(test)"
   ]
  },
  {
   "cell_type": "code",
   "execution_count": 16,
   "id": "3759540f",
   "metadata": {},
   "outputs": [],
   "source": [
    "def move_to(positions, target_position):\n",
    "    fuel_used = 0\n",
    "    for position in positions:\n",
    "        fuel_used += abs(target_position - position)\n",
    "    return fuel_used"
   ]
  },
  {
   "cell_type": "code",
   "execution_count": 17,
   "id": "eb3eea48",
   "metadata": {},
   "outputs": [
    {
     "data": {
      "text/plain": [
       "37.0"
      ]
     },
     "execution_count": 17,
     "metadata": {},
     "output_type": "execute_result"
    }
   ],
   "source": [
    "median_position = median(positions)\n",
    "move_to(positions, median_position)"
   ]
  },
  {
   "cell_type": "code",
   "execution_count": 18,
   "id": "1bb9482e",
   "metadata": {},
   "outputs": [],
   "source": [
    "def exp_move_to(positions, target_position):\n",
    "    fuel_used = 0\n",
    "    for position in positions:\n",
    "        difference = abs(target_position - position)\n",
    "        total = sum(range(1, difference + 1))\n",
    "        fuel_used += total\n",
    "    return fuel_used"
   ]
  },
  {
   "cell_type": "code",
   "execution_count": 20,
   "id": "c9b94a78",
   "metadata": {},
   "outputs": [
    {
     "data": {
      "text/plain": [
       "[(2, 3), (1, 2), (16, 1), (0, 1), (4, 1), (7, 1), (14, 1)]"
      ]
     },
     "execution_count": 20,
     "metadata": {},
     "output_type": "execute_result"
    }
   ],
   "source": [
    "Counter(positions).most_common()"
   ]
  },
  {
   "cell_type": "code",
   "execution_count": 21,
   "id": "0eacc0bf",
   "metadata": {},
   "outputs": [
    {
     "data": {
      "text/plain": [
       "(5, 168)"
      ]
     },
     "execution_count": 21,
     "metadata": {},
     "output_type": "execute_result"
    }
   ],
   "source": [
    "positions = get_positions(test)\n",
    "target_positions = range(min(positions), max(positions) + 1)\n",
    "all_moves = []\n",
    "for position in target_positions:\n",
    "    fuel_used = exp_move_to(positions, position)\n",
    "#     print(f'TARGET POSITION {position}: {fuel_used}')\n",
    "    all_moves.append((position, fuel_used))\n",
    "\n",
    "min(all_moves, key=lambda x: x[1])"
   ]
  },
  {
   "cell_type": "code",
   "execution_count": null,
   "id": "a20e75ff",
   "metadata": {},
   "outputs": [],
   "source": []
  }
 ],
 "metadata": {
  "kernelspec": {
   "display_name": "Python 3 (ipykernel)",
   "language": "python",
   "name": "python3"
  },
  "language_info": {
   "codemirror_mode": {
    "name": "ipython",
    "version": 3
   },
   "file_extension": ".py",
   "mimetype": "text/x-python",
   "name": "python",
   "nbconvert_exporter": "python",
   "pygments_lexer": "ipython3",
   "version": "3.10.0"
  }
 },
 "nbformat": 4,
 "nbformat_minor": 5
}
