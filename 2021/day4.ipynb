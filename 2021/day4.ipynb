{
 "cells": [
  {
   "cell_type": "code",
   "execution_count": 76,
   "id": "b1a0911f",
   "metadata": {},
   "outputs": [],
   "source": [
    "from pathlib import Path\n",
    "from utils import read_input\n",
    "from collections import Counter\n",
    "import numpy as np"
   ]
  },
  {
   "cell_type": "code",
   "execution_count": 77,
   "id": "567648cc",
   "metadata": {},
   "outputs": [],
   "source": [
    "test = Path(\"input/day4/test.txt\")\n",
    "data = Path(\"input/day4/data.txt\")"
   ]
  },
  {
   "cell_type": "code",
   "execution_count": 78,
   "id": "a67a385e",
   "metadata": {},
   "outputs": [],
   "source": [
    "test_input = read_input(test)"
   ]
  },
  {
   "cell_type": "code",
   "execution_count": 79,
   "id": "7f8024f6",
   "metadata": {},
   "outputs": [
    {
     "data": {
      "text/plain": [
       "['7,4,9,5,11,17,23,2,0,14,21,24,10,16,13,6,15,25,12,22,18,20,8,19,3,26,1',\n",
       " '',\n",
       " '22 13 17 11  0',\n",
       " ' 8  2 23  4 24',\n",
       " '21  9 14 16  7',\n",
       " ' 6 10  3 18  5',\n",
       " ' 1 12 20 15 19',\n",
       " '',\n",
       " ' 3 15  0  2 22',\n",
       " ' 9 18 13 17  5',\n",
       " '19  8  7 25 23',\n",
       " '20 11 10 24  4',\n",
       " '14 21 16 12  6',\n",
       " '',\n",
       " '14 21 17 24  4',\n",
       " '10 16 15  9 19',\n",
       " '18  8 23 26 20',\n",
       " '22 11 13  6  5',\n",
       " ' 2  0 12  3  7']"
      ]
     },
     "execution_count": 79,
     "metadata": {},
     "output_type": "execute_result"
    }
   ],
   "source": [
    "test_input"
   ]
  },
  {
   "cell_type": "code",
   "execution_count": 80,
   "id": "1ddff986",
   "metadata": {},
   "outputs": [],
   "source": [
    "def get_numbers_and_boards(input_data):\n",
    "    input_data = read_input(input_data)\n",
    "    numbers = input_data.pop(0)\n",
    "    numbers = [int(number) for number in numbers.split(',')]\n",
    "    boards = []\n",
    "    new_board = []\n",
    "    for line in input_data:\n",
    "        if line != '':\n",
    "            new_board.append([int(num) for num in line.strip().split()])\n",
    "        if len(new_board) == 5:\n",
    "            boards.append(new_board)\n",
    "            new_board = []\n",
    "    return numbers, boards"
   ]
  },
  {
   "cell_type": "code",
   "execution_count": 81,
   "id": "134a2408",
   "metadata": {},
   "outputs": [],
   "source": [
    "def update_board_tracker(boards, board_tracker, number):\n",
    "    for i, board in enumerate(boards):\n",
    "        for row_i, row in enumerate(board):\n",
    "            for col_i, col_value in enumerate(row):\n",
    "                if col_value == number:\n",
    "                    board_tracker[i][row_i][col_i] = 1\n",
    "    return board_tracker"
   ]
  },
  {
   "cell_type": "code",
   "execution_count": 82,
   "id": "596bdc30",
   "metadata": {},
   "outputs": [],
   "source": [
    "def check_board(board):\n",
    "    for row in board:\n",
    "        if sum(row) == 5:\n",
    "            return True\n",
    "    for col in zip(*board):\n",
    "        if sum(col) == 5:\n",
    "            return True\n",
    "    \n",
    "#     diagonals = [\n",
    "#         [(0, 0), (1, 1), (2, 2), (3, 3), (4, 4)],\n",
    "#         [(0, 4), (1, 3), (2, 2), (3, 1), (4, 0)]\n",
    "#     ]\n",
    "#     for diagonal in diagonals:\n",
    "#         if sum([board[row][col] for (row, col) in diagonal]) == 5:\n",
    "#             print('diag')\n",
    "#             return True\n",
    "    \n",
    "    return False\n",
    "    "
   ]
  },
  {
   "cell_type": "code",
   "execution_count": 97,
   "id": "d9cee2f0",
   "metadata": {},
   "outputs": [],
   "source": [
    "def find_winner(numbers, boards):\n",
    "    board_tracker = np.zeros((len(boards), 5, 5))\n",
    "    for number in numbers:\n",
    "        board_tracker = update_board_tracker(boards, board_tracker, number)\n",
    "        for i, board in enumerate(board_tracker):\n",
    "            if check_board(board):\n",
    "                return number, i, board_tracker"
   ]
  },
  {
   "cell_type": "code",
   "execution_count": 98,
   "id": "0632e446",
   "metadata": {},
   "outputs": [],
   "source": [
    "def find_sum_unmarked(board_index, boards, board_tracker):\n",
    "    board = boards[board_index]\n",
    "    mask = board_tracker[board_index]\n",
    "    reverse_mask = (mask * -1) + 1\n",
    "    return sum(sum(board * reverse_mask))\n"
   ]
  },
  {
   "cell_type": "code",
   "execution_count": 99,
   "id": "0ddfc833",
   "metadata": {},
   "outputs": [],
   "source": [
    "numbers, boards = get_numbers_and_boards(test)"
   ]
  },
  {
   "cell_type": "code",
   "execution_count": 100,
   "id": "a47d34e4",
   "metadata": {},
   "outputs": [],
   "source": [
    "last_number, board_index, board_tracker = find_winner(numbers, boards)"
   ]
  },
  {
   "cell_type": "code",
   "execution_count": 101,
   "id": "ef3e5f15",
   "metadata": {},
   "outputs": [
    {
     "data": {
      "text/plain": [
       "4512.0"
      ]
     },
     "execution_count": 101,
     "metadata": {},
     "output_type": "execute_result"
    }
   ],
   "source": [
    "find_sum_unmarked(board_index, boards, board_tracker) * last_number"
   ]
  },
  {
   "cell_type": "code",
   "execution_count": 102,
   "id": "9582a701",
   "metadata": {},
   "outputs": [
    {
     "data": {
      "text/plain": [
       "23177.0"
      ]
     },
     "execution_count": 102,
     "metadata": {},
     "output_type": "execute_result"
    }
   ],
   "source": [
    "numbers, boards = get_numbers_and_boards(data)\n",
    "last_number, board_index, board_tracker = find_winner(numbers, boards)\n",
    "find_sum_unmarked(board_index, boards, board_tracker) * last_number"
   ]
  },
  {
   "cell_type": "code",
   "execution_count": 114,
   "id": "0aebc397",
   "metadata": {},
   "outputs": [],
   "source": [
    "def find_last_winner(numbers, boards):\n",
    "    board_tracker = np.zeros((len(boards), 5, 5))\n",
    "    boards_won = []\n",
    "    for number in numbers:\n",
    "        board_tracker = update_board_tracker(boards, board_tracker, number)\n",
    "        for i, board in enumerate(board_tracker):\n",
    "            if check_board(board) and i not in boards_won:\n",
    "                boards_won.append(i)\n",
    "                if len(boards_won) == len(boards):\n",
    "                    return number, i, board_tracker"
   ]
  },
  {
   "cell_type": "code",
   "execution_count": 119,
   "id": "9e9198f2",
   "metadata": {},
   "outputs": [
    {
     "data": {
      "text/plain": [
       "1924.0"
      ]
     },
     "execution_count": 119,
     "metadata": {},
     "output_type": "execute_result"
    }
   ],
   "source": [
    "numbers, boards = get_numbers_and_boards(test)\n",
    "last_number, board_index, board_tracker = find_last_winner(numbers, boards)\n",
    "find_sum_unmarked(board_index, boards, board_tracker) * last_number"
   ]
  },
  {
   "cell_type": "code",
   "execution_count": 120,
   "id": "cfd693bd",
   "metadata": {},
   "outputs": [
    {
     "data": {
      "text/plain": [
       "6804.0"
      ]
     },
     "execution_count": 120,
     "metadata": {},
     "output_type": "execute_result"
    }
   ],
   "source": [
    "numbers, boards = get_numbers_and_boards(data)\n",
    "last_number, board_index, board_tracker = find_last_winner(numbers, boards)\n",
    "find_sum_unmarked(board_index, boards, board_tracker) * last_number"
   ]
  },
  {
   "cell_type": "code",
   "execution_count": null,
   "id": "622ce7af",
   "metadata": {},
   "outputs": [],
   "source": []
  }
 ],
 "metadata": {
  "kernelspec": {
   "display_name": "Python 3 (ipykernel)",
   "language": "python",
   "name": "python3"
  },
  "language_info": {
   "codemirror_mode": {
    "name": "ipython",
    "version": 3
   },
   "file_extension": ".py",
   "mimetype": "text/x-python",
   "name": "python",
   "nbconvert_exporter": "python",
   "pygments_lexer": "ipython3",
   "version": "3.10.0"
  }
 },
 "nbformat": 4,
 "nbformat_minor": 5
}
