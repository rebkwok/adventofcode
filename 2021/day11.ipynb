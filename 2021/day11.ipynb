{
 "cells": [
  {
   "cell_type": "code",
   "execution_count": 1,
   "id": "b1a0911f",
   "metadata": {},
   "outputs": [],
   "source": [
    "from pathlib import Path\n",
    "from utils import read_input\n",
    "from collections import Counter\n",
    "import numpy as np\n",
    "from bresenham import bresenham\n",
    "from statistics import mean, median, mode\n",
    "from itertools import combinations, product\n",
    "from tqdm import tqdm\n",
    "import pandas as pd"
   ]
  },
  {
   "cell_type": "code",
   "execution_count": 2,
   "id": "567648cc",
   "metadata": {},
   "outputs": [],
   "source": [
    "test = Path(\"input/day11/test.txt\")\n",
    "test1 = Path(\"input/day11/test1.txt\")\n",
    "data = Path(\"input/day11/data.txt\")"
   ]
  },
  {
   "cell_type": "code",
   "execution_count": 8,
   "id": "f7ddd400",
   "metadata": {},
   "outputs": [],
   "source": [
    "def octogrid(input_file):\n",
    "    grid = [[int(pos) for pos in line] for line in read_input(input_file)]\n",
    "    return np.array(grid)"
   ]
  },
  {
   "cell_type": "code",
   "execution_count": 121,
   "id": "e6064e11",
   "metadata": {},
   "outputs": [],
   "source": [
    "def increase(position, grid):\n",
    "    \"\"\"\n",
    "    find up to 8 surronding positions, increase by 1\n",
    "    return grid\n",
    "    \"\"\"\n",
    "    row, col = position\n",
    "    for i in range(row - 1, row + 2):\n",
    "        if 0 <= i < len(grid):\n",
    "            for j in range(col - 1, col + 2):\n",
    "                if 0 <= j < len(grid[0]):\n",
    "                    if (i, j) != position:\n",
    "                        grid[i][j] += 1\n",
    "    return grid\n",
    "                    \n",
    "\n",
    "def run_flashes(grid, flashed=None):\n",
    "    flashed = flashed or set()\n",
    "    new_flash_positions = np.nonzero(grid > 9)\n",
    "    new_flash_coords = set(zip(*new_flash_positions)) - flashed\n",
    "    if not new_flash_coords:\n",
    "        return grid, flashed\n",
    "    \n",
    "    for position in new_flash_coords:\n",
    "        flashed.add(position)\n",
    "        grid = increase(position, grid)\n",
    "        return run_flashes(grid, flashed)\n",
    "    \n",
    "    \n",
    "def step(grid):\n",
    "    \"\"\"\n",
    "    1) all positions increase by 1\n",
    "    2) any posiiton > 9 flashes\n",
    "       > adjacent position (incl diagonal) flashes\n",
    "       > repeat for new flashes\n",
    "        (no position flashes twice)\n",
    "    3) All positions > 9 set to 0\n",
    "    \"\"\"\n",
    "    grid += 1\n",
    "    grid, flash_positions = run_flashes(grid)\n",
    "    mask = np.ones(grid.shape)\n",
    "    for row, col in flash_positions:\n",
    "        mask[row][col] = 0\n",
    "    new_grid = grid * mask\n",
    "    return new_grid, len(flash_positions)\n",
    "    \n",
    "\n",
    "def run_steps(grid, n):\n",
    "    \n",
    "    flash_count = 0\n",
    "    \n",
    "    for i in range(1, n + 1):\n",
    "        \n",
    "        flash_count += flashes\n",
    "    \n",
    "    return grid, flash_count\n",
    "    \n",
    "\n",
    "def run_until_simultaneous_flash(grid):\n",
    "    i = 1\n",
    "    while True:\n",
    "        grid, flashes = step(grid)\n",
    "        if not np.any(grid):\n",
    "            return i\n",
    "        i += 1\n",
    "            "
   ]
  },
  {
   "cell_type": "code",
   "execution_count": 123,
   "id": "6e7b4c80",
   "metadata": {},
   "outputs": [
    {
     "data": {
      "text/plain": [
       "488"
      ]
     },
     "execution_count": 123,
     "metadata": {},
     "output_type": "execute_result"
    }
   ],
   "source": [
    "grid = octogrid(data)\n",
    "run_until_simultaneous_flash(grid)"
   ]
  },
  {
   "cell_type": "code",
   "execution_count": null,
   "id": "ac720dc2",
   "metadata": {},
   "outputs": [],
   "source": []
  }
 ],
 "metadata": {
  "kernelspec": {
   "display_name": "Python 3 (ipykernel)",
   "language": "python",
   "name": "python3"
  },
  "language_info": {
   "codemirror_mode": {
    "name": "ipython",
    "version": 3
   },
   "file_extension": ".py",
   "mimetype": "text/x-python",
   "name": "python",
   "nbconvert_exporter": "python",
   "pygments_lexer": "ipython3",
   "version": "3.10.0"
  }
 },
 "nbformat": 4,
 "nbformat_minor": 5
}
