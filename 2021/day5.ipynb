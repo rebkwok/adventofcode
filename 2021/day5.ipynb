{
 "cells": [
  {
   "cell_type": "code",
   "execution_count": 84,
   "id": "b1a0911f",
   "metadata": {},
   "outputs": [],
   "source": [
    "from pathlib import Path\n",
    "from utils import read_input\n",
    "from collections import Counter\n",
    "import numpy as np\n",
    "from bresenham import bresenham"
   ]
  },
  {
   "cell_type": "code",
   "execution_count": 85,
   "id": "567648cc",
   "metadata": {},
   "outputs": [],
   "source": [
    "test = Path(\"input/day5/test.txt\")\n",
    "data = Path(\"input/day5/data.txt\")"
   ]
  },
  {
   "cell_type": "code",
   "execution_count": 86,
   "id": "a67a385e",
   "metadata": {},
   "outputs": [],
   "source": [
    "test_input = read_input(test)"
   ]
  },
  {
   "cell_type": "code",
   "execution_count": 87,
   "id": "7f8024f6",
   "metadata": {},
   "outputs": [
    {
     "data": {
      "text/plain": [
       "['0,9 -> 5,9',\n",
       " '8,0 -> 0,8',\n",
       " '9,4 -> 3,4',\n",
       " '2,2 -> 2,1',\n",
       " '7,0 -> 7,4',\n",
       " '6,4 -> 2,0',\n",
       " '0,9 -> 2,9',\n",
       " '3,4 -> 1,4',\n",
       " '0,0 -> 8,8',\n",
       " '5,5 -> 8,2']"
      ]
     },
     "execution_count": 87,
     "metadata": {},
     "output_type": "execute_result"
    }
   ],
   "source": [
    "test_input"
   ]
  },
  {
   "cell_type": "code",
   "execution_count": 116,
   "id": "9b398735",
   "metadata": {},
   "outputs": [],
   "source": [
    "def get_lines(input, include_diagonals=False):\n",
    "    read = read_input(input)\n",
    "    line_coords = []\n",
    "    x = set()\n",
    "    y = set()\n",
    "\n",
    "    for line in read:\n",
    "        start, end = line.split('->')\n",
    "\n",
    "        start = [int(num) for num in start.strip().split(',')]\n",
    "        end = [int(num) for num in end.strip().split(',')]\n",
    "        if include_diagonals or (start[0] == end[0] or start[1] == end[1]):\n",
    "            line_coords.append((start, end))\n",
    "            for coords in [start, end]:\n",
    "                x.add(coords[0])\n",
    "                y.add(coords[1])\n",
    "        \n",
    "    return line_coords, max(x) + 1, max(y) + 1"
   ]
  },
  {
   "cell_type": "code",
   "execution_count": 119,
   "id": "777e2602",
   "metadata": {},
   "outputs": [],
   "source": [
    "def create_grid(line_coords, max_x, max_y):\n",
    "    grid = np.zeros((max_y, max_x))\n",
    "\n",
    "    for coords in line_coords:\n",
    "\n",
    "        start, end = coords\n",
    "        points = bresenham(*sum(coords, []))\n",
    "\n",
    "        for (x, y) in points:\n",
    "            grid[y][x] += 1\n",
    "    return grid\n",
    "        "
   ]
  },
  {
   "cell_type": "code",
   "execution_count": 120,
   "id": "44af7e2c",
   "metadata": {},
   "outputs": [],
   "source": [
    "def find_danger_points(grid):\n",
    "    count = 0\n",
    "    for row in grid:\n",
    "        for col in row:\n",
    "            if col > 1:\n",
    "                count += 1\n",
    "    return count"
   ]
  },
  {
   "cell_type": "code",
   "execution_count": 122,
   "id": "33dda9cb",
   "metadata": {},
   "outputs": [
    {
     "data": {
      "text/plain": [
       "12"
      ]
     },
     "execution_count": 122,
     "metadata": {},
     "output_type": "execute_result"
    }
   ],
   "source": [
    "line_coords, max_x, max_y = get_lines(test, include_diagonals=True)\n",
    "grid = create_grid(line_coords, max_x, max_y)\n",
    "find_danger_points(grid)"
   ]
  },
  {
   "cell_type": "code",
   "execution_count": 123,
   "id": "fea3d444",
   "metadata": {},
   "outputs": [
    {
     "data": {
      "text/plain": [
       "20012"
      ]
     },
     "execution_count": 123,
     "metadata": {},
     "output_type": "execute_result"
    }
   ],
   "source": [
    "line_coords, max_x, max_y = get_lines(data, include_diagonals=True)\n",
    "grid = create_grid(line_coords, max_x, max_y)\n",
    "find_danger_points(grid)"
   ]
  },
  {
   "cell_type": "code",
   "execution_count": null,
   "id": "26432aba",
   "metadata": {},
   "outputs": [],
   "source": []
  }
 ],
 "metadata": {
  "kernelspec": {
   "display_name": "Python 3 (ipykernel)",
   "language": "python",
   "name": "python3"
  },
  "language_info": {
   "codemirror_mode": {
    "name": "ipython",
    "version": 3
   },
   "file_extension": ".py",
   "mimetype": "text/x-python",
   "name": "python",
   "nbconvert_exporter": "python",
   "pygments_lexer": "ipython3",
   "version": "3.10.0"
  }
 },
 "nbformat": 4,
 "nbformat_minor": 5
}
