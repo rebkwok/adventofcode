{
 "cells": [
  {
   "cell_type": "code",
   "execution_count": 103,
   "id": "b1a0911f",
   "metadata": {},
   "outputs": [],
   "source": [
    "from pathlib import Path\n",
    "from utils import read_input\n",
    "from collections import Counter\n",
    "import numpy as np\n",
    "from bresenham import bresenham\n",
    "from statistics import mean, median, mode\n",
    "from itertools import combinations, product\n",
    "from tqdm import tqdm\n",
    "import pandas as pd\n",
    "from rich import print\n",
    "import matplotlib.pyplot as plt"
   ]
  },
  {
   "cell_type": "code",
   "execution_count": 94,
   "id": "567648cc",
   "metadata": {},
   "outputs": [],
   "source": [
    "test = Path(\"input/day13/test.txt\")\n",
    "test1 = Path(\"input/day13/test1.txt\")\n",
    "test2 = Path(\"input/day13/test2.txt\")\n",
    "data = Path(\"input/day13/data.txt\")"
   ]
  },
  {
   "cell_type": "code",
   "execution_count": 96,
   "id": "6212777d",
   "metadata": {},
   "outputs": [],
   "source": [
    "def get_instructions(inputfile):\n",
    "    raw = read_input(inputfile)\n",
    "    dots = []\n",
    "    instructions = []\n",
    "    for line in raw:\n",
    "        if line:\n",
    "            if line.startswith(\"fold\"):\n",
    "                _, instr = line.split(\"fold along \")\n",
    "                axis, index = instr.split(\"=\")\n",
    "                instructions.append((axis, int(index)))\n",
    "            else:\n",
    "                dots.append([int(num) for num in line.split(\",\")])\n",
    "    return dots, instructions"
   ]
  },
  {
   "cell_type": "code",
   "execution_count": 97,
   "id": "4393547b",
   "metadata": {},
   "outputs": [],
   "source": [
    "def fold_on_y(coords, fold_index):\n",
    "    new_coords = set()\n",
    "        \n",
    "    for x, y in coords:\n",
    "        if y > fold_index:\n",
    "            new_y = y - ((y - fold_index) * 2)\n",
    "        else:\n",
    "            new_y = y\n",
    "        \n",
    "        new_coords.add((x, new_y))\n",
    "#         print(f\"({x, y}) -> ({x, new_y})\")\n",
    "    return new_coords\n",
    "\n",
    "def fold_on_x(coords, fold_index):\n",
    "    new_coords = set()\n",
    "        \n",
    "    for x, y in coords:\n",
    "        if x > fold_index:\n",
    "            new_x = x - ((x - fold_index) * 2)\n",
    "        else:\n",
    "            new_x = x\n",
    "        \n",
    "        new_coords.add((new_x, y))\n",
    "    return new_coords\n",
    "\n",
    "axis_to_fold_fn = {\n",
    "    \"y\": fold_on_y,\n",
    "    \"x\": fold_on_x\n",
    "}"
   ]
  },
  {
   "cell_type": "code",
   "execution_count": 114,
   "id": "239a86ac",
   "metadata": {},
   "outputs": [],
   "source": [
    "def do_all_folds(coords, instructions):\n",
    "    for axis, index in instructions:\n",
    "        coords = axis_to_fold_fn[axis](coords, index)\n",
    "    return coords"
   ]
  },
  {
   "cell_type": "code",
   "execution_count": 131,
   "id": "63f38b77",
   "metadata": {},
   "outputs": [],
   "source": [
    "def display_coords(coords):\n",
    "    all_x, all_y = list(zip(*coords))\n",
    "    # flip y so display is the right way up\n",
    "    ys = [-y for y in all_y]\n",
    "    plt.scatter(all_x, ys)\n",
    "    plt.axis('equal')\n",
    "    plt.show()"
   ]
  },
  {
   "cell_type": "code",
   "execution_count": 132,
   "id": "eb160e06",
   "metadata": {},
   "outputs": [
    {
     "data": {
      "text/plain": [
       "671"
      ]
     },
     "execution_count": 132,
     "metadata": {},
     "output_type": "execute_result"
    }
   ],
   "source": [
    "# pt 1\n",
    "coords, instructions = get_instructions(data) \n",
    "axis, fold_index = instructions[0]\n",
    "len(axis_to_fold_fn[axis](coords, fold_index))"
   ]
  },
  {
   "cell_type": "code",
   "execution_count": 133,
   "id": "6b3a39dc",
   "metadata": {},
   "outputs": [
    {
     "data": {
      "image/png": "[encoded data removed]",
      "text/plain": [
       "<Figure size 432x288 with 1 Axes>"
      ]
     },
     "metadata": {
      "needs_background": "light"
     },
     "output_type": "display_data"
    }
   ],
   "source": [
    "coords, instructions = get_instructions(test) \n",
    "new_coords = do_all_folds(coords, instructions)\n",
    "display_coords(new_coords)"
   ]
  },
  {
   "cell_type": "code",
   "execution_count": 134,
   "id": "f3a19608",
   "metadata": {},
   "outputs": [
    {
     "data": {
      "image/png": "[encoded data removed]",
      "text/plain": [
       "<Figure size 432x288 with 1 Axes>"
      ]
     },
     "metadata": {
      "needs_background": "light"
     },
     "output_type": "display_data"
    }
   ],
   "source": [
    "coords, instructions = get_instructions(data) \n",
    "new_coords = do_all_folds(coords, instructions)\n",
    "display_coords(new_coords)"
   ]
  }
 ],
 "metadata": {
  "kernelspec": {
   "display_name": "Python 3 (ipykernel)",
   "language": "python",
   "name": "python3"
  },
  "language_info": {
   "codemirror_mode": {
    "name": "ipython",
    "version": 3
   },
   "file_extension": ".py",
   "mimetype": "text/x-python",
   "name": "python",
   "nbconvert_exporter": "python",
   "pygments_lexer": "ipython3",
   "version": "3.10.0"
  }
 },
 "nbformat": 4,
 "nbformat_minor": 5
}
