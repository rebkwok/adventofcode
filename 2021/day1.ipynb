{
 "cells": [
  {
   "cell_type": "code",
   "execution_count": 1,
   "id": "b1a0911f",
   "metadata": {},
   "outputs": [],
   "source": [
    "from pathlib import Path\n",
    "from utils import read_input\n"
   ]
  },
  {
   "cell_type": "code",
   "execution_count": 2,
   "id": "567648cc",
   "metadata": {},
   "outputs": [],
   "source": [
    "test = Path(\"input/day1/test.txt\")\n",
    "pt1 = Path(\"input/day1/pt1.txt\")"
   ]
  },
  {
   "cell_type": "code",
   "execution_count": 3,
   "id": "d13e5110",
   "metadata": {},
   "outputs": [],
   "source": [
    "def find_increases(input):\n",
    "    increases = 0\n",
    "    for i, measurement in enumerate(input):\n",
    "        if i > 0 and measurement > input[i-1]:\n",
    "            increases += 1\n",
    "    return increases\n",
    "            "
   ]
  },
  {
   "cell_type": "code",
   "execution_count": 4,
   "id": "da431e0c",
   "metadata": {},
   "outputs": [
    {
     "data": {
      "text/plain": [
       "7"
      ]
     },
     "execution_count": 4,
     "metadata": {},
     "output_type": "execute_result"
    }
   ],
   "source": [
    "find_increases(read_input(test, int))"
   ]
  },
  {
   "cell_type": "code",
   "execution_count": 5,
   "id": "ff2029f0",
   "metadata": {},
   "outputs": [
    {
     "data": {
      "text/plain": [
       "1288"
      ]
     },
     "execution_count": 5,
     "metadata": {},
     "output_type": "execute_result"
    }
   ],
   "source": [
    "find_increases(read_input(pt1, int))"
   ]
  },
  {
   "cell_type": "code",
   "execution_count": 52,
   "id": "1c7d92f0",
   "metadata": {},
   "outputs": [
    {
     "data": {
      "text/plain": [
       "[199, 200, 208, 210, 200, 207, 240, 269, 260, 263]"
      ]
     },
     "execution_count": 52,
     "metadata": {},
     "output_type": "execute_result"
    }
   ],
   "source": [
    "read_input(test, int)"
   ]
  },
  {
   "cell_type": "code",
   "execution_count": 64,
   "id": "b354256a",
   "metadata": {},
   "outputs": [],
   "source": [
    "def find_group_increases(input):\n",
    "    windows = []\n",
    "    start = 0\n",
    "    while start < len(input) - 2:\n",
    "        windows.append(input[start:start + 3])\n",
    "        start += 1\n",
    "    \n",
    "    increases = 0\n",
    "    for i, window in enumerate(windows):\n",
    "        if i > 0 and sum(window) > sum(windows[i-1]):\n",
    "            increases += 1\n",
    "        \n",
    "    print(increases)"
   ]
  },
  {
   "cell_type": "code",
   "execution_count": 65,
   "id": "a7b5bd4f",
   "metadata": {},
   "outputs": [
    {
     "name": "stdout",
     "output_type": "stream",
     "text": [
      "1311\n"
     ]
    }
   ],
   "source": [
    "find_group_increases(read_input(pt1, int))"
   ]
  },
  {
   "cell_type": "code",
   "execution_count": null,
   "id": "ced0ab5d",
   "metadata": {},
   "outputs": [],
   "source": []
  }
 ],
 "metadata": {
  "kernelspec": {
   "display_name": "Python 3 (ipykernel)",
   "language": "python",
   "name": "python3"
  },
  "language_info": {
   "codemirror_mode": {
    "name": "ipython",
    "version": 3
   },
   "file_extension": ".py",
   "mimetype": "text/x-python",
   "name": "python",
   "nbconvert_exporter": "python",
   "pygments_lexer": "ipython3",
   "version": "3.10.0"
  }
 },
 "nbformat": 4,
 "nbformat_minor": 5
}
