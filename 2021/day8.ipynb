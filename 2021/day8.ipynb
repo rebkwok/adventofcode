{
 "cells": [
  {
   "cell_type": "code",
   "execution_count": 154,
   "id": "b1a0911f",
   "metadata": {},
   "outputs": [],
   "source": [
    "from pathlib import Path\n",
    "from utils import read_input\n",
    "from collections import Counter\n",
    "import numpy as np\n",
    "from bresenham import bresenham\n",
    "from statistics import mean, median, mode\n",
    "from math import factorial"
   ]
  },
  {
   "cell_type": "code",
   "execution_count": 155,
   "id": "567648cc",
   "metadata": {},
   "outputs": [],
   "source": [
    "test = Path(\"input/day8/test.txt\")\n",
    "test1 = Path(\"input/day8/test1.txt\")\n",
    "data = Path(\"input/day8/data.txt\")"
   ]
  },
  {
   "cell_type": "code",
   "execution_count": 156,
   "id": "ec4edf37",
   "metadata": {},
   "outputs": [],
   "source": [
    "DISPLAY = {\n",
    "    0: \"abcefg\",\n",
    "    1: \"cf\",\n",
    "    2: \"acdeg\",\n",
    "    3: \"acdfg\",\n",
    "    4: \"bcdf\",\n",
    "    5: \"abdfg\",\n",
    "    6: \"abdefg\",\n",
    "    7: \"acf\",\n",
    "    8: \"abcdefg\",\n",
    "    9: \"abcdfg\"\n",
    "}"
   ]
  },
  {
   "cell_type": "code",
   "execution_count": 157,
   "id": "aca15ebb",
   "metadata": {},
   "outputs": [],
   "source": [
    "display_counts = {k: len(v) for k, v in DISPLAY.items()}"
   ]
  },
  {
   "cell_type": "code",
   "execution_count": 158,
   "id": "2a62cfa1",
   "metadata": {},
   "outputs": [
    {
     "data": {
      "text/plain": [
       "{0: 6, 1: 2, 2: 5, 3: 5, 4: 4, 5: 5, 6: 6, 7: 3, 8: 7, 9: 6}"
      ]
     },
     "execution_count": 158,
     "metadata": {},
     "output_type": "execute_result"
    }
   ],
   "source": [
    "display_counts"
   ]
  },
  {
   "cell_type": "code",
   "execution_count": 159,
   "id": "6055edad",
   "metadata": {},
   "outputs": [],
   "source": [
    "unique_segment_counts = [k for k, v in Counter(display_counts.values()).items() if v == 1]"
   ]
  },
  {
   "cell_type": "code",
   "execution_count": 160,
   "id": "8b61a892",
   "metadata": {},
   "outputs": [
    {
     "data": {
      "text/plain": [
       "[2, 4, 3, 7]"
      ]
     },
     "execution_count": 160,
     "metadata": {},
     "output_type": "execute_result"
    }
   ],
   "source": [
    "unique_segment_counts"
   ]
  },
  {
   "cell_type": "code",
   "execution_count": 161,
   "id": "a67a385e",
   "metadata": {},
   "outputs": [],
   "source": [
    "test_input = read_input(test)"
   ]
  },
  {
   "cell_type": "code",
   "execution_count": 162,
   "id": "98aefec5",
   "metadata": {},
   "outputs": [
    {
     "data": {
      "text/plain": [
       "['acedgfb cdfbe gcdfa fbcad dab cefabd cdfgeb eafb cagedb ab | cdfeb fcadb cdfeb cdbaf']"
      ]
     },
     "execution_count": 162,
     "metadata": {},
     "output_type": "execute_result"
    }
   ],
   "source": [
    "test_input"
   ]
  },
  {
   "cell_type": "code",
   "execution_count": 163,
   "id": "eda463fd",
   "metadata": {},
   "outputs": [],
   "source": [
    "def _format(val):\n",
    "    return tuple(val.strip().split(\" \"))\n",
    "    \n",
    "def get_entries(input_data):\n",
    "    notes = read_input(input_data)\n",
    "    entries = {}\n",
    "    for line in notes:\n",
    "        segment_patterns, output = line.split(\"|\")\n",
    "        segment_patterns = _format(segment_patterns)\n",
    "        output = _format(output)\n",
    "        assert segment_patterns not in entries\n",
    "        entries[segment_patterns] = output\n",
    "    return entries"
   ]
  },
  {
   "cell_type": "code",
   "execution_count": 164,
   "id": "a20e75ff",
   "metadata": {},
   "outputs": [],
   "source": [
    "entries = get_entries(data)"
   ]
  },
  {
   "cell_type": "code",
   "execution_count": 165,
   "id": "56bbd64a",
   "metadata": {},
   "outputs": [],
   "source": [
    "outputs = sum(entries.values(), ())"
   ]
  },
  {
   "cell_type": "code",
   "execution_count": 166,
   "id": "8e0036fd",
   "metadata": {},
   "outputs": [],
   "source": [
    "count_output_lengths = Counter([len(output) for output in outputs])"
   ]
  },
  {
   "cell_type": "code",
   "execution_count": 167,
   "id": "28ea288d",
   "metadata": {},
   "outputs": [
    {
     "data": {
      "text/plain": [
       "530"
      ]
     },
     "execution_count": 167,
     "metadata": {},
     "output_type": "execute_result"
    }
   ],
   "source": [
    "sum([v for k, v in count_output_lengths.items() if k in unique_segment_counts])"
   ]
  },
  {
   "cell_type": "code",
   "execution_count": 168,
   "id": "62f27653",
   "metadata": {},
   "outputs": [],
   "source": [
    "entries = get_entries(test)"
   ]
  },
  {
   "cell_type": "code",
   "execution_count": 169,
   "id": "fcfa3d82",
   "metadata": {},
   "outputs": [],
   "source": [
    "DISPLAY_PATTERN = {\n",
    "    0: \"1110111\",\n",
    "    1: \"0010010\",\n",
    "    2: \"1011101\",\n",
    "    3: \"1011011\",\n",
    "    4: \"0111010\",\n",
    "    5: \"1101011\",\n",
    "    6: \"1101111\",\n",
    "    7: \"1010010\",\n",
    "    8: \"1111111\",\n",
    "    9: \"1111011\"\n",
    "}"
   ]
  },
  {
   "cell_type": "code",
   "execution_count": 170,
   "id": "6097dc4d",
   "metadata": {},
   "outputs": [],
   "source": [
    "DISPLAY_COUNTS = {k: len(v) for k, v in DISPLAY.items()}"
   ]
  },
  {
   "cell_type": "code",
   "execution_count": 171,
   "id": "a2c6cc1e",
   "metadata": {},
   "outputs": [],
   "source": [
    "def find_unique(entry):\n",
    "    found = {}\n",
    "    for num in [1, 4, 7]:\n",
    "        length = DISPLAY_COUNTS[num]\n",
    "        segment = next(seg for seg in entry if len(seg) == length)\n",
    "        found[num] = segment\n",
    "    return found"
   ]
  },
  {
   "cell_type": "code",
   "execution_count": 172,
   "id": "c7ed9e28",
   "metadata": {},
   "outputs": [],
   "source": [
    "def _set_positions(entry, known_mapping, position_map):\n",
    "    # FIND POS 0\n",
    "    # after finding the numbers with unique segment lengths, the one letter that appears only once is in pos 0\n",
    "    position_map[0] = list(set(known_mapping[7]) - set(known_mapping[1]))[0]\n",
    "    seen = set.union(*[set(val) for val in known_mapping.values()])\n",
    "    \n",
    "    pos_2_or_5 = set(known_mapping[1])\n",
    "    pos_1_or_3 = set(known_mapping[4]) - pos_2_or_5\n",
    "    \n",
    "    # find 5 letter segments that contains one and only one letter that has not already been seen\n",
    "    matches = [segment for segment in entry if len(segment) == 5 and len(set(segment) - seen) == 1]\n",
    "    \n",
    "    # FIND POS 2, 6, 5\n",
    "    # Find the segment where the 3 letters that have already been seen and are not in the position map yet include both of pos_1_or_3\n",
    "    \n",
    "    known_positions = set([pos for pos in position_map if pos])  # should just be position 0 at this point\n",
    "    \n",
    "    for segment in matches:\n",
    "        unseen = set(segment) - seen  # one letter\n",
    "        segment_already_seen_and_unmapped = set(segment) - known_positions - unseen  # 3 characters\n",
    "        \n",
    "        # this segment contains 3 of the characters at position 2, 5, 1, or 3\n",
    "        # find out if it contains only one of the characters at pos_2_or_6\n",
    "        # If it does, this is pos 2, and this segment corresponds to 5\n",
    "        \n",
    "        found_2_or_5 = pos_2_or_5 - segment_already_seen_and_unmapped\n",
    "        if found_2_or_5:\n",
    "            # this segment is a 5\n",
    "            known_mapping[5] = segment\n",
    "            # the unseen letter is at position 6\n",
    "            position_map[6] = list(unseen)[0]\n",
    "            # the found letter is at position 2\n",
    "            position_map[2] = list(found_2_or_5)[0]\n",
    "\n",
    "            # we can identify the alternative position 5 too\n",
    "            position_map[5] = list(pos_2_or_5 - found_2_or_5)[0]\n",
    "    \n",
    "    # FIND POS 1 and 3\n",
    "    known_positions = set([letter for letter in position_map if letter])\n",
    "    known_segments = list(known_mapping.values())\n",
    "    matches = [segment for segment in entry if len(segment) == 5 and set(segment) not in known_segments]        \n",
    "\n",
    "    for segment in matches:        \n",
    "        unknown = set(segment) - set(known_positions)\n",
    "        if len(unknown) == 1 and list(unknown)[0] in pos_1_or_3:\n",
    "            known_mapping[3] = segment\n",
    "            pos_3 = list(unknown)[0]\n",
    "            pos_1 = list(pos_1_or_3 - unknown)[0]\n",
    "            position_map[3] = pos_3\n",
    "            position_map[1] = pos_1\n",
    "\n",
    "            # remaining letter = position 4\n",
    "            known_positions = set([letter for letter in position_map if letter])\n",
    "            assert len(known_positions) == 6\n",
    "            position_map[4] = list(set(\"abcdefg\") - known_positions)[0]\n",
    "    known_mapping[8] = next(seg for seg in entry if len(seg) == 7)\n",
    "\n",
    "    return known_mapping, position_map"
   ]
  },
  {
   "cell_type": "code",
   "execution_count": 173,
   "id": "ab291544",
   "metadata": {},
   "outputs": [],
   "source": [
    "def _find_segment(number, position_map, entry):\n",
    "    sorted_segment = ''.join(sorted([position_map[i] for i, val in enumerate(DISPLAY_PATTERN[number]) if int(val)]))\n",
    "    for segment in entry:\n",
    "        if ''.join(sorted(segment)) == sorted_segment:\n",
    "            return segment"
   ]
  },
  {
   "cell_type": "code",
   "execution_count": 174,
   "id": "42ecec2a",
   "metadata": {},
   "outputs": [],
   "source": [
    "def _complete_map(known_mapping, position_map, entry):\n",
    "    for key in DISPLAY_PATTERN.keys():\n",
    "        if key not in known_mapping:\n",
    "            known_mapping[key] = _find_segment(key, position_map, entry)\n",
    "    return known_mapping"
   ]
  },
  {
   "cell_type": "code",
   "execution_count": 175,
   "id": "514f9b3c",
   "metadata": {},
   "outputs": [],
   "source": [
    "def decode(entry, outputs):\n",
    "    position_map = [''] * 7\n",
    "    known_mapping = find_unique(entry)\n",
    "    known_mapping, position_map = _set_positions1(entry, known_mapping, position_map)\n",
    "    known_mapping = _complete_map(known_mapping, position_map, entry)\n",
    "    known_numbers = {tuple(sorted(v)): k for k, v in known_mapping.items()}\n",
    "    \n",
    "    return int(''.join([str(known_numbers[tuple(sorted(output))]) for output in outputs]))\n",
    "    "
   ]
  },
  {
   "cell_type": "code",
   "execution_count": 176,
   "id": "c6d392bf",
   "metadata": {},
   "outputs": [],
   "source": [
    "entries = get_entries(data)"
   ]
  },
  {
   "cell_type": "code",
   "execution_count": 177,
   "id": "459a2a64",
   "metadata": {},
   "outputs": [],
   "source": [
    "entry = list(entries.keys())[0]\n",
    "    \n",
    "known_mapping = find_unique(entry)"
   ]
  },
  {
   "cell_type": "code",
   "execution_count": 178,
   "id": "29e8b79a",
   "metadata": {},
   "outputs": [
    {
     "data": {
      "text/plain": [
       "1051087"
      ]
     },
     "execution_count": 178,
     "metadata": {},
     "output_type": "execute_result"
    }
   ],
   "source": [
    "sum(decode(k, v) for k, v in entries.items())"
   ]
  }
 ],
 "metadata": {
  "kernelspec": {
   "display_name": "Python 3 (ipykernel)",
   "language": "python",
   "name": "python3"
  },
  "language_info": {
   "codemirror_mode": {
    "name": "ipython",
    "version": 3
   },
   "file_extension": ".py",
   "mimetype": "text/x-python",
   "name": "python",
   "nbconvert_exporter": "python",
   "pygments_lexer": "ipython3",
   "version": "3.10.0"
  }
 },
 "nbformat": 4,
 "nbformat_minor": 5
}
