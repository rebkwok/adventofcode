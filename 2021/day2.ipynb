{
 "cells": [
  {
   "cell_type": "code",
   "execution_count": 2,
   "id": "b1a0911f",
   "metadata": {},
   "outputs": [],
   "source": [
    "from pathlib import Path\n",
    "from utils import read_input\n"
   ]
  },
  {
   "cell_type": "code",
   "execution_count": 3,
   "id": "567648cc",
   "metadata": {},
   "outputs": [],
   "source": [
    "test = Path(\"input/day2/test.txt\")\n",
    "data = Path(\"input/day2/data.txt\")"
   ]
  },
  {
   "cell_type": "code",
   "execution_count": 9,
   "id": "ced0ab5d",
   "metadata": {},
   "outputs": [],
   "source": [
    "def get_position(input_data):\n",
    "    horiz = 0\n",
    "    depth = 0\n",
    "    \n",
    "    for movement in input_data:\n",
    "        direction, count = movement.split(\" \")\n",
    "        count = int(count)\n",
    "        if direction == \"forward\":\n",
    "            horiz += count\n",
    "        elif direction == \"up\":\n",
    "            depth -= count\n",
    "        elif direction == \"down\":\n",
    "            depth += count\n",
    "    \n",
    "    return horiz, depth"
   ]
  },
  {
   "cell_type": "code",
   "execution_count": 10,
   "id": "7709e886",
   "metadata": {},
   "outputs": [],
   "source": [
    "horiz, depth = get_position(read_input(test))"
   ]
  },
  {
   "cell_type": "code",
   "execution_count": 12,
   "id": "ff3cdace",
   "metadata": {},
   "outputs": [
    {
     "data": {
      "text/plain": [
       "150"
      ]
     },
     "execution_count": 12,
     "metadata": {},
     "output_type": "execute_result"
    }
   ],
   "source": [
    "horiz * depth"
   ]
  },
  {
   "cell_type": "code",
   "execution_count": 13,
   "id": "ac3891d5",
   "metadata": {},
   "outputs": [],
   "source": [
    "horiz, depth = get_position(read_input(data))"
   ]
  },
  {
   "cell_type": "code",
   "execution_count": 14,
   "id": "1587dce9",
   "metadata": {},
   "outputs": [
    {
     "data": {
      "text/plain": [
       "1728414"
      ]
     },
     "execution_count": 14,
     "metadata": {},
     "output_type": "execute_result"
    }
   ],
   "source": [
    "horiz * depth"
   ]
  },
  {
   "cell_type": "code",
   "execution_count": 18,
   "id": "3be771f1",
   "metadata": {},
   "outputs": [],
   "source": [
    "def get_position_with_aim(input_data):\n",
    "    horiz = 0\n",
    "    depth = 0\n",
    "    aim = 0\n",
    "    \n",
    "    for movement in input_data:\n",
    "        direction, count = movement.split(\" \")\n",
    "        count = int(count)\n",
    "        if direction == \"forward\":\n",
    "            horiz += count\n",
    "            depth += (aim * count)\n",
    "        elif direction == \"up\":\n",
    "            aim -= count\n",
    "        elif direction == \"down\":\n",
    "            aim += count\n",
    "    \n",
    "    return horiz, depth\n",
    "    "
   ]
  },
  {
   "cell_type": "code",
   "execution_count": 19,
   "id": "415afcf4",
   "metadata": {},
   "outputs": [],
   "source": [
    "horiz, depth = get_position_with_aim(read_input(test))"
   ]
  },
  {
   "cell_type": "code",
   "execution_count": 21,
   "id": "f75bb444",
   "metadata": {},
   "outputs": [
    {
     "data": {
      "text/plain": [
       "900"
      ]
     },
     "execution_count": 21,
     "metadata": {},
     "output_type": "execute_result"
    }
   ],
   "source": [
    "horiz * depth"
   ]
  },
  {
   "cell_type": "code",
   "execution_count": 22,
   "id": "f8a1a69d",
   "metadata": {},
   "outputs": [],
   "source": [
    "horiz, depth = get_position_with_aim(read_input(data))"
   ]
  },
  {
   "cell_type": "code",
   "execution_count": 23,
   "id": "924d70fd",
   "metadata": {},
   "outputs": [
    {
     "data": {
      "text/plain": [
       "1765720035"
      ]
     },
     "execution_count": 23,
     "metadata": {},
     "output_type": "execute_result"
    }
   ],
   "source": [
    "horiz * depth"
   ]
  },
  {
   "cell_type": "code",
   "execution_count": null,
   "id": "ed6bf65a",
   "metadata": {},
   "outputs": [],
   "source": []
  }
 ],
 "metadata": {
  "kernelspec": {
   "display_name": "Python 3 (ipykernel)",
   "language": "python",
   "name": "python3"
  },
  "language_info": {
   "codemirror_mode": {
    "name": "ipython",
    "version": 3
   },
   "file_extension": ".py",
   "mimetype": "text/x-python",
   "name": "python",
   "nbconvert_exporter": "python",
   "pygments_lexer": "ipython3",
   "version": "3.10.0"
  }
 },
 "nbformat": 4,
 "nbformat_minor": 5
}
