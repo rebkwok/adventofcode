{
 "cells": [
  {
   "cell_type": "code",
   "execution_count": 1,
   "id": "b1a0911f",
   "metadata": {},
   "outputs": [],
   "source": [
    "from pathlib import Path\n",
    "from utils import read_input\n",
    "from collections import Counter, deque\n",
    "import numpy as np\n",
    "from bresenham import bresenham\n",
    "from statistics import mean, median, mode\n",
    "from itertools import combinations, product, pairwise, permutations\n",
    "from tqdm import tqdm\n",
    "import pandas as pd\n",
    "from rich import print\n",
    "import matplotlib.pyplot as plt"
   ]
  },
  {
   "cell_type": "code",
   "execution_count": 2,
   "id": "567648cc",
   "metadata": {},
   "outputs": [],
   "source": [
    "test = Path(\"input/day16/test.txt\")\n",
    "data = Path(\"input/day16/data.txt\")"
   ]
  },
  {
   "cell_type": "code",
   "execution_count": 3,
   "id": "06048136",
   "metadata": {},
   "outputs": [],
   "source": [
    "def hex_to_binary(inputstr):\n",
    "    as_int = int(inputstr, base=16)\n",
    "    as_bin_str = str(bin(as_int))[2:]\n",
    "    h_size = len(inputstr) * 4\n",
    "    return as_bin_str.zfill(h_size)\n",
    "\n",
    "def binary_to_decimal(inputstr):\n",
    "    return int(inputstr, base=2)\n",
    "\n",
    "def parse_header(inputbinary):\n",
    "    packet_version = binary_to_decimal(inputbinary[:3])\n",
    "    packet_type = binary_to_decimal(inputbinary[3:6])\n",
    "    return packet_version, packet_type, inputbinary[6:]\n",
    "\n",
    "def convert_literal_value(inputbinary):\n",
    "    i = 0\n",
    "    cumul_num = \"\"\n",
    "    while True:\n",
    "        group = inputbinary[i: i + 5]\n",
    "        number_part = group[1:]\n",
    "        cumul_num = cumul_num + number_part\n",
    "        if group[0] == \"0\":\n",
    "            remainder = inputbinary[i + 5:]\n",
    "            break\n",
    "        i += 5\n",
    "    \n",
    "    return binary_to_decimal(cumul_num), remainder\n",
    "    "
   ]
  },
  {
   "cell_type": "code",
   "execution_count": 4,
   "id": "9bc677c3",
   "metadata": {},
   "outputs": [
    {
     "data": {
      "text/plain": [
       "(2021, '000')"
      ]
     },
     "execution_count": 4,
     "metadata": {},
     "output_type": "execute_result"
    }
   ],
   "source": [
    "test = hex_to_binary(\"D2FE28\")\n",
    "v, t, rest = parse_header(test)\n",
    "convert_literal_value(rest)"
   ]
  },
  {
   "cell_type": "code",
   "execution_count": 5,
   "id": "a6c22003",
   "metadata": {},
   "outputs": [
    {
     "data": {
      "text/plain": [
       "(6, 4, '101111111000101000')"
      ]
     },
     "execution_count": 5,
     "metadata": {},
     "output_type": "execute_result"
    }
   ],
   "source": [
    "parse_header(test)"
   ]
  },
  {
   "cell_type": "code",
   "execution_count": 34,
   "id": "e3790d27",
   "metadata": {},
   "outputs": [],
   "source": [
    "def parse_operator_packet_0(packet, versions):\n",
    "    length_of_subpackets_in_bits = binary_to_decimal(packet[0:15])\n",
    "    subpackets = packet[15:15 + length_of_subpackets_in_bits]\n",
    "    remainder = packet[15 + length_of_subpackets_in_bits:]\n",
    "    assert len(subpackets) == length_of_subpackets_in_bits\n",
    "    while subpackets:\n",
    "        version, type_id, rest = parse_header(subpackets)\n",
    "        versions.append(version)\n",
    "        if type_id == 4:\n",
    "            parsed, subpackets = parse_literal_value(rest)\n",
    "            print(binary_to_decimal(parsed))\n",
    "        else:\n",
    "            operator = rest[0]\n",
    "            if operator == \"0\":\n",
    "                versions, _ = parse_operator_packet_0(rest[1:], versions)\n",
    "            else:\n",
    "                versions, _ = parse_operator_packet_1(rest[1:], versions)\n",
    "    return versions, remainder\n",
    "    \n",
    "    \n",
    "def parse_operator_packet_1(packet, versions):\n",
    "    number_of_subpackets = binary_to_decimal(packet[0:11])\n",
    "    subpackets = packet[11:]\n",
    "    \n",
    "    subpackets_parsed = 0\n",
    "    while subpackets_parsed < number_of_subpackets: \n",
    "        version, type_id, rest = parse_header(subpackets)\n",
    "        versions.append(version)\n",
    "        if type_id == 4:\n",
    "            parsed, subpackets = parse_literal_value(rest)\n",
    "#             print(binary_to_decimal(parsed))\n",
    "        else:\n",
    "            operator = rest[0]\n",
    "            if operator == \"0\":\n",
    "                versions, _ = parse_operator_packet_0(rest[1:], versions)\n",
    "            else:\n",
    "                versions, _ = parse_operator_packet_1(rest[1:], versions)\n",
    "        subpackets_parsed += 1\n",
    "    return versions, ''\n",
    "            \n",
    "\n",
    "def parse_literal_value(inputbinary):\n",
    "    i = 0\n",
    "    cumul_num = \"\"\n",
    "    while True:\n",
    "        group = inputbinary[i: i + 5]\n",
    "        number_part = group[1:]\n",
    "        cumul_num = cumul_num + number_part\n",
    "        if group[0] == \"0\":\n",
    "            remainder = inputbinary[i + 5:]\n",
    "            break\n",
    "        i += 5\n",
    "    return cumul_num, remainder\n",
    "\n",
    "\n",
    "def parse(inputbinary, versions=None):\n",
    "    versions = versions or []\n",
    "    version, type_id, rest = parse_header(inputbinary)\n",
    "    versions.append(version)\n",
    "    if type_id == 4:\n",
    "        return versions\n",
    "    else:\n",
    "        operator = rest[0]\n",
    "        if operator == \"0\":\n",
    "            return parse_operator_packet_0(rest[1:], versions)\n",
    "        else:\n",
    "            return parse_operator_packet_1(rest[1:], versions)\n",
    "\n",
    "        \n",
    "def parse1(inputbinary, versions=None):\n",
    "    versions = versions or []\n",
    "    version, type_id, packet_contents = parse_header(inputbinary)\n",
    "    if type_id == 4:\n",
    "        # literal value\n",
    "        versions.append(version)\n",
    "        return versions\n",
    "    else:\n",
    "        # operator\n",
    "        print(version, type_id, packet_contents)\n",
    "        operator_length_type = packet_contents[0]\n",
    "        packet_contents = packet_contents[1:]\n",
    "        if operator_length_type == \"0\":\n",
    "            if len(packet_contents) < 16:  # we need at least 16 bits, 15 for the length of the packet\n",
    "                return versions\n",
    "            versions.append(version)\n",
    "            length_of_subpackets_in_bits = binary_to_decimal(packet_contents[0:15])\n",
    "            packet_contents = packet_contents[15:]\n",
    "            versions = parse1(packet_contents[0:length_of_subpackets_in_bits], versions)\n",
    "            remaining_packet = packet_contents[length_of_subpackets_in_bits:]\n",
    "            return parse1(remaining_packet, versions)\n",
    "        else:\n",
    "            if len(packet_contents) < 18:  # we need at least 18 bits, 11 for the number of packets, 7 for the headers and value of the first subpacket \n",
    "                return versions\n",
    "            versions.append(version)\n",
    "            number_of_subpackets = binary_to_decimal(packet_contents[0:11])\n",
    "            packet_contents = packet_contents[11:]\n",
    "            \n",
    "            print('pending')\n",
    "        \n",
    "            \n"
   ]
  },
  {
   "cell_type": "code",
   "execution_count": 38,
   "id": "2b3d09aa",
   "metadata": {},
   "outputs": [
    {
     "data": {
      "text/html": [
       "<pre style=\"white-space:pre;overflow-x:auto;line-height:normal;font-family:Menlo,'DejaVu Sans Mono',consolas,'Courier New',monospace\"><span style=\"color: #008080; text-decoration-color: #008080; font-weight: bold\">5</span> <span style=\"color: #008080; text-decoration-color: #008080; font-weight: bold\">0</span> <span style=\"color: #008080; text-decoration-color: #008080; font-weight: bold\">00000000010110110010001000000000010110001000000001011111000011011010000110101100011000101</span>\n",
       "<span style=\"color: #008080; text-decoration-color: #008080; font-weight: bold\">0001111010100011110000000</span>\n",
       "</pre>\n"
      ],
      "text/plain": [
       "\u001b[1;36m5\u001b[0m \u001b[1;36m0\u001b[0m \u001b[1;36m00000000010110110010001000000000010110001000000001011111000011011010000110101100011000101\u001b[0m\n",
       "\u001b[1;36m0001111010100011110000000\u001b[0m\n"
      ]
     },
     "metadata": {},
     "output_type": "display_data"
    },
    {
     "data": {
      "text/html": [
       "<pre style=\"white-space:pre;overflow-x:auto;line-height:normal;font-family:Menlo,'DejaVu Sans Mono',consolas,'Courier New',monospace\"><span style=\"color: #008080; text-decoration-color: #008080; font-weight: bold\">1</span> <span style=\"color: #008080; text-decoration-color: #008080; font-weight: bold\">0</span> <span style=\"color: #008080; text-decoration-color: #008080; font-weight: bold\">1000000000010110001000000001011111000011011010000110101100011000101000111101010001111</span>\n",
       "</pre>\n"
      ],
      "text/plain": [
       "\u001b[1;36m1\u001b[0m \u001b[1;36m0\u001b[0m \u001b[1;36m1000000000010110001000000001011111000011011010000110101100011000101000111101010001111\u001b[0m\n"
      ]
     },
     "metadata": {},
     "output_type": "display_data"
    },
    {
     "data": {
      "text/html": [
       "<pre style=\"white-space:pre;overflow-x:auto;line-height:normal;font-family:Menlo,'DejaVu Sans Mono',consolas,'Courier New',monospace\">pending\n",
       "</pre>\n"
      ],
      "text/plain": [
       "pending\n"
      ]
     },
     "metadata": {},
     "output_type": "display_data"
    },
    {
     "data": {
      "text/html": [
       "<pre style=\"white-space:pre;overflow-x:auto;line-height:normal;font-family:Menlo,'DejaVu Sans Mono',consolas,'Courier New',monospace\"><span style=\"color: #008080; text-decoration-color: #008080; font-weight: bold\">0</span> <span style=\"color: #008080; text-decoration-color: #008080; font-weight: bold\">0</span> <span style=\"color: #008080; text-decoration-color: #008080; font-weight: bold\">0</span>\n",
       "</pre>\n"
      ],
      "text/plain": [
       "\u001b[1;36m0\u001b[0m \u001b[1;36m0\u001b[0m \u001b[1;36m0\u001b[0m\n"
      ]
     },
     "metadata": {},
     "output_type": "display_data"
    },
    {
     "data": {
      "text/html": [
       "<pre style=\"white-space:pre;overflow-x:auto;line-height:normal;font-family:Menlo,'DejaVu Sans Mono',consolas,'Courier New',monospace\"><span style=\"font-weight: bold\">[]</span>\n",
       "</pre>\n"
      ],
      "text/plain": [
       "\u001b[1m[\u001b[0m\u001b[1m]\u001b[0m\n"
      ]
     },
     "metadata": {},
     "output_type": "display_data"
    },
    {
     "data": {
      "text/plain": [
       "0"
      ]
     },
     "execution_count": 38,
     "metadata": {},
     "output_type": "execute_result"
    }
   ],
   "source": [
    "test = hex_to_binary(\"A0016C880162017C3686B18A3D4780\")\n",
    "versions = parse1(test)\n",
    "print(versions)\n",
    "sum(versions)"
   ]
  },
  {
   "cell_type": "code",
   "execution_count": 69,
   "id": "a7fb42b7",
   "metadata": {},
   "outputs": [
    {
     "data": {
      "text/plain": [
       "[4, 1, 5, 6]"
      ]
     },
     "execution_count": 69,
     "metadata": {},
     "output_type": "execute_result"
    }
   ],
   "source": [
    "versions1"
   ]
  },
  {
   "cell_type": "code",
   "execution_count": 146,
   "id": "8605a690",
   "metadata": {},
   "outputs": [
    {
     "data": {
      "text/plain": [
       "(1, 6, '00000000000110111101000101001010010001001000000000')"
      ]
     },
     "execution_count": 146,
     "metadata": {},
     "output_type": "execute_result"
    }
   ],
   "source": [
    "parse_header(test)"
   ]
  },
  {
   "cell_type": "code",
   "execution_count": 147,
   "id": "f11f4254",
   "metadata": {},
   "outputs": [
    {
     "data": {
      "text/plain": [
       "True"
      ]
     },
     "execution_count": 147,
     "metadata": {},
     "output_type": "execute_result"
    }
   ],
   "source": [
    "_146[2] == '00000000000110111101000101001010010001001000000000'"
   ]
  },
  {
   "cell_type": "code",
   "execution_count": 162,
   "id": "a9f24a87",
   "metadata": {},
   "outputs": [],
   "source": [
    "version, type_id, rest = parse_header(test)"
   ]
  },
  {
   "cell_type": "code",
   "execution_count": 163,
   "id": "cfe67434",
   "metadata": {},
   "outputs": [],
   "source": [
    "operator = rest[0]\n",
    "rest = rest[1:]"
   ]
  },
  {
   "cell_type": "code",
   "execution_count": 164,
   "id": "73343040",
   "metadata": {},
   "outputs": [],
   "source": [
    "num_of_bits = rest[:15]\n",
    "rest = rest[15:]\n",
    "subpacket_bits = binary_to_decimal(num_of_bits)\n",
    "rest = rest[:27]"
   ]
  },
  {
   "cell_type": "code",
   "execution_count": 165,
   "id": "ab47cb4b",
   "metadata": {},
   "outputs": [
    {
     "data": {
      "text/plain": [
       "'110100010100101001000100100'"
      ]
     },
     "execution_count": 165,
     "metadata": {},
     "output_type": "execute_result"
    }
   ],
   "source": [
    "rest"
   ]
  },
  {
   "cell_type": "code",
   "execution_count": 166,
   "id": "aa9477d6",
   "metadata": {},
   "outputs": [
    {
     "data": {
      "text/plain": [
       "27"
      ]
     },
     "execution_count": 166,
     "metadata": {},
     "output_type": "execute_result"
    }
   ],
   "source": [
    "len(rest)"
   ]
  },
  {
   "cell_type": "code",
   "execution_count": 168,
   "id": "fdf80a5e",
   "metadata": {},
   "outputs": [
    {
     "data": {
      "text/plain": [
       "(6, 4, '010100101001000100100')"
      ]
     },
     "execution_count": 168,
     "metadata": {},
     "output_type": "execute_result"
    }
   ],
   "source": [
    "parse_header(rest)"
   ]
  },
  {
   "cell_type": "code",
   "execution_count": 169,
   "id": "02b3a7eb",
   "metadata": {},
   "outputs": [
    {
     "data": {
      "text/html": [
       "<pre style=\"white-space:pre;overflow-x:auto;line-height:normal;font-family:Menlo,'DejaVu Sans Mono',consolas,'Courier New',monospace\"><span style=\"color: #008080; text-decoration-color: #008080; font-weight: bold\">010100101001000100100</span>\n",
       "</pre>\n"
      ],
      "text/plain": [
       "\u001b[1;36m010100101001000100100\u001b[0m\n"
      ]
     },
     "metadata": {},
     "output_type": "display_data"
    },
    {
     "data": {
      "text/plain": [
       "('1010', '0101001000100100')"
      ]
     },
     "execution_count": 169,
     "metadata": {},
     "output_type": "execute_result"
    }
   ],
   "source": [
    "parse_literal_value('010100101001000100100')"
   ]
  },
  {
   "cell_type": "code",
   "execution_count": 170,
   "id": "8c4dfde3",
   "metadata": {},
   "outputs": [
    {
     "data": {
      "text/plain": [
       "(2, 4, '1000100100')"
      ]
     },
     "execution_count": 170,
     "metadata": {},
     "output_type": "execute_result"
    }
   ],
   "source": [
    "parse_header('0101001000100100')"
   ]
  },
  {
   "cell_type": "code",
   "execution_count": 171,
   "id": "ef59714a",
   "metadata": {},
   "outputs": [
    {
     "data": {
      "text/html": [
       "<pre style=\"white-space:pre;overflow-x:auto;line-height:normal;font-family:Menlo,'DejaVu Sans Mono',consolas,'Courier New',monospace\"><span style=\"color: #008080; text-decoration-color: #008080; font-weight: bold\">1000100100</span>\n",
       "</pre>\n"
      ],
      "text/plain": [
       "\u001b[1;36m1000100100\u001b[0m\n"
      ]
     },
     "metadata": {},
     "output_type": "display_data"
    },
    {
     "data": {
      "text/plain": [
       "('00010100', '')"
      ]
     },
     "execution_count": 171,
     "metadata": {},
     "output_type": "execute_result"
    }
   ],
   "source": [
    "parse_literal_value('1000100100')"
   ]
  },
  {
   "cell_type": "code",
   "execution_count": 175,
   "id": "271c6ce9",
   "metadata": {},
   "outputs": [
    {
     "data": {
      "text/plain": [
       "548"
      ]
     },
     "execution_count": 175,
     "metadata": {},
     "output_type": "execute_result"
    }
   ],
   "source": [
    "binary_to_decimal('1000100100')"
   ]
  },
  {
   "cell_type": "code",
   "execution_count": null,
   "id": "20d535dd",
   "metadata": {},
   "outputs": [],
   "source": []
  }
 ],
 "metadata": {
  "kernelspec": {
   "display_name": "Python 3 (ipykernel)",
   "language": "python",
   "name": "python3"
  },
  "language_info": {
   "codemirror_mode": {
    "name": "ipython",
    "version": 3
   },
   "file_extension": ".py",
   "mimetype": "text/x-python",
   "name": "python",
   "nbconvert_exporter": "python",
   "pygments_lexer": "ipython3",
   "version": "3.10.0"
  }
 },
 "nbformat": 4,
 "nbformat_minor": 5
}
