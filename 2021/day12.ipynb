{
 "cells": [
  {
   "cell_type": "code",
   "execution_count": 1,
   "id": "b1a0911f",
   "metadata": {},
   "outputs": [],
   "source": [
    "from pathlib import Path\n",
    "from utils import read_input\n",
    "from collections import Counter\n",
    "import numpy as np\n",
    "from bresenham import bresenham\n",
    "from statistics import mean, median, mode\n",
    "from itertools import combinations, product\n",
    "from tqdm import tqdm\n",
    "import pandas as pd"
   ]
  },
  {
   "cell_type": "code",
   "execution_count": 2,
   "id": "567648cc",
   "metadata": {},
   "outputs": [],
   "source": [
    "test = Path(\"input/day12/test.txt\")\n",
    "test1 = Path(\"input/day12/test1.txt\")\n",
    "test2 = Path(\"input/day12/test2.txt\")\n",
    "data = Path(\"input/day12/data.txt\")"
   ]
  },
  {
   "cell_type": "code",
   "execution_count": 3,
   "id": "6a94e3cf",
   "metadata": {},
   "outputs": [],
   "source": [
    "def get_path_map(infile):\n",
    "    pairs = [conn.split('-') for conn in read_input(infile)]\n",
    "    \n",
    "    keys = set(sum(pairs, []))\n",
    "    keys = {k for k in keys if k != \"end\"}\n",
    "    mapping = {\n",
    "        \n",
    "    }\n",
    "    for pair1, pair2 in pairs:\n",
    "        if pair2 != \"start\":\n",
    "            mapping.setdefault(pair1, set()).add(pair2)\n",
    "        if pair1 != \"start\":\n",
    "            mapping.setdefault(pair2, set()).add(pair1)\n",
    "    \n",
    "    for k in mapping.keys():\n",
    "        v = list(mapping[k])\n",
    "        if \"end\" in v:\n",
    "            v.remove(\"end\")\n",
    "            v.append(\"end\")\n",
    "        mapping[k] = v\n",
    "    \n",
    "    return mapping"
   ]
  },
  {
   "cell_type": "code",
   "execution_count": 4,
   "id": "07dd2ca5",
   "metadata": {},
   "outputs": [
    {
     "data": {
      "text/plain": [
       "{'start': ['A', 'b'],\n",
       " 'A': ['c', 'b', 'end'],\n",
       " 'c': ['A'],\n",
       " 'b': ['A', 'd', 'end'],\n",
       " 'd': ['b'],\n",
       " 'end': ['A', 'b']}"
      ]
     },
     "execution_count": 4,
     "metadata": {},
     "output_type": "execute_result"
    }
   ],
   "source": [
    "mapping = get_path_map(test)\n",
    "mapping"
   ]
  },
  {
   "cell_type": "code",
   "execution_count": 5,
   "id": "82642806",
   "metadata": {},
   "outputs": [],
   "source": [
    "def find_path(graph, start=\"start\", end=\"end\", path=[]):\n",
    "    path = path + [start]\n",
    "    if start == end:\n",
    "        return [path]\n",
    "    if not start in graph:\n",
    "        return []\n",
    "    \n",
    "    paths=[]\n",
    "    for node in graph[start]:\n",
    "        if node not in path or node.isupper():\n",
    "            newpaths = find_path(graph, node, end, path)\n",
    "            for newpath in newpaths: \n",
    "                paths.append(newpath)\n",
    "    return paths"
   ]
  },
  {
   "cell_type": "code",
   "execution_count": 6,
   "id": "fd6cc448",
   "metadata": {},
   "outputs": [
    {
     "name": "stdout",
     "output_type": "stream",
     "text": [
      "4241\n"
     ]
    },
    {
     "data": {
      "text/plain": [
       "{'XN', 'th'}"
      ]
     },
     "execution_count": 6,
     "metadata": {},
     "output_type": "execute_result"
    }
   ],
   "source": [
    "mapping = get_path_map(data)\n",
    "paths = find_path(mapping)\n",
    "print(len(paths))\n",
    "all_nodes = set(mapping.keys())\n",
    "in_paths = set(sum(paths, []))\n",
    "all_nodes - in_paths"
   ]
  },
  {
   "cell_type": "code",
   "execution_count": 11,
   "id": "fe5e8409",
   "metadata": {},
   "outputs": [],
   "source": [
    "def find_path_pt2(graph, start=\"start\", end=\"end\", path=[]):\n",
    "    path = path + [start]\n",
    "    times_seen = Counter(path)\n",
    "    times_seen = {k: v for k, v in times_seen.items() if k.islower()}\n",
    "    if start == end:\n",
    "        return [path]\n",
    "    if not start in graph:\n",
    "        return []\n",
    "    \n",
    "    paths=[]\n",
    "    if start ==  \"start\":\n",
    "        num_seen = 0\n",
    "    \n",
    "    for node in graph[start]:\n",
    "        can_continue = False\n",
    "        if node not in path or node.isupper():\n",
    "            can_continue = True    \n",
    "        elif node.islower():\n",
    "            # any small cave visited more than once\n",
    "            if any(v for v in times_seen.values() if v > 1):\n",
    "                can_continue = False\n",
    "            else:\n",
    "                can_continue = True\n",
    "\n",
    "        if can_continue:\n",
    "\n",
    "            newpaths = find_path_pt2(graph, node, end, path)\n",
    "            for newpath in newpaths: \n",
    "                paths.append(newpath)\n",
    "    return paths"
   ]
  },
  {
   "cell_type": "code",
   "execution_count": 17,
   "id": "c2d4737d",
   "metadata": {},
   "outputs": [
    {
     "data": {
      "text/plain": [
       "122134"
      ]
     },
     "execution_count": 17,
     "metadata": {},
     "output_type": "execute_result"
    }
   ],
   "source": [
    "mapping = get_path_map(data)\n",
    "paths = find_path_pt2(mapping)\n",
    "len(paths)"
   ]
  },
  {
   "cell_type": "code",
   "execution_count": null,
   "id": "0c4a78b9",
   "metadata": {},
   "outputs": [],
   "source": []
  },
  {
   "cell_type": "code",
   "execution_count": null,
   "id": "63e7ea3a",
   "metadata": {},
   "outputs": [],
   "source": []
  }
 ],
 "metadata": {
  "kernelspec": {
   "display_name": "Python 3 (ipykernel)",
   "language": "python",
   "name": "python3"
  },
  "language_info": {
   "codemirror_mode": {
    "name": "ipython",
    "version": 3
   },
   "file_extension": ".py",
   "mimetype": "text/x-python",
   "name": "python",
   "nbconvert_exporter": "python",
   "pygments_lexer": "ipython3",
   "version": "3.10.0"
  }
 },
 "nbformat": 4,
 "nbformat_minor": 5
}
