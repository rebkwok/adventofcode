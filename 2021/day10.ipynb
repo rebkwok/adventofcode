{
 "cells": [
  {
   "cell_type": "code",
   "execution_count": 66,
   "id": "b1a0911f",
   "metadata": {},
   "outputs": [],
   "source": [
    "from pathlib import Path\n",
    "from utils import read_input\n",
    "from collections import Counter\n",
    "import numpy as np\n",
    "from bresenham import bresenham\n",
    "from statistics import mean, median, mode\n",
    "from itertools import combinations, product\n",
    "from tqdm import tqdm"
   ]
  },
  {
   "cell_type": "code",
   "execution_count": 67,
   "id": "567648cc",
   "metadata": {},
   "outputs": [],
   "source": [
    "test = Path(\"input/day10/test.txt\")\n",
    "data = Path(\"input/day10/data.txt\")"
   ]
  },
  {
   "cell_type": "code",
   "execution_count": 68,
   "id": "7369219b",
   "metadata": {},
   "outputs": [],
   "source": [
    "opening = [\"[\", \"(\", \"<\", \"{\"]\n",
    "closing = [\"]\", \")\", \">\", \"}\"]\n",
    "scores = {\n",
    "    \")\": 3,\n",
    "    \"]\": 57,\n",
    "    \"}\": 1197,\n",
    "    \">\": 25137\n",
    "}"
   ]
  },
  {
   "cell_type": "code",
   "execution_count": 73,
   "id": "4ac94ec2",
   "metadata": {},
   "outputs": [],
   "source": [
    "def find_error(input_string):\n",
    "    stack = []\n",
    "    has_error = False\n",
    "    for char in input_string:\n",
    "        if char in opening:\n",
    "            # it's an opening, add it to the stack\n",
    "            stack.append(char)\n",
    "        elif char in closing:\n",
    "            # it's a closing, check if the last opening is a match\n",
    "            # find the position in the closing list of this closing character\n",
    "            closing_index = closing.index(char)\n",
    "            if not stack:\n",
    "                # if there's nothing in the stack, this must be a bad closing character\n",
    "                has_error = True\n",
    "            else:\n",
    "                # find the opening char that matches the closing char we've encountered\n",
    "                expected_opening = opening[closing_index]\n",
    "                # if this is a valid closing, the last stack item should be the expected opening\n",
    "                if expected_opening == stack[-1]:\n",
    "                    stack.pop()\n",
    "                else:\n",
    "                    has_error = True\n",
    "#                     print(f\"Error: expected {closing[opening.index(stack[-1])]} got {char}\")\n",
    "            if has_error:\n",
    "                return True, char\n",
    "    if stack:\n",
    "        # print(\"Incomplete\")\n",
    "        return None, None # incomplete\n",
    "        \n",
    "    else:\n",
    "        # print(\"Valid\")\n",
    "        return False, None\n",
    "        \n"
   ]
  },
  {
   "cell_type": "code",
   "execution_count": 74,
   "id": "cac5ba76",
   "metadata": {},
   "outputs": [],
   "source": [
    "def find_total_syntax_error_score(chunks):\n",
    "    illegals = list(filter(None, [find_error(chunk)[1] for chunk in chunks if find_error(chunk)[0] is True]))\n",
    "    illegal_counts = Counter(illegals)\n",
    "    syntax_error_scores = [scores[invalid] * count for invalid, count in illegal_counts.items()]\n",
    "    return sum(syntax_error_scores)"
   ]
  },
  {
   "cell_type": "code",
   "execution_count": 75,
   "id": "dc0456d2",
   "metadata": {},
   "outputs": [
    {
     "data": {
      "text/plain": [
       "26397"
      ]
     },
     "execution_count": 75,
     "metadata": {},
     "output_type": "execute_result"
    }
   ],
   "source": [
    "chunks = read_input(test)\n",
    "find_total_syntax_error_score(chunks)"
   ]
  },
  {
   "cell_type": "code",
   "execution_count": 76,
   "id": "44ee7087",
   "metadata": {},
   "outputs": [
    {
     "data": {
      "text/plain": [
       "240123"
      ]
     },
     "execution_count": 76,
     "metadata": {},
     "output_type": "execute_result"
    }
   ],
   "source": [
    "chunks = read_input(data)\n",
    "find_total_syntax_error_score(chunks)"
   ]
  },
  {
   "cell_type": "code",
   "execution_count": 79,
   "id": "32605aa8",
   "metadata": {},
   "outputs": [],
   "source": [
    "def find_incomplete_lines(chunks):\n",
    "     return [chunk for chunk in chunks if find_error(chunk)[0] is None]"
   ]
  },
  {
   "cell_type": "code",
   "execution_count": 80,
   "id": "c133999c",
   "metadata": {},
   "outputs": [
    {
     "data": {
      "text/plain": [
       "['[({(<(())[]>[[{[]{<()<>>',\n",
       " '[(()[<>])]({[<{<<[]>>(',\n",
       " '(((({<>}<{<{<>}{[]{[]{}',\n",
       " '{<[[]]>}<{[{[{[]{()[[[]',\n",
       " '<{([{{}}[<[[[<>{}]]]>[]]']"
      ]
     },
     "execution_count": 80,
     "metadata": {},
     "output_type": "execute_result"
    }
   ],
   "source": [
    "chunks = read_input(test)\n",
    "find_incomplete_lines(chunks)"
   ]
  },
  {
   "cell_type": "code",
   "execution_count": 93,
   "id": "ea584057",
   "metadata": {},
   "outputs": [],
   "source": [
    "def complete_line(input_string):\n",
    "    stack = []\n",
    "    \n",
    "    for char in input_string:\n",
    "        if char in opening:\n",
    "            # it's an opening, add it to the stack\n",
    "            stack.append(char)\n",
    "        elif char in closing:\n",
    "            # it's a closing, check if the last opening is a match\n",
    "            # find the position in the closing list of this closing character\n",
    "            closing_index = closing.index(char)\n",
    "            if stack:\n",
    "                # find the opening char that matches the closing char we've encountered\n",
    "                expected_opening = opening[closing_index]\n",
    "                # if this is a valid closing, the last stack item should be the expected opening\n",
    "                if expected_opening == stack[-1]:\n",
    "                    stack.pop()\n",
    "    \n",
    "    # To complete the line, we need to reverse the stack of opening charaters, and find their corresponding closing one\n",
    "    stack.reverse()\n",
    "    closing_stack = [closing[opening.index(ch)] for ch in stack]\n",
    "    \n",
    "    return ''.join(closing_stack)"
   ]
  },
  {
   "cell_type": "code",
   "execution_count": 97,
   "id": "9a3cf772",
   "metadata": {},
   "outputs": [],
   "source": [
    "scores1 = {\n",
    "    \")\": 1,\n",
    "    \"]\": 2,\n",
    "    \"}\": 3,\n",
    "    \">\": 4\n",
    "}\n",
    "def find_autocomplete_score(completion_string):\n",
    "    total = 0\n",
    "    for char in completion_string:\n",
    "        total *= 5\n",
    "        total += scores1[char]\n",
    "    return total"
   ]
  },
  {
   "cell_type": "code",
   "execution_count": 98,
   "id": "0c5eedc6",
   "metadata": {},
   "outputs": [
    {
     "name": "stdout",
     "output_type": "stream",
     "text": [
      "288957\n",
      "5566\n",
      "1480781\n",
      "995444\n",
      "294\n"
     ]
    }
   ],
   "source": [
    "incomplete = find_incomplete_lines(chunks)\n",
    "for line in incomplete:\n",
    "    completion_string = complete_line(line)\n",
    "    print(find_autocomplete_score(completion_string))"
   ]
  },
  {
   "cell_type": "code",
   "execution_count": 99,
   "id": "d2d8a7ea",
   "metadata": {},
   "outputs": [],
   "source": [
    "def autocomplete_winner(chunks):\n",
    "    incomplete = find_incomplete_lines(chunks)\n",
    "    all_scores = [\n",
    "        find_autocomplete_score(complete_line(line)) for line in incomplete\n",
    "    ]\n",
    "    return median(all_scores)"
   ]
  },
  {
   "cell_type": "code",
   "execution_count": 100,
   "id": "ba59f63a",
   "metadata": {},
   "outputs": [
    {
     "data": {
      "text/plain": [
       "288957"
      ]
     },
     "execution_count": 100,
     "metadata": {},
     "output_type": "execute_result"
    }
   ],
   "source": [
    "chunks = read_input(test)\n",
    "autocomplete_winner(chunks)"
   ]
  },
  {
   "cell_type": "code",
   "execution_count": 101,
   "id": "f9b01e29",
   "metadata": {},
   "outputs": [
    {
     "data": {
      "text/plain": [
       "3260812321"
      ]
     },
     "execution_count": 101,
     "metadata": {},
     "output_type": "execute_result"
    }
   ],
   "source": [
    "chunks = read_input(data)\n",
    "autocomplete_winner(chunks)"
   ]
  },
  {
   "cell_type": "code",
   "execution_count": null,
   "id": "77a9ebcf",
   "metadata": {},
   "outputs": [],
   "source": []
  }
 ],
 "metadata": {
  "kernelspec": {
   "display_name": "Python 3 (ipykernel)",
   "language": "python",
   "name": "python3"
  },
  "language_info": {
   "codemirror_mode": {
    "name": "ipython",
    "version": 3
   },
   "file_extension": ".py",
   "mimetype": "text/x-python",
   "name": "python",
   "nbconvert_exporter": "python",
   "pygments_lexer": "ipython3",
   "version": "3.10.0"
  }
 },
 "nbformat": 4,
 "nbformat_minor": 5
}
