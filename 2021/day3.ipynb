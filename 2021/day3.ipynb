{
 "cells": [
  {
   "cell_type": "code",
   "execution_count": 199,
   "id": "b1a0911f",
   "metadata": {},
   "outputs": [],
   "source": [
    "from pathlib import Path\n",
    "from utils import read_input\n",
    "from collections import Counter"
   ]
  },
  {
   "cell_type": "code",
   "execution_count": 200,
   "id": "567648cc",
   "metadata": {},
   "outputs": [],
   "source": [
    "test = Path(\"input/day3/test.txt\")\n",
    "data = Path(\"input/day3/data.txt\")"
   ]
  },
  {
   "cell_type": "code",
   "execution_count": 201,
   "id": "974f37cd",
   "metadata": {},
   "outputs": [],
   "source": [
    "def bitwise_report(report):\n",
    "    report = [[int(item) for item in line] for line in report]\n",
    "    return list(zip(*report))"
   ]
  },
  {
   "cell_type": "code",
   "execution_count": 202,
   "id": "df89cfaf",
   "metadata": {},
   "outputs": [],
   "source": [
    "def bitwise_counter(report):\n",
    "    bw_report = bitwise_report(report)\n",
    "    return {i: Counter(line) for i, line in enumerate(bw_report)}"
   ]
  },
  {
   "cell_type": "code",
   "execution_count": 203,
   "id": "230f3fe7",
   "metadata": {},
   "outputs": [],
   "source": [
    "def gamma(bitwise_counter):\n",
    "    binary = ''.join([\n",
    "        str(counter.most_common()[0][0]) for counter in bitwise_counter.values()\n",
    "    ])\n",
    "    return int(binary, 2)"
   ]
  },
  {
   "cell_type": "code",
   "execution_count": 204,
   "id": "57529ca9",
   "metadata": {},
   "outputs": [],
   "source": [
    "def epsilon(bitwise_counter):\n",
    "    binary = ''.join([\n",
    "        str(counter.most_common()[1][0]) for counter in bitwise_counter.values()\n",
    "    ])\n",
    "    return int(binary, 2)"
   ]
  },
  {
   "cell_type": "code",
   "execution_count": 205,
   "id": "a4182d9e",
   "metadata": {},
   "outputs": [],
   "source": [
    "def power_consumption(input):\n",
    "    report = read_input(input)\n",
    "    counter = bitwise_counter(report)\n",
    "    g = gamma(counter)\n",
    "    e = epsilon(counter)\n",
    "    return g * e"
   ]
  },
  {
   "cell_type": "code",
   "execution_count": 206,
   "id": "342bb729",
   "metadata": {},
   "outputs": [
    {
     "data": {
      "text/plain": [
       "198"
      ]
     },
     "execution_count": 206,
     "metadata": {},
     "output_type": "execute_result"
    }
   ],
   "source": [
    "power_consumption(test)"
   ]
  },
  {
   "cell_type": "code",
   "execution_count": 207,
   "id": "7f058e34",
   "metadata": {},
   "outputs": [
    {
     "data": {
      "text/plain": [
       "3320834"
      ]
     },
     "execution_count": 207,
     "metadata": {},
     "output_type": "execute_result"
    }
   ],
   "source": [
    "power_consumption(data)"
   ]
  },
  {
   "cell_type": "code",
   "execution_count": 208,
   "id": "1b6d9c07",
   "metadata": {},
   "outputs": [],
   "source": [
    "def filter_data(data, rating_type, bit_index=0):\n",
    "    if len(data) == 1:\n",
    "        return int(data[0], 2)\n",
    "    bw_report = bitwise_report(data)\n",
    "    this_bit = bw_report[bit_index]\n",
    "    counter = bitwise_counter(data)\n",
    "    \n",
    "    most_common = counter[bit_index].most_common()\n",
    "    \n",
    "    if rating_type == \"oxygen\":\n",
    "        target_bit = most_common[0][0]\n",
    "        default_bit = 1\n",
    "    else:\n",
    "        target_bit = most_common[1][0]\n",
    "        default_bit = 0\n",
    "\n",
    "    equal = most_common[0][1] == most_common[1][1]\n",
    "    \n",
    "    new_data = []\n",
    "    for i, bit in enumerate(this_bit):\n",
    "        if equal:\n",
    "            if bit == default_bit:\n",
    "                new_data.append(data[i])\n",
    "        elif bit == target_bit:\n",
    "            new_data.append(data[i])\n",
    "    return filter_data(new_data, rating_type, bit_index + 1)"
   ]
  },
  {
   "cell_type": "code",
   "execution_count": 209,
   "id": "c0b304c7",
   "metadata": {},
   "outputs": [
    {
     "data": {
      "text/plain": [
       "230"
      ]
     },
     "execution_count": 209,
     "metadata": {},
     "output_type": "execute_result"
    }
   ],
   "source": [
    "test_data = read_input(test)\n",
    "ox = filter_data(test_data, \"oxygen\")\n",
    "co = filter_data(test_data, \"co2\")\n",
    "ox * co"
   ]
  },
  {
   "cell_type": "code",
   "execution_count": 210,
   "id": "f8e3965d",
   "metadata": {},
   "outputs": [
    {
     "data": {
      "text/plain": [
       "4481199"
      ]
     },
     "execution_count": 210,
     "metadata": {},
     "output_type": "execute_result"
    }
   ],
   "source": [
    "input_data = read_input(data)\n",
    "ox = filter_data(input_data, \"oxygen\")\n",
    "co = filter_data(input_data, \"co2\")\n",
    "ox * co"
   ]
  }
 ],
 "metadata": {
  "kernelspec": {
   "display_name": "Python 3 (ipykernel)",
   "language": "python",
   "name": "python3"
  },
  "language_info": {
   "codemirror_mode": {
    "name": "ipython",
    "version": 3
   },
   "file_extension": ".py",
   "mimetype": "text/x-python",
   "name": "python",
   "nbconvert_exporter": "python",
   "pygments_lexer": "ipython3",
   "version": "3.10.0"
  }
 },
 "nbformat": 4,
 "nbformat_minor": 5
}
