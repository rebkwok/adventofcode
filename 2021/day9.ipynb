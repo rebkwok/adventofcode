{
 "cells": [
  {
   "cell_type": "code",
   "execution_count": 42,
   "id": "b1a0911f",
   "metadata": {},
   "outputs": [],
   "source": [
    "from pathlib import Path\n",
    "from utils import read_input\n",
    "from collections import Counter\n",
    "import numpy as np\n",
    "from bresenham import bresenham\n",
    "from statistics import mean, median, mode\n",
    "from itertools import combinations, product\n",
    "from tqdm import tqdm"
   ]
  },
  {
   "cell_type": "code",
   "execution_count": 2,
   "id": "567648cc",
   "metadata": {},
   "outputs": [],
   "source": [
    "test = Path(\"input/day9/test.txt\")\n",
    "test1 = Path(\"input/day9/test1.txt\")\n",
    "data = Path(\"input/day9/data.txt\")"
   ]
  },
  {
   "cell_type": "code",
   "execution_count": 3,
   "id": "15ba4a81",
   "metadata": {},
   "outputs": [],
   "source": [
    "def get_heightmap(input_file):\n",
    "    ht_map = read_input(input_file)\n",
    "    return [[int(pos) for pos in line] for line in ht_map]"
   ]
  },
  {
   "cell_type": "code",
   "execution_count": 4,
   "id": "7e5a4eb9",
   "metadata": {},
   "outputs": [],
   "source": [
    "def is_lower_than_surrounds(row_position, col_position, position_height, heightmap):\n",
    "    if position_height == 9:\n",
    "        return False\n",
    "    # make mask\n",
    "    row_count = len(heightmap)\n",
    "    column_count = len(heightmap[0])\n",
    "    mask = np.ones((row_count, column_count))\n",
    "    \n",
    "    for row in range(row_position - 1, row_position + 2):\n",
    "        if 0 <= row < row_count:\n",
    "            if (row, col_position) != (row_position, col_position):\n",
    "                mask[row][col_position] = 0\n",
    "    for col in range(col_position - 1, col_position + 2):\n",
    "        if 0 <= col < column_count:\n",
    "            if (row_position, col) != (row_position, col_position):\n",
    "                mask[row_position][col] = 0\n",
    "    \n",
    "    masked_array = np.ma.array(heightmap, mask=mask)\n",
    "    surrounds = masked_array[~masked_array.mask]\n",
    "    return position_height < min(surrounds)"
   ]
  },
  {
   "cell_type": "code",
   "execution_count": 5,
   "id": "f972087f",
   "metadata": {},
   "outputs": [],
   "source": [
    "def find_risk_levels(heightmap):\n",
    "    row_count = len(heightmap)\n",
    "    column_count = len(heightmap[0])\n",
    "    all_positions = product(range(row_count), range(column_count))\n",
    "    \n",
    "    for position in all_positions:\n",
    "        pos_r, pos_c = position\n",
    "        position_height = heightmap[pos_r][pos_c]\n",
    "        if is_lower_than_surrounds(pos_r, pos_c, position_height, heightmap):\n",
    "            yield 1 + position_height"
   ]
  },
  {
   "cell_type": "code",
   "execution_count": 6,
   "id": "5e39d608",
   "metadata": {},
   "outputs": [],
   "source": [
    "heightmap = get_heightmap(test)"
   ]
  },
  {
   "cell_type": "code",
   "execution_count": 7,
   "id": "3369a885",
   "metadata": {},
   "outputs": [
    {
     "data": {
      "text/plain": [
       "15"
      ]
     },
     "execution_count": 7,
     "metadata": {},
     "output_type": "execute_result"
    }
   ],
   "source": [
    "sum(find_risk_levels(heightmap))"
   ]
  },
  {
   "cell_type": "code",
   "execution_count": 8,
   "id": "024e0172",
   "metadata": {},
   "outputs": [],
   "source": [
    "heightmap = get_heightmap(data)"
   ]
  },
  {
   "cell_type": "code",
   "execution_count": 9,
   "id": "b8423ec1",
   "metadata": {},
   "outputs": [],
   "source": [
    "#sum(find_risk_levels(heightmap))"
   ]
  },
  {
   "cell_type": "code",
   "execution_count": 43,
   "id": "22e275db",
   "metadata": {},
   "outputs": [],
   "source": [
    "def find_basin(heightmap, to_check=None, checked=None):\n",
    "    checked = checked or set()\n",
    "    to_check = to_check or []\n",
    "    \n",
    "    if not to_check:\n",
    "        return checked\n",
    "    \n",
    "    new = set()\n",
    "    \n",
    "    while to_check:\n",
    "        row_position, col_position = to_check.pop()\n",
    "        checked.add((row_position, col_position))\n",
    "        \n",
    "        lower_row = row_position - 1\n",
    "        while lower_row >= 0:\n",
    "            new_point = (lower_row, col_position)\n",
    "            if heightmap[lower_row][col_position] == 9 or new_point in checked:\n",
    "                break\n",
    "            new.add(new_point)\n",
    "            lower_row -= 1\n",
    "\n",
    "        higher_row = row_position + 1\n",
    "        while higher_row < len(heightmap):\n",
    "            new_point = (higher_row, col_position)\n",
    "            if heightmap[higher_row][col_position] == 9 or new_point in checked:\n",
    "                break\n",
    "            new.add(new_point)\n",
    "            higher_row += 1\n",
    "\n",
    "        lower_col = col_position - 1\n",
    "        while lower_col >= 0:\n",
    "            new_point = (row_position, lower_col)\n",
    "            if heightmap[row_position][lower_col] == 9 or new_point in checked:\n",
    "                break\n",
    "            new.add(new_point)\n",
    "            lower_col -= 1\n",
    "\n",
    "        higher_col = col_position + 1\n",
    "        while higher_col < len(heightmap[0]):\n",
    "            new_point = (row_position, higher_col)\n",
    "            if heightmap[row_position][higher_col] == 9 or new_point in checked:\n",
    "                break\n",
    "            new.add(new_point)\n",
    "            higher_col += 1    \n",
    "    \n",
    "    checked.add((row_position, col_position))\n",
    "    return find_basin(heightmap, new, checked)"
   ]
  },
  {
   "cell_type": "code",
   "execution_count": 44,
   "id": "7b021a57",
   "metadata": {},
   "outputs": [],
   "source": [
    "heightmap = get_heightmap(test)"
   ]
  },
  {
   "cell_type": "code",
   "execution_count": 60,
   "id": "6dabc92d",
   "metadata": {},
   "outputs": [],
   "source": [
    "def find_3_largest_basins(heightmap):\n",
    "    low_points = []\n",
    "    row_count = len(heightmap)\n",
    "    column_count = len(heightmap[0])\n",
    "    all_positions = product(range(row_count), range(column_count))\n",
    "    \n",
    "    print(\"Finding low points\")\n",
    "    for position in tqdm(all_positions):\n",
    "        pos_r, pos_c = position\n",
    "        position_height = heightmap[pos_r][pos_c]\n",
    "        if is_lower_than_surrounds(pos_r, pos_c, position_height, heightmap):\n",
    "            low_points.append(position)\n",
    "            \n",
    "    print(\"Finding basins\")\n",
    "    basins = []\n",
    "    \n",
    "    for low_point in tqdm(low_points):\n",
    "        basin_size = len(find_basin(heightmap, [low_point]))\n",
    "        if len(basins) < 3:\n",
    "            basins.append(basin_size)\n",
    "        elif basin_size > min(basins):\n",
    "            basins.append(basin_size)\n",
    "            basins.sort(reverse=True)\n",
    "            basins.pop()\n",
    "    \n",
    "    return basins\n",
    "            "
   ]
  },
  {
   "cell_type": "code",
   "execution_count": 61,
   "id": "90b8deea",
   "metadata": {},
   "outputs": [
    {
     "name": "stdout",
     "output_type": "stream",
     "text": [
      "Finding low points\n"
     ]
    },
    {
     "name": "stderr",
     "output_type": "stream",
     "text": [
      "50it [00:00, 6812.70it/s]\n"
     ]
    },
    {
     "name": "stdout",
     "output_type": "stream",
     "text": [
      "Finding basins\n"
     ]
    },
    {
     "name": "stderr",
     "output_type": "stream",
     "text": [
      "100%|█████████████████████████████████████████████| 4/4 [00:00<00:00, 12576.62it/s]\n"
     ]
    },
    {
     "data": {
      "text/plain": [
       "[14, 9, 9]"
      ]
     },
     "execution_count": 61,
     "metadata": {},
     "output_type": "execute_result"
    }
   ],
   "source": [
    "heightmap = get_heightmap(test)\n",
    "find_3_largest_basins(heightmap)"
   ]
  },
  {
   "cell_type": "code",
   "execution_count": 62,
   "id": "19ac83e5",
   "metadata": {},
   "outputs": [
    {
     "name": "stdout",
     "output_type": "stream",
     "text": [
      "Finding low points\n"
     ]
    },
    {
     "name": "stderr",
     "output_type": "stream",
     "text": [
      "10000it [00:03, 2579.86it/s]\n"
     ]
    },
    {
     "name": "stdout",
     "output_type": "stream",
     "text": [
      "Finding basins\n"
     ]
    },
    {
     "name": "stderr",
     "output_type": "stream",
     "text": [
      "100%|█████████████████████████████████████████| 209/209 [00:00<00:00, 11560.04it/s]\n"
     ]
    },
    {
     "data": {
      "text/plain": [
       "[121, 116, 114]"
      ]
     },
     "execution_count": 62,
     "metadata": {},
     "output_type": "execute_result"
    }
   ],
   "source": [
    "heightmap = get_heightmap(data)\n",
    "find_3_largest_basins(heightmap)"
   ]
  },
  {
   "cell_type": "code",
   "execution_count": 63,
   "id": "dad697b6",
   "metadata": {},
   "outputs": [
    {
     "data": {
      "text/plain": [
       "1600104"
      ]
     },
     "execution_count": 63,
     "metadata": {},
     "output_type": "execute_result"
    }
   ],
   "source": [
    "121*116*114"
   ]
  },
  {
   "cell_type": "code",
   "execution_count": null,
   "id": "7369219b",
   "metadata": {},
   "outputs": [],
   "source": []
  }
 ],
 "metadata": {
  "kernelspec": {
   "display_name": "Python 3 (ipykernel)",
   "language": "python",
   "name": "python3"
  },
  "language_info": {
   "codemirror_mode": {
    "name": "ipython",
    "version": 3
   },
   "file_extension": ".py",
   "mimetype": "text/x-python",
   "name": "python",
   "nbconvert_exporter": "python",
   "pygments_lexer": "ipython3",
   "version": "3.10.0"
  }
 },
 "nbformat": 4,
 "nbformat_minor": 5
}
