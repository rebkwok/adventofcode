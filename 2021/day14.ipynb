{
 "cells": [
  {
   "cell_type": "code",
   "execution_count": 1,
   "id": "b1a0911f",
   "metadata": {},
   "outputs": [],
   "source": [
    "from pathlib import Path\n",
    "from utils import read_input\n",
    "from collections import Counter\n",
    "import numpy as np\n",
    "from bresenham import bresenham\n",
    "from statistics import mean, median, mode\n",
    "from itertools import combinations, product, pairwise\n",
    "from tqdm import tqdm\n",
    "import pandas as pd\n",
    "from rich import print\n",
    "import matplotlib.pyplot as plt"
   ]
  },
  {
   "cell_type": "code",
   "execution_count": 2,
   "id": "567648cc",
   "metadata": {},
   "outputs": [],
   "source": [
    "test = Path(\"input/day14/test.txt\")\n",
    "test1 = Path(\"input/day14/test1.txt\")\n",
    "test2 = Path(\"input/day14/test2.txt\")\n",
    "data = Path(\"input/day14/data.txt\")"
   ]
  },
  {
   "cell_type": "code",
   "execution_count": 145,
   "id": "04669d7c",
   "metadata": {},
   "outputs": [],
   "source": [
    "def get_template_and_rules(inputfile):\n",
    "    raw = read_input(inputfile)\n",
    "    template = raw[0]\n",
    "    rules = {}\n",
    "    for row in raw[1:]:\n",
    "        if row:\n",
    "            key, insert = row.split('->')\n",
    "            key = key.strip()\n",
    "            insert = insert.strip()\n",
    "            rules[key] = tuple([f\"{key[0]}{insert}\", f\"{insert}{key[1]}\"])\n",
    "    return template, rules\n",
    "            "
   ]
  },
  {
   "cell_type": "code",
   "execution_count": 146,
   "id": "828dea17",
   "metadata": {},
   "outputs": [],
   "source": [
    "template, rules = get_template_and_rules(test)"
   ]
  },
  {
   "cell_type": "code",
   "execution_count": 147,
   "id": "015443d5",
   "metadata": {},
   "outputs": [],
   "source": [
    "def do_insertion(template, rules, steps=1):\n",
    "    \n",
    "    pairs = pairwise(template)\n",
    "    pairs_counter = Counter([\"\".join(pair) for pair in pairs])\n",
    "    for step in range(steps):\n",
    "        new_counter = {}\n",
    "        \n",
    "        for pair in pairs_counter:\n",
    "            new_pairs = rules[pair]\n",
    "            parent_pair_count = pairs_counter[pair]\n",
    "            for new_pair in new_pairs:                    \n",
    "                if new_pair in new_counter:\n",
    "                    new_counter[new_pair] += parent_pair_count\n",
    "                else:\n",
    "                    new_counter[new_pair] = parent_pair_count\n",
    "        pairs_counter = new_counter\n",
    "                               \n",
    "    return pairs_counter\n",
    "\n",
    "def find_most_and_least_common(pair_counts, last):\n",
    "    letter_counts = Counter()\n",
    "    for k, v in pair_counts.items():\n",
    "        letter_counts.setdefault(k[0], 0)\n",
    "        letter_counts[k[0]] += v\n",
    "    letter_counts[last] += 1\n",
    "    most_common = letter_counts.most_common()\n",
    "    return most_common[0], most_common[-1]\n",
    "\n",
    "    "
   ]
  },
  {
   "cell_type": "code",
   "execution_count": 152,
   "id": "1e8aa605",
   "metadata": {},
   "outputs": [
    {
     "data": {
      "text/plain": [
       "2188189693529"
      ]
     },
     "execution_count": 152,
     "metadata": {},
     "output_type": "execute_result"
    }
   ],
   "source": [
    "template, rules = get_template_and_rules(test)\n",
    "pair_counts = do_insertion(template, rules, 40)\n",
    "first, last = template[0], template[-1]\n",
    "most, least = find_most_and_least_common(pair_counts, last)\n",
    "most[1] - least[1]"
   ]
  },
  {
   "cell_type": "code",
   "execution_count": 154,
   "id": "3d159c4f",
   "metadata": {},
   "outputs": [
    {
     "data": {
      "text/plain": [
       "2926813379532"
      ]
     },
     "execution_count": 154,
     "metadata": {},
     "output_type": "execute_result"
    }
   ],
   "source": [
    "template, rules = get_template_and_rules(data)\n",
    "pair_counts = do_insertion(template, rules, 40)\n",
    "first, last = template[0], template[-1]\n",
    "most, least = find_most_and_least_common(pair_counts, last)\n",
    "most[1] - least[1]"
   ]
  }
 ],
 "metadata": {
  "kernelspec": {
   "display_name": "Python 3 (ipykernel)",
   "language": "python",
   "name": "python3"
  },
  "language_info": {
   "codemirror_mode": {
    "name": "ipython",
    "version": 3
   },
   "file_extension": ".py",
   "mimetype": "text/x-python",
   "name": "python",
   "nbconvert_exporter": "python",
   "pygments_lexer": "ipython3",
   "version": "3.10.0"
  }
 },
 "nbformat": 4,
 "nbformat_minor": 5
}
