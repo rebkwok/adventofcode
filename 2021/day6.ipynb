{
 "cells": [
  {
   "cell_type": "code",
   "execution_count": 3,
   "id": "b1a0911f",
   "metadata": {},
   "outputs": [],
   "source": [
    "from pathlib import Path\n",
    "from utils import read_input\n",
    "from collections import Counter\n",
    "import numpy as np\n",
    "from bresenham import bresenham"
   ]
  },
  {
   "cell_type": "code",
   "execution_count": 4,
   "id": "567648cc",
   "metadata": {},
   "outputs": [],
   "source": [
    "test = Path(\"input/day6/test.txt\")\n",
    "data = Path(\"couinput/day6/data.txt\")"
   ]
  },
  {
   "cell_type": "code",
   "execution_count": 5,
   "id": "a67a385e",
   "metadata": {},
   "outputs": [],
   "source": [
    "test_input = read_input(test)"
   ]
  },
  {
   "cell_type": "code",
   "execution_count": 7,
   "id": "5ecfa96e",
   "metadata": {},
   "outputs": [],
   "source": [
    "def start_state(input):\n",
    "    read_in = read_input(input)\n",
    "    assert len(read_in) == 1\n",
    "    state = read_in[0]\n",
    "    state = [int(num) for num in state.split(',')]\n",
    "    return state"
   ]
  },
  {
   "cell_type": "code",
   "execution_count": 98,
   "id": "97f8dfb5",
   "metadata": {},
   "outputs": [],
   "source": [
    "def count_fish(state, number_of_days):\n",
    "    counter = Counter(state)\n",
    "    for i in range(1, number_of_days + 1):\n",
    "        \n",
    "        new_counter = Counter()\n",
    "        \n",
    "        for fish_age in counter:\n",
    "            if fish_age == 0:\n",
    "                new_counter[6] += counter[0]\n",
    "                new_counter[8] += counter[0]\n",
    "            if fish_age > 0:\n",
    "                new_counter[fish_age - 1] += counter[fish_age]\n",
    "        counter = new_counter\n",
    "    print(sum(counter.values()))"
   ]
  },
  {
   "cell_type": "code",
   "execution_count": 100,
   "id": "59dac458",
   "metadata": {},
   "outputs": [
    {
     "name": "stdout",
     "output_type": "stream",
     "text": [
      "26984457539\n"
     ]
    }
   ],
   "source": [
    "state = start_state(test)\n",
    "count_fish(state, 256)"
   ]
  },
  {
   "cell_type": "code",
   "execution_count": 102,
   "id": "024d5d2f",
   "metadata": {},
   "outputs": [
    {
     "name": "stdout",
     "output_type": "stream",
     "text": [
      "1595779846729\n"
     ]
    }
   ],
   "source": [
    "state = start_state(data)\n",
    "count_fish(state, 256)"
   ]
  },
  {
   "cell_type": "code",
   "execution_count": null,
   "id": "98aefec5",
   "metadata": {},
   "outputs": [],
   "source": []
  }
 ],
 "metadata": {
  "kernelspec": {
   "display_name": "Python 3 (ipykernel)",
   "language": "python",
   "name": "python3"
  },
  "language_info": {
   "codemirror_mode": {
    "name": "ipython",
    "version": 3
   },
   "file_extension": ".py",
   "mimetype": "text/x-python",
   "name": "python",
   "nbconvert_exporter": "python",
   "pygments_lexer": "ipython3",
   "version": "3.10.0"
  }
 },
 "nbformat": 4,
 "nbformat_minor": 5
}
